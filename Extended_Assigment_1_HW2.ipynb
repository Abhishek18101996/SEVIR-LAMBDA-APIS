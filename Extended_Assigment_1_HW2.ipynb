{
 "cells": [
  {
   "cell_type": "markdown",
   "id": "bdc0726c",
   "metadata": {},
   "source": [
    "## Extended Assignment 1 - Optimising Decision Tree Classifiers using Hyper parameter Tuning\n",
    "\n",
    "\n",
    "Created on Friday Jan 27\n",
    "\n",
    "@author: Abhishek Shankar, Abhishek Jaiswal, Devesh Surve\n",
    "\n",
    "\n",
    "The Input dataset is data extracted from weather stations around Lake Michigan, We have compiled all 3 datasets from NOAA into a single dataframe. "
   ]
  },
  {
   "cell_type": "markdown",
   "id": "e5166fe3-a044-4c74-a075-e8139a953a06",
   "metadata": {},
   "source": [
    "## Importing required packages"
   ]
  },
  {
   "cell_type": "code",
   "execution_count": 1,
   "id": "b79a11ef-2c8f-45dd-8294-8d0c03e9571f",
   "metadata": {
    "execution": {
     "iopub.execute_input": "2023-01-19T23:02:47.551616Z",
     "iopub.status.busy": "2023-01-19T23:02:47.551355Z",
     "iopub.status.idle": "2023-01-19T23:02:48.516355Z",
     "shell.execute_reply": "2023-01-19T23:02:48.515910Z",
     "shell.execute_reply.started": "2023-01-19T23:02:47.551583Z"
    },
    "tags": []
   },
   "outputs": [],
   "source": [
    "import os\n",
    "from pprint import pprint\n",
    "import pandas as pd\n",
    "import numpy as np \n",
    "from collections import Counter\n",
    "import dateutil\n",
    "import sys\n",
    "from sklearn.model_selection import train_test_split\n",
    "from sklearn.metrics import f1_score\n",
    "from sklearn.tree import DecisionTreeClassifier\n",
    "from sklearn import tree\n",
    "import graphviz\n",
    "from sklearn.ensemble import RandomForestClassifier\n",
    "from sklearn import tree\n",
    "from sklearn.ensemble import RandomForestRegressor\n",
    "from sklearn import metrics\n",
    "from sklearn.model_selection import train_test_split\n",
    "from sklearn.metrics import mean_absolute_error,r2_score,mean_squared_error\n",
    "from sklearn.metrics import roc_curve, auc\n",
    "import matplotlib.pyplot as plt\n",
    "import cv2\n",
    "%matplotlib inline\n",
    "from sklearn.tree import export_graphviz\n",
    "from sklearn import metrics\n",
    "from sklearn.model_selection import train_test_split\n",
    "from sklearn import decomposition, datasets\n",
    "from sklearn.pipeline import Pipeline\n",
    "from sklearn.model_selection import GridSearchCV\n",
    "from sklearn.preprocessing import StandardScaler\n",
    "wd = os.getcwd()"
   ]
  },
  {
   "cell_type": "markdown",
   "id": "87f0efd9-8d75-48b0-8d1d-ab52b23025d1",
   "metadata": {},
   "source": [
    "## Reading data"
   ]
  },
  {
   "cell_type": "code",
   "execution_count": 2,
   "id": "01545608-627b-4f55-809a-4cea9c218c6c",
   "metadata": {
    "execution": {
     "iopub.execute_input": "2023-01-19T23:02:48.517845Z",
     "iopub.status.busy": "2023-01-19T23:02:48.517645Z",
     "iopub.status.idle": "2023-01-19T23:02:48.582838Z",
     "shell.execute_reply": "2023-01-19T23:02:48.582480Z",
     "shell.execute_reply.started": "2023-01-19T23:02:48.517831Z"
    },
    "tags": []
   },
   "outputs": [
    {
     "name": "stdout",
     "output_type": "stream",
     "text": [
      "13106\n"
     ]
    }
   ],
   "source": [
    "data = pd.DataFrame()\n",
    "for files in os.listdir():\n",
    "    if ((files.endswith(\".csv\")) & (\"2013\" in files)):\n",
    "        f1 = pd.read_csv(files)\n",
    "        data = pd.concat([data,f1])\n",
    "\n",
    "print(len(data))"
   ]
  },
  {
   "cell_type": "markdown",
   "id": "062921f1",
   "metadata": {},
   "source": [
    "# Data Preprocessing "
   ]
  },
  {
   "cell_type": "markdown",
   "id": "18a223b9-6213-41da-a1e7-45e18ef1996a",
   "metadata": {},
   "source": [
    "## Removing columns which are not required"
   ]
  },
  {
   "cell_type": "code",
   "execution_count": 3,
   "id": "0d774f25-ec10-48d1-a454-444d8847be45",
   "metadata": {
    "execution": {
     "iopub.execute_input": "2023-01-19T23:02:48.583513Z",
     "iopub.status.busy": "2023-01-19T23:02:48.583387Z",
     "iopub.status.idle": "2023-01-19T23:02:48.602424Z",
     "shell.execute_reply": "2023-01-19T23:02:48.602003Z",
     "shell.execute_reply.started": "2023-01-19T23:02:48.583500Z"
    },
    "tags": []
   },
   "outputs": [],
   "source": [
    "df = data.copy()\n",
    "df.columns = [\"LES_Cloud_Exists\" if x=='LES_Exist' else x for x in df.columns ]\n",
    "df = df[[x for x in df.columns if (('time' not in x.lower()))]]\n",
    "df = df[[x for x in df.columns if (('utc' not in x.lower()))]]\n",
    "df = df[[x for x in df.columns if (('cst' not in x.lower()))]]\n"
   ]
  },
  {
   "cell_type": "markdown",
   "id": "60542702-610f-498d-b664-589658420747",
   "metadata": {},
   "source": [
    "## Removing NaN values and replacing N and Y with 0 and 1\n",
    "All columns are converted to numeric data types. After initial preprocessing of the dataset we perform some EDA to check the NaN values and the need for imputing values."
   ]
  },
  {
   "cell_type": "code",
   "execution_count": 4,
   "id": "b5855af3-77c3-49fb-b705-09d3fa1beff3",
   "metadata": {
    "execution": {
     "iopub.execute_input": "2023-01-19T23:02:48.603209Z",
     "iopub.status.busy": "2023-01-19T23:02:48.603077Z",
     "iopub.status.idle": "2023-01-19T23:02:48.716174Z",
     "shell.execute_reply": "2023-01-19T23:02:48.715740Z",
     "shell.execute_reply.started": "2023-01-19T23:02:48.603196Z"
    },
    "tags": []
   },
   "outputs": [
    {
     "name": "stdout",
     "output_type": "stream",
     "text": [
      "###### Count of LESnowfall ######\n",
      "12517\n",
      "577\n",
      "###### Percentage of NaN ######\n",
      "Heat Index (F)          99.977089\n",
      "High Cloud Ht (ft)      90.476554\n",
      "Peak Wind Gust(mph)     80.326867\n",
      "Med Cloud Ht (ft)       67.908966\n",
      "Wind Chill (F)          24.392852\n",
      "Low Cloud Ht (ft)       21.857339\n",
      "Sea Lev Press (hPa)      6.231862\n",
      "Precip (in)              4.712082\n",
      "Centroid_lon             0.893539\n",
      "Centroid_lat             0.893539\n",
      "Kurtosis_lat             0.893539\n",
      "Kurtosis_lon             0.893539\n",
      "Skewness_lat             0.893539\n",
      "Skewness_lon             0.893539\n",
      "Std_lat                  0.893539\n",
      "Std_lon                  0.893539\n",
      "Sample Number            0.893539\n",
      "Mean                     0.893539\n",
      "Wind Direction (deg)     0.649152\n",
      "RH (%)                   0.626241\n",
      "Dewpt (F)                0.626241\n",
      "Temp (F)                 0.542233\n",
      "Wind Spd (mph)           0.198564\n",
      "Atm Press (hPa)          0.122193\n",
      "Visibility (mi)          0.061097\n",
      "LES_Cloud_Exists         0.000000\n",
      "Date                     0.000000\n",
      "Lake_Visible             0.000000\n",
      "LESnowfall               0.000000\n",
      "dtype: float64\n"
     ]
    }
   ],
   "source": [
    "df.iloc[:,-1] = np.where(df.iloc[:,-1].astype(str).str.lower()=='y',1,0)\n",
    "df.iloc[:,-2] = np.where(df.iloc[:,-2].astype(str).str.lower()=='y',1,0)\n",
    "\n",
    "df.iloc[:,1:] = df.iloc[:,1:].apply(lambda x : pd.to_numeric(x , errors = 'coerce'))\n",
    "df = df.dropna(axis=1, how='all')\n",
    "df = df.dropna(axis=0, subset=['Date'])\n",
    "df.head()\n",
    "df['Precip (in)'] = pd.to_numeric(df['Precip (in)'],errors ='coerce')\n",
    "df['Temp (F)'] = pd.to_numeric(df['Temp (F)'], errors = 'coerce')\n",
    "\n",
    "df['LESnowfall'] = np.where(((df['Precip (in)'] > 0) & (df['Temp (F)'] <= 32)),1,0)\n",
    "print(\"###### Count of LESnowfall ######\")\n",
    "print(len(df[df[\"LESnowfall\"]==0]))\n",
    "print(len(df[df[\"LESnowfall\"]==1]))\n",
    "print(\"###### Percentage of NaN ######\")\n",
    "print(df.isnull().sum().sort_values(ascending=False) * 100 / len(df))"
   ]
  },
  {
   "cell_type": "markdown",
   "id": "b1f6be5b",
   "metadata": {},
   "source": [
    "## Imputing Values for NaNs\n",
    "Based on the following criteria NaNs are dropped or imputed with the mean value of the column.\n",
    "\n",
    "1. Columns with NaNs > 30 % are dropped\n",
    "2. Columns with NaNs > 1% and < 30% are imputed\n",
    "3. Rows from columns containing NaNs < 1% are dropped."
   ]
  },
  {
   "cell_type": "code",
   "execution_count": 5,
   "id": "40efdbef",
   "metadata": {
    "execution": {
     "iopub.execute_input": "2023-01-19T23:02:48.716913Z",
     "iopub.status.busy": "2023-01-19T23:02:48.716792Z",
     "iopub.status.idle": "2023-01-19T23:02:48.957723Z",
     "shell.execute_reply": "2023-01-19T23:02:48.957268Z",
     "shell.execute_reply.started": "2023-01-19T23:02:48.716900Z"
    }
   },
   "outputs": [
    {
     "name": "stdout",
     "output_type": "stream",
     "text": [
      "Mean                    0.893539\n",
      "Kurtosis_lon            0.893539\n",
      "Skewness_lon            0.893539\n",
      "Std_lat                 0.893539\n",
      "Std_lon                 0.893539\n",
      "Centroid_lat            0.893539\n",
      "Centroid_lon            0.893539\n",
      "Kurtosis_lat            0.893539\n",
      "Sample Number           0.893539\n",
      "Skewness_lat            0.893539\n",
      "Wind Direction (deg)    0.649152\n",
      "Dewpt (F)               0.626241\n",
      "RH (%)                  0.626241\n",
      "Temp (F)                0.542233\n",
      "Wind Spd (mph)          0.198564\n",
      "Atm Press (hPa)         0.122193\n",
      "Visibility (mi)         0.061097\n",
      "LES_Cloud_Exists        0.000000\n",
      "Lake_Visible            0.000000\n",
      "Date                    0.000000\n",
      "Wind Chill (F)          0.000000\n",
      "Precip (in)             0.000000\n",
      "Sea Lev Press (hPa)     0.000000\n",
      "Low Cloud Ht (ft)       0.000000\n",
      "LESnowfall              0.000000\n",
      "dtype: float64\n",
      "###### Percentage of NaN After Cleaning up ######\n",
      "Date                    0.0\n",
      "Centroid_lon            0.0\n",
      "LES_Cloud_Exists        0.0\n",
      "Lake_Visible            0.0\n",
      "Sample Number           0.0\n",
      "Kurtosis_lat            0.0\n",
      "Kurtosis_lon            0.0\n",
      "Skewness_lat            0.0\n",
      "Skewness_lon            0.0\n",
      "Std_lat                 0.0\n",
      "Std_lon                 0.0\n",
      "Centroid_lat            0.0\n",
      "Mean                    0.0\n",
      "Temp (F)                0.0\n",
      "Wind Chill (F)          0.0\n",
      "Precip (in)             0.0\n",
      "Sea Lev Press (hPa)     0.0\n",
      "Atm Press (hPa)         0.0\n",
      "Visibility (mi)         0.0\n",
      "Low Cloud Ht (ft)       0.0\n",
      "Wind Direction (deg)    0.0\n",
      "Wind Spd (mph)          0.0\n",
      "Dewpt (F)               0.0\n",
      "RH (%)                  0.0\n",
      "LESnowfall              0.0\n",
      "dtype: float64\n"
     ]
    }
   ],
   "source": [
    "drop = pd.DataFrame(df.isnull().sum().sort_values(ascending=False) * 100 / len(df)).reset_index()\n",
    "cols = drop[drop.iloc[:,-1] > 30].iloc[:,0].to_list()\n",
    "df = df[[x for x in df.columns if x not in cols]]\n",
    "nancols = drop[((drop.iloc[:,-1] > 1) & (drop.iloc[:,-1] < 30)) ].iloc[:,0].to_list()\n",
    "values = df.filter(nancols).mean()\n",
    "df[nancols]=df[nancols].fillna(value = values.iloc[0])\n",
    "print(df.isnull().sum().sort_values(ascending=False) * 100 / len(df))\n",
    "df = df.dropna(axis=0)\n",
    "print(\"###### Percentage of NaN After Cleaning up ######\")\n",
    "print(df.isnull().sum().sort_values(ascending=False) * 100 / len(df))\n",
    "df.to_csv(wd+\"/Pythoncode/Input_Dataset.csv\",index=False)"
   ]
  },
  {
   "cell_type": "code",
   "execution_count": 6,
   "id": "dd134be7-9922-44ea-87c6-4a82ba0c6ead",
   "metadata": {
    "execution": {
     "iopub.execute_input": "2023-01-19T23:02:48.958365Z",
     "iopub.status.busy": "2023-01-19T23:02:48.958239Z",
     "iopub.status.idle": "2023-01-19T23:02:48.962181Z",
     "shell.execute_reply": "2023-01-19T23:02:48.961795Z",
     "shell.execute_reply.started": "2023-01-19T23:02:48.958353Z"
    },
    "tags": []
   },
   "outputs": [
    {
     "name": "stdout",
     "output_type": "stream",
     "text": [
      "12226\n",
      "574\n"
     ]
    }
   ],
   "source": [
    "print(len(df[df[\"LESnowfall\"]==0]))\n",
    "print(len(df[df[\"LESnowfall\"]==1]))"
   ]
  },
  {
   "cell_type": "markdown",
   "id": "69921065-2063-4514-b20a-82c249cf33cd",
   "metadata": {},
   "source": [
    "## Adding simple ML library to python path"
   ]
  },
  {
   "cell_type": "code",
   "execution_count": 7,
   "id": "9a79212f-81c2-40f7-a679-5ec5af2a7fad",
   "metadata": {
    "execution": {
     "iopub.execute_input": "2023-01-19T23:02:48.964434Z",
     "iopub.status.busy": "2023-01-19T23:02:48.964291Z",
     "iopub.status.idle": "2023-01-19T23:02:48.980795Z",
     "shell.execute_reply": "2023-01-19T23:02:48.980379Z",
     "shell.execute_reply.started": "2023-01-19T23:02:48.964422Z"
    },
    "tags": []
   },
   "outputs": [],
   "source": [
    "\n",
    "sys.path.append(wd+'/Pythoncode/')\n",
    "\n",
    "import simple_ml\n",
    "\n",
    "e_data = df.iloc[:,1:].values.tolist()\n",
    "import simple_ml"
   ]
  },
  {
   "cell_type": "markdown",
   "id": "fd84589c-1cbc-45c5-9904-6a32cb1df635",
   "metadata": {},
   "source": [
    "## Calculating the entropy for the target column"
   ]
  },
  {
   "cell_type": "code",
   "execution_count": 8,
   "id": "a40757bf-b8ab-41c7-b051-631393212405",
   "metadata": {
    "execution": {
     "iopub.execute_input": "2023-01-19T23:02:48.981736Z",
     "iopub.status.busy": "2023-01-19T23:02:48.981570Z",
     "iopub.status.idle": "2023-01-19T23:02:48.990977Z",
     "shell.execute_reply": "2023-01-19T23:02:48.989677Z",
     "shell.execute_reply.started": "2023-01-19T23:02:48.981720Z"
    },
    "tags": []
   },
   "outputs": [
    {
     "name": "stdout",
     "output_type": "stream",
     "text": [
      "entropy(LESSnow) = \n",
      "  - p(0.0) x log(p(0.0), 2)  =  - 0.955 x log(0.955)  =  -0.063\n",
      "  - p(1.0) x log(p(1.0), 2)  =  - 0.045 x log(0.045)  =  -0.201\n",
      "  = 0.264\n"
     ]
    },
    {
     "data": {
      "text/plain": [
       "0.2640759512130957"
      ]
     },
     "execution_count": 8,
     "metadata": {},
     "output_type": "execute_result"
    }
   ],
   "source": [
    "simple_ml.entropy(e_data, -1, \"LESSnow\")"
   ]
  },
  {
   "cell_type": "code",
   "execution_count": 9,
   "id": "43ebe61a-0e41-4432-a06c-9ea7e2148b22",
   "metadata": {
    "execution": {
     "iopub.execute_input": "2023-01-19T23:02:48.996213Z",
     "iopub.status.busy": "2023-01-19T23:02:48.995640Z",
     "iopub.status.idle": "2023-01-19T23:02:49.013722Z",
     "shell.execute_reply": "2023-01-19T23:02:49.013301Z",
     "shell.execute_reply.started": "2023-01-19T23:02:48.996189Z"
    },
    "tags": []
   },
   "outputs": [
    {
     "name": "stdout",
     "output_type": "stream",
     "text": [
      "('Temp (F)', 63.0)\n",
      "('RH (%)', 80.0)\n",
      "('Dewpt (F)', 57.0)\n",
      "('Wind Spd (mph)', 10.0)\n",
      "('Wind Direction (deg)', 210.0)\n",
      "('Low Cloud Ht (ft)', 15.684646464646464)\n",
      "('Visibility (mi)', 10.0)\n",
      "('Atm Press (hPa)', 988.1)\n",
      "('Sea Lev Press (hPa)', 1012.4)\n",
      "('Precip (in)', 0.0)\n",
      "('Wind Chill (F)', 15.684646464646464)\n",
      "('Mean', 0.002174504)\n",
      "('Centroid_lon', -86.72815026)\n",
      "('Centroid_lat', 43.94443176)\n",
      "('Std_lon', 0.670232465)\n",
      "('Std_lat', 1.239065248)\n",
      "('Skewness_lon', 0.660356987)\n",
      "('Skewness_lat', 0.030174609)\n",
      "('Kurtosis_lon', 2.863913)\n",
      "('Kurtosis_lat', 1.68989867)\n",
      "('Sample Number', 4.0)\n",
      "('Lake_Visible', 0.0)\n",
      "('LES_Cloud_Exists', 0.0)\n",
      "('LESnowfall', 0.0)\n"
     ]
    }
   ],
   "source": [
    "attribute_names = list(df.columns[1:])\n",
    "e_data = df.iloc[:,1:].values.tolist()\n",
    "\n",
    "for i in zip(attribute_names, e_data[0]):\n",
    "    print(i)"
   ]
  },
  {
   "cell_type": "markdown",
   "id": "4cdb7215",
   "metadata": {},
   "source": [
    "## Calculating the entropy for all columns"
   ]
  },
  {
   "cell_type": "code",
   "execution_count": 10,
   "id": "56b6c1c5-bbdc-439e-a6df-5c8783def3aa",
   "metadata": {
    "execution": {
     "iopub.execute_input": "2023-01-19T23:02:49.014755Z",
     "iopub.status.busy": "2023-01-19T23:02:49.014576Z",
     "iopub.status.idle": "2023-01-19T23:02:49.223193Z",
     "shell.execute_reply": "2023-01-19T23:02:49.222803Z",
     "shell.execute_reply.started": "2023-01-19T23:02:49.014740Z"
    },
    "tags": []
   },
   "outputs": [
    {
     "name": "stdout",
     "output_type": "stream",
     "text": [
      "Information gain for different attributes:\n",
      "\n",
      "0.221  19 Kurtosis_lat\n",
      "0.221  18 Kurtosis_lon\n",
      "0.221  17 Skewness_lat\n",
      "0.221  16 Skewness_lon\n",
      "0.221  15 Std_lat\n",
      "0.221  14 Std_lon\n",
      "0.221  13 Centroid_lat\n",
      "0.221  12 Centroid_lon\n",
      "0.221  11 Mean\n",
      "0.191   9 Precip (in)\n",
      "0.111   6 Visibility (mi)\n",
      "0.063   5 Low Cloud Ht (ft)\n",
      "0.047   0 Temp (F)\n",
      "0.045   1 RH (%)\n",
      "0.034  10 Wind Chill (F)\n",
      "0.032   2 Dewpt (F)\n",
      "0.031   8 Sea Lev Press (hPa)\n",
      "0.026   7 Atm Press (hPa)\n",
      "0.020   4 Wind Direction (deg)\n",
      "0.003   3 Wind Spd (mph)\n",
      "0.000  22 LES_Cloud_Exists\n",
      "0.000  20 Sample Number\n",
      "0.000  21 Lake_Visible\n"
     ]
    },
    {
     "data": {
      "text/plain": [
       "23"
      ]
     },
     "execution_count": 10,
     "metadata": {},
     "output_type": "execute_result"
    }
   ],
   "source": [
    "print('Information gain for different attributes:', end='\\n\\n')\n",
    "sorted_information_gain_indexes = sorted([(simple_ml.information_gain(e_data, i, 23), i)\n",
    "                                          for i in range(0, len(attribute_names)-1)], \n",
    "                                         reverse=True)\n",
    "for gain, i in sorted_information_gain_indexes:\n",
    "    print('{:5.3f}  {:2} {}'.format(gain, i, attribute_names[i]))\n",
    "    \n",
    "len(sorted_information_gain_indexes)"
   ]
  },
  {
   "cell_type": "code",
   "execution_count": 11,
   "id": "50b8f426-bc4b-4b84-a453-2a952eeeb23b",
   "metadata": {
    "execution": {
     "iopub.execute_input": "2023-01-19T23:02:49.224133Z",
     "iopub.status.busy": "2023-01-19T23:02:49.223788Z",
     "iopub.status.idle": "2023-01-19T23:02:49.426869Z",
     "shell.execute_reply": "2023-01-19T23:02:49.426506Z",
     "shell.execute_reply.started": "2023-01-19T23:02:49.224117Z"
    },
    "tags": []
   },
   "outputs": [
    {
     "data": {
      "text/plain": [
       "['0.047   0 Temp (F)',\n",
       " '0.045   1 RH (%)',\n",
       " '0.032   2 Dewpt (F)',\n",
       " '0.003   3 Wind Spd (mph)',\n",
       " '0.020   4 Wind Direction (deg)',\n",
       " '0.063   5 Low Cloud Ht (ft)',\n",
       " '0.111   6 Visibility (mi)',\n",
       " '0.026   7 Atm Press (hPa)',\n",
       " '0.031   8 Sea Lev Press (hPa)',\n",
       " '0.191   9 Precip (in)',\n",
       " '0.034  10 Wind Chill (F)',\n",
       " '0.221  11 Mean',\n",
       " '0.221  12 Centroid_lon',\n",
       " '0.221  13 Centroid_lat',\n",
       " '0.221  14 Std_lon',\n",
       " '0.221  15 Std_lat',\n",
       " '0.221  16 Skewness_lon',\n",
       " '0.221  17 Skewness_lat',\n",
       " '0.221  18 Kurtosis_lon',\n",
       " '0.221  19 Kurtosis_lat',\n",
       " '0.000  20 Sample Number',\n",
       " '0.000  21 Lake_Visible',\n",
       " '0.000  22 LES_Cloud_Exists',\n",
       " '0.264  23 LESnowfall']"
      ]
     },
     "execution_count": 11,
     "metadata": {},
     "output_type": "execute_result"
    }
   ],
   "source": [
    "# info_gain = sorted(['{:5.3f}  {:2} {}'.format(simple_ml.information_gain(e_data, i, 18), i, values) for i,values in enumerate(df.columns[1:])], reverse = True)\n",
    "info_gain = ['{:5.3f}  {:2} {}'.format(simple_ml.information_gain(e_data, i, 23), i, values) for i,values in enumerate(df.columns[1:])]\n",
    "info_gain"
   ]
  },
  {
   "cell_type": "markdown",
   "id": "42852e70",
   "metadata": {},
   "source": [
    "## Prof Dino's Simple ML function modified for current dataset"
   ]
  },
  {
   "cell_type": "markdown",
   "id": "e197aac7",
   "metadata": {},
   "source": [
    "Since, the dataset have numerical values only, it makes more sense to update function 'split_instances' under the simple_ml file  which was originally designed with respect to categorical features.<br><br>\n",
    "In brief, this function helps us create partitions of dataset which helps in forming branching nodes(or the decision nodes) of the tree. Like based on specific value the branch will go to either left child node or right child node.<br>"
   ]
  },
  {
   "cell_type": "code",
   "execution_count": 12,
   "id": "c393499f",
   "metadata": {
    "execution": {
     "iopub.execute_input": "2023-01-19T23:02:49.427650Z",
     "iopub.status.busy": "2023-01-19T23:02:49.427526Z",
     "iopub.status.idle": "2023-01-19T23:02:49.430377Z",
     "shell.execute_reply": "2023-01-19T23:02:49.430042Z",
     "shell.execute_reply.started": "2023-01-19T23:02:49.427638Z"
    }
   },
   "outputs": [],
   "source": [
    "from collections import defaultdict\n",
    "\n",
    "def split_instances(instances, attribute_index):\n",
    "    '''Returns a list of dictionaries, splitting a list of instances \n",
    "        according to their values of a specified attribute index\n",
    "    \n",
    "    The key of each dictionary is a distinct value of attribute_index,\n",
    "    and the value of each dictionary is a list representing \n",
    "       the subset of instances that have that value for the attribute\n",
    "    '''\n",
    "    partitions = defaultdict(list)\n",
    "    for instance in instances:\n",
    "        partitions[instance[attribute_index]].append(instance)\n",
    "    return partitions"
   ]
  },
  {
   "cell_type": "markdown",
   "id": "8f3b89f5",
   "metadata": {},
   "source": [
    "Above is the split_instances function designed by professor to perform branching. We have modified this function to incorporate the branching of attributes based on their continous values. "
   ]
  },
  {
   "cell_type": "code",
   "execution_count": 13,
   "id": "5ca647c6",
   "metadata": {
    "execution": {
     "iopub.execute_input": "2023-01-19T23:02:49.430980Z",
     "iopub.status.busy": "2023-01-19T23:02:49.430867Z",
     "iopub.status.idle": "2023-01-19T23:02:49.436015Z",
     "shell.execute_reply": "2023-01-19T23:02:49.435687Z",
     "shell.execute_reply.started": "2023-01-19T23:02:49.430968Z"
    }
   },
   "outputs": [],
   "source": [
    "def split_instances(instances, attribute_index, colnames):\n",
    "    '''Returns a list of dictionaries, splitting a list of instances \n",
    "        according to their values of a specified attribute index\n",
    "\n",
    "    The key of each dictionary is a distinct value of attribute_index,\n",
    "    anda= the value of each dictionary is a list representing \n",
    "       the subset of instances that have that value for the attribute\n",
    "    '''\n",
    "    partitions = defaultdict(list)\n",
    "    colnames = list(pd.read_csv(\"Input_Dataset.csv\").columns)\n",
    "    final_df = pd.DataFrame(instances,columns=colnames[1:-1])\n",
    "\n",
    "    col_name = final_df.columns[attribute_index]\n",
    "    print(col_name)\n",
    "    \n",
    "    if len(final_df[col_name].value_counts()) > 4:\n",
    "        mini,maxi = min(final_df[col_name]),max(final_df[col_name])\n",
    "        n = len(final_df)//10  #chunk row size\n",
    "        test = final_df.sort_values(by=[col_name])\n",
    "        # import pdb;pdb.set_trace()\n",
    "        if n == 0:\n",
    "            index = col_name + 'last'\n",
    "            partitions[index] = test.values.tolist()\n",
    "        elif len(test[col_name].value_counts()) < 4:\n",
    "            for partition in final_df[col_name].unique():\n",
    "                ls = final_df.loc[(final_df[col_name] == partition)].values.tolist()\n",
    "                index = col_name + f'{partition}'\n",
    "                partitions[index] = (ls)            \n",
    "        else:\n",
    "            for i in range(0,test.shape[0],n):\n",
    "                # list_df = [test[i:i+n] ]\n",
    "                a,b = min(test[i:i+n][col_name]),max(test[i:i+n][col_name])\n",
    "                index = col_name + f'{a} to {b}'\n",
    "                partitions[index]=test[i:i+n].values.tolist()\n",
    "    else:\n",
    "        ## partitioning using unique values\n",
    "        for partition in final_df[col_name].unique():\n",
    "            ls = final_df.loc[(final_df[col_name] == partition)].values.tolist()\n",
    "            index = col_name + f'{partition}'\n",
    "            partitions[index] = (ls)            \n",
    "\n",
    "    return partitions"
   ]
  },
  {
   "cell_type": "markdown",
   "id": "4c9d8d34",
   "metadata": {},
   "source": [
    "In the modified code above, we are partitioning the continous attributes by dividing them into 10 bins of equal length. Whereas for columns which have less than or equal to 4 unique values, the partitioning is performed using professor's code."
   ]
  },
  {
   "cell_type": "markdown",
   "id": "febbcb9f",
   "metadata": {},
   "source": [
    "### Running the create_decision_tree function with modified split_instances function. "
   ]
  },
  {
   "cell_type": "code",
   "execution_count": 14,
   "id": "944c22ef",
   "metadata": {
    "execution": {
     "iopub.execute_input": "2023-01-19T23:02:49.436774Z",
     "iopub.status.busy": "2023-01-19T23:02:49.436645Z",
     "iopub.status.idle": "2023-01-19T23:02:49.468738Z",
     "shell.execute_reply": "2023-01-19T23:02:49.468366Z",
     "shell.execute_reply.started": "2023-01-19T23:02:49.436761Z"
    }
   },
   "outputs": [],
   "source": [
    "x =[i[:-1] for i in e_data] \n",
    "y= [i[-1] for i in e_data]\n",
    "X_train, X_test, y_train, y_test = train_test_split(x, y, random_state=42)\n",
    "training_instances = []\n",
    "test_instances = []\n",
    "for i,j in zip(list(X_train),list(y_train)):\n",
    "    list(i).append(j)\n",
    "    training_instances.append(list(i))\n",
    "for i,j in zip(list(X_test),list(y_test)):\n",
    "    list(i).append(j)\n",
    "    test_instances.append(list(i))"
   ]
  },
  {
   "cell_type": "code",
   "execution_count": 15,
   "id": "abbea83e",
   "metadata": {
    "execution": {
     "iopub.execute_input": "2023-01-19T23:02:49.469546Z",
     "iopub.status.busy": "2023-01-19T23:02:49.469371Z",
     "iopub.status.idle": "2023-01-19T23:02:49.473214Z",
     "shell.execute_reply": "2023-01-19T23:02:49.472250Z",
     "shell.execute_reply.started": "2023-01-19T23:02:49.469528Z"
    }
   },
   "outputs": [
    {
     "data": {
      "text/plain": [
       "{}"
      ]
     },
     "execution_count": 15,
     "metadata": {},
     "output_type": "execute_result"
    }
   ],
   "source": [
    "dict()"
   ]
  },
  {
   "cell_type": "code",
   "execution_count": 16,
   "id": "69779232",
   "metadata": {
    "execution": {
     "iopub.execute_input": "2023-01-19T23:02:49.474723Z",
     "iopub.status.busy": "2023-01-19T23:02:49.474306Z",
     "iopub.status.idle": "2023-01-19T23:02:51.562836Z",
     "shell.execute_reply": "2023-01-19T23:02:51.562399Z",
     "shell.execute_reply.started": "2023-01-19T23:02:49.474706Z"
    }
   },
   "outputs": [
    {
     "name": "stdout",
     "output_type": "stream",
     "text": [
      "class -1\n",
      "> Creating tree node for attribute index 0\n",
      "best_index 0\n",
      "Temp (F)\n",
      "> Creating subtree for value Temp (F)-16.0 to 9.0 (960, 22, -1, 0.0)\n",
      "class -1\n",
      "> > Creating tree node for attribute index 19\n",
      "best_index 19\n",
      "Kurtosis_lat\n",
      "> > Creating subtree for value Kurtosis_lat1.533421540956232 to 1.6615799954304582 (96, 21, -1, 0.0)\n",
      "class -1\n",
      "> > > Creating tree node for attribute index 18\n",
      "best_index 18\n",
      "Kurtosis_lon\n",
      "> > > Creating subtree for value Kurtosis_lon2.537613014 to 2.5996764532653835 (9, 20, -1, 0.0)\n",
      "class -1\n",
      "< < < < All 9 instances have label 0.0\n",
      "> > > Creating subtree for value Kurtosis_lon2.5996764532653835 to 2.7572305298012463 (9, 20, -1, 0.0)\n",
      "class -1\n",
      "< < < < All 9 instances have label 0.0\n",
      "> > > Creating subtree for value Kurtosis_lon2.757776674 to 2.776643931261824 (9, 20, -1, 0.0)\n",
      "class -1\n",
      "< < < < All 9 instances have label 0.0\n",
      "> > > Creating subtree for value Kurtosis_lon2.7854147715364306 to 2.8162355991807204 (9, 20, -1, 0.0)\n",
      "class -1\n",
      "> > > > Creating tree node for attribute index 17\n",
      "best_index 17\n",
      "Skewness_lat\n",
      "> > > > Creating subtree for value Skewness_latlast (9, 19, -1, 0.0)\n",
      "class -1\n",
      "> > > > > Creating tree node for attribute index 16\n",
      "best_index 16\n",
      "Skewness_lon\n",
      "> > > > > Creating subtree for value Skewness_lonlast (9, 18, -1, 0.0)\n",
      "class -1\n",
      "> > > > > > Creating tree node for attribute index 15\n",
      "best_index 15\n",
      "Std_lat\n",
      "> > > > > > Creating subtree for value Std_latlast (9, 17, -1, 0.0)\n",
      "class -1\n",
      "> > > > > > > Creating tree node for attribute index 14\n",
      "best_index 14\n",
      "Std_lon\n",
      "> > > > > > > Creating subtree for value Std_lonlast (9, 16, -1, 0.0)\n",
      "class -1\n",
      "> > > > > > > > Creating tree node for attribute index 13\n",
      "best_index 13\n",
      "Centroid_lat\n",
      "> > > > > > > > Creating subtree for value Centroid_latlast (9, 15, -1, 0.0)\n",
      "class -1\n",
      "> > > > > > > > > Creating tree node for attribute index 12\n",
      "best_index 12\n",
      "Centroid_lon\n",
      "> > > > > > > > > Creating subtree for value Centroid_lonlast (9, 14, -1, 0.0)\n",
      "class -1\n",
      "> > > > > > > > > > Creating tree node for attribute index 11\n",
      "best_index 11\n",
      "Mean\n",
      "> > > > > > > > > > Creating subtree for value Meanlast (9, 13, -1, 0.0)\n",
      "class -1\n",
      "> > > > > > > > > > > Creating tree node for attribute index 10\n",
      "best_index 10\n",
      "Wind Chill (F)\n",
      "> > > > > > > > > > > Creating subtree for value Wind Chill (F)last (9, 12, -1, 0.0)\n",
      "class -1\n",
      "> > > > > > > > > > > > Creating tree node for attribute index 8\n",
      "best_index 8\n",
      "Sea Lev Press (hPa)\n",
      "> > > > > > > > > > > > Creating subtree for value Sea Lev Press (hPa)last (9, 11, -1, 0.0)\n",
      "class -1\n",
      "> > > > > > > > > > > > > Creating tree node for attribute index 5\n",
      "best_index 5\n",
      "Low Cloud Ht (ft)\n",
      "> > > > > > > > > > > > > Creating subtree for value Low Cloud Ht (ft)last (9, 10, -1, 0.0)\n",
      "class -1\n",
      "> > > > > > > > > > > > > > Creating tree node for attribute index 4\n",
      "best_index 4\n",
      "Wind Direction (deg)\n",
      "> > > > > > > > > > > > > > Creating subtree for value Wind Direction (deg)last (9, 9, -1, 0.0)\n",
      "class -1\n",
      "> > > > > > > > > > > > > > > Creating tree node for attribute index 2\n",
      "best_index 2\n",
      "Dewpt (F)\n",
      "> > > > > > > > > > > > > > > Creating subtree for value Dewpt (F)last (9, 8, -1, 0.0)\n",
      "class -1\n",
      "> > > > > > > > > > > > > > > > Creating tree node for attribute index 7\n",
      "best_index 7\n",
      "Atm Press (hPa)\n",
      "> > > > > > > > > > > > > > > > Creating subtree for value Atm Press (hPa)last (9, 7, -1, 0.0)\n",
      "class -1\n",
      "> > > > > > > > > > > > > > > > > Creating tree node for attribute index 1\n",
      "best_index 1\n",
      "RH (%)\n",
      "> > > > > > > > > > > > > > > > > Creating subtree for value RH (%)last (9, 6, -1, 0.0)\n",
      "class -1\n",
      "> > > > > > > > > > > > > > > > > > Creating tree node for attribute index 3\n",
      "best_index 3\n",
      "Wind Spd (mph)\n",
      "> > > > > > > > > > > > > > > > > > Creating subtree for value Wind Spd (mph)last (9, 5, -1, 0.0)\n",
      "class -1\n",
      "> > > > > > > > > > > > > > > > > > > Creating tree node for attribute index 20\n",
      "best_index 20\n",
      "Sample Number\n",
      "> > > > > > > > > > > > > > > > > > > Creating subtree for value Sample Number3.0 (6, 4, -1, 0.0)\n",
      "class -1\n",
      "< < < < < < < < < < < < < < < < < < < < All 6 instances have label 0.0\n",
      "> > > > > > > > > > > > > > > > > > > Creating subtree for value Sample Number4.0 (3, 4, -1, 0.0)\n",
      "class -1\n",
      "> > > > > > > > > > > > > > > > > > > > Creating tree node for attribute index 22\n",
      "best_index 22\n",
      "LES_Cloud_Exists\n",
      "> > > > > > > > > > > > > > > > > > > > Creating subtree for value LES_Cloud_Exists0.0 (2, 3, -1, 0.0)\n",
      "class -1\n",
      "< < < < < < < < < < < < < < < < < < < < < All 2 instances have label 0.0\n",
      "> > > > > > > > > > > > > > > > > > > > Creating subtree for value LES_Cloud_Exists1.0 (1, 3, -1, 0.0)\n",
      "class -1\n",
      "< < < < < < < < < < < < < < < < < < < < < All 1 instances have label 1.0\n",
      "> > > Creating subtree for value Kurtosis_lon2.825566987 to 2.851560354907739 (9, 20, -1, 0.0)\n",
      "class -1\n",
      "< < < < All 9 instances have label 0.0\n",
      "> > > Creating subtree for value Kurtosis_lon2.851560354907739 to 2.8859758152377792 (9, 20, -1, 0.0)\n",
      "class -1\n",
      "> > > > Creating tree node for attribute index 17\n",
      "best_index 17\n",
      "Skewness_lat\n",
      "> > > > Creating subtree for value Skewness_latlast (9, 19, -1, 0.0)\n",
      "class -1\n",
      "> > > > > Creating tree node for attribute index 16\n",
      "best_index 16\n",
      "Skewness_lon\n",
      "> > > > > Creating subtree for value Skewness_lonlast (9, 18, -1, 0.0)\n",
      "class -1\n",
      "> > > > > > Creating tree node for attribute index 15\n",
      "best_index 15\n",
      "Std_lat\n",
      "> > > > > > Creating subtree for value Std_latlast (9, 17, -1, 0.0)\n",
      "class -1\n",
      "> > > > > > > Creating tree node for attribute index 14\n",
      "best_index 14\n",
      "Std_lon\n",
      "> > > > > > > Creating subtree for value Std_lonlast (9, 16, -1, 0.0)\n",
      "class -1\n",
      "> > > > > > > > Creating tree node for attribute index 13\n",
      "best_index 13\n",
      "Centroid_lat\n",
      "> > > > > > > > Creating subtree for value Centroid_latlast (9, 15, -1, 0.0)\n",
      "class -1\n",
      "> > > > > > > > > Creating tree node for attribute index 12\n",
      "best_index 12\n",
      "Centroid_lon\n",
      "> > > > > > > > > Creating subtree for value Centroid_lonlast (9, 14, -1, 0.0)\n",
      "class -1\n",
      "> > > > > > > > > > Creating tree node for attribute index 11\n",
      "best_index 11\n",
      "Mean\n",
      "> > > > > > > > > > Creating subtree for value Meanlast (9, 13, -1, 0.0)\n",
      "class -1\n",
      "> > > > > > > > > > > Creating tree node for attribute index 8\n",
      "best_index 8\n",
      "Sea Lev Press (hPa)\n",
      "> > > > > > > > > > > Creating subtree for value Sea Lev Press (hPa)last (9, 12, -1, 0.0)\n",
      "class -1\n",
      "> > > > > > > > > > > > Creating tree node for attribute index 10\n",
      "best_index 10\n",
      "Wind Chill (F)\n",
      "> > > > > > > > > > > > Creating subtree for value Wind Chill (F)last (9, 11, -1, 0.0)\n",
      "class -1\n",
      "> > > > > > > > > > > > > Creating tree node for attribute index 7\n",
      "best_index 7\n",
      "Atm Press (hPa)\n",
      "> > > > > > > > > > > > > Creating subtree for value Atm Press (hPa)last (9, 10, -1, 0.0)\n",
      "class -1\n",
      "> > > > > > > > > > > > > > Creating tree node for attribute index 3\n",
      "best_index 3\n",
      "Wind Spd (mph)\n",
      "> > > > > > > > > > > > > > Creating subtree for value Wind Spd (mph)last (9, 9, -1, 0.0)\n",
      "class -1\n",
      "> > > > > > > > > > > > > > > Creating tree node for attribute index 2\n",
      "best_index 2\n",
      "Dewpt (F)\n",
      "> > > > > > > > > > > > > > > Creating subtree for value Dewpt (F)last (9, 8, -1, 0.0)\n",
      "class -1\n",
      "> > > > > > > > > > > > > > > > Creating tree node for attribute index 1\n",
      "best_index 1\n",
      "RH (%)\n",
      "> > > > > > > > > > > > > > > > Creating subtree for value RH (%)last (9, 7, -1, 0.0)\n",
      "class -1\n",
      "> > > > > > > > > > > > > > > > > Creating tree node for attribute index 4\n",
      "best_index 4\n",
      "Wind Direction (deg)\n",
      "> > > > > > > > > > > > > > > > > Creating subtree for value Wind Direction (deg)last (9, 6, -1, 0.0)\n",
      "class -1\n",
      "> > > > > > > > > > > > > > > > > > Creating tree node for attribute index 5\n",
      "best_index 5\n",
      "Low Cloud Ht (ft)\n",
      "> > > > > > > > > > > > > > > > > > Creating subtree for value Low Cloud Ht (ft)last (9, 5, -1, 0.0)\n",
      "class -1\n",
      "> > > > > > > > > > > > > > > > > > > Creating tree node for attribute index 6\n",
      "best_index 6\n",
      "Visibility (mi)\n",
      "> > > > > > > > > > > > > > > > > > > Creating subtree for value Visibility (mi)10.0 (6, 4, -1, 0.0)\n",
      "class -1\n",
      "> > > > > > > > > > > > > > > > > > > > Creating tree node for attribute index 22\n",
      "best_index 22\n",
      "LES_Cloud_Exists\n",
      "> > > > > > > > > > > > > > > > > > > > Creating subtree for value LES_Cloud_Exists0.0 (4, 3, -1, 0.0)\n",
      "class -1\n",
      "< < < < < < < < < < < < < < < < < < < < < All 4 instances have label 0.0\n",
      "> > > > > > > > > > > > > > > > > > > > Creating subtree for value LES_Cloud_Exists1.0 (2, 3, -1, 0.0)\n",
      "class -1\n",
      "< < < < < < < < < < < < < < < < < < < < < All 2 instances have label 1.0\n",
      "> > > > > > > > > > > > > > > > > > > Creating subtree for value Visibility (mi)2.0 (1, 4, -1, 0.0)\n",
      "class -1\n",
      "< < < < < < < < < < < < < < < < < < < < All 1 instances have label 0.0\n",
      "> > > > > > > > > > > > > > > > > > > Creating subtree for value Visibility (mi)9.0 (1, 4, -1, 0.0)\n",
      "class -1\n",
      "< < < < < < < < < < < < < < < < < < < < All 1 instances have label 0.0\n",
      "> > > > > > > > > > > > > > > > > > > Creating subtree for value Visibility (mi)4.0 (1, 4, -1, 0.0)\n",
      "class -1\n",
      "< < < < < < < < < < < < < < < < < < < < All 1 instances have label 0.0\n",
      "> > > Creating subtree for value Kurtosis_lon2.8859758152377792 to 2.9033558535637325 (9, 20, -1, 0.0)\n",
      "class -1\n",
      "< < < < All 9 instances have label 0.0\n",
      "> > > Creating subtree for value Kurtosis_lon2.903355854 to 2.940534127802419 (9, 20, -1, 0.0)\n",
      "class -1\n",
      "> > > > Creating tree node for attribute index 8\n",
      "best_index 8\n"
     ]
    },
    {
     "name": "stdout",
     "output_type": "stream",
     "text": [
      "Sea Lev Press (hPa)\n",
      "> > > > Creating subtree for value Sea Lev Press (hPa)last (9, 19, -1, 0.0)\n",
      "class -1\n",
      "> > > > > Creating tree node for attribute index 1\n",
      "best_index 1\n",
      "RH (%)\n",
      "> > > > > Creating subtree for value RH (%)last (9, 18, -1, 0.0)\n",
      "class -1\n",
      "> > > > > > Creating tree node for attribute index 10\n",
      "best_index 10\n",
      "Wind Chill (F)\n",
      "> > > > > > Creating subtree for value Wind Chill (F)last (9, 17, -1, 0.0)\n",
      "class -1\n",
      "> > > > > > > Creating tree node for attribute index 17\n",
      "best_index 17\n",
      "Skewness_lat\n",
      "> > > > > > > Creating subtree for value Skewness_latlast (9, 16, -1, 0.0)\n",
      "class -1\n",
      "> > > > > > > > Creating tree node for attribute index 16\n",
      "best_index 16\n",
      "Skewness_lon\n",
      "> > > > > > > > Creating subtree for value Skewness_lonlast (9, 15, -1, 0.0)\n",
      "class -1\n",
      "> > > > > > > > > Creating tree node for attribute index 15\n",
      "best_index 15\n",
      "Std_lat\n",
      "> > > > > > > > > Creating subtree for value Std_latlast (9, 14, -1, 0.0)\n",
      "class -1\n",
      "> > > > > > > > > > Creating tree node for attribute index 14\n",
      "best_index 14\n",
      "Std_lon\n",
      "> > > > > > > > > > Creating subtree for value Std_lonlast (9, 13, -1, 0.0)\n",
      "class -1\n",
      "> > > > > > > > > > > Creating tree node for attribute index 13\n",
      "best_index 13\n",
      "Centroid_lat\n",
      "> > > > > > > > > > > Creating subtree for value Centroid_latlast (9, 12, -1, 0.0)\n",
      "class -1\n",
      "> > > > > > > > > > > > Creating tree node for attribute index 12\n",
      "best_index 12\n",
      "Centroid_lon\n",
      "> > > > > > > > > > > > Creating subtree for value Centroid_lonlast (9, 11, -1, 0.0)\n",
      "class -1\n",
      "> > > > > > > > > > > > > Creating tree node for attribute index 11\n",
      "best_index 11\n",
      "Mean\n",
      "> > > > > > > > > > > > > Creating subtree for value Meanlast (9, 10, -1, 0.0)\n",
      "class -1\n",
      "> > > > > > > > > > > > > > Creating tree node for attribute index 7\n",
      "best_index 7\n",
      "Atm Press (hPa)\n",
      "> > > > > > > > > > > > > > Creating subtree for value Atm Press (hPa)last (9, 9, -1, 0.0)\n",
      "class -1\n",
      "> > > > > > > > > > > > > > > Creating tree node for attribute index 4\n",
      "best_index 4\n",
      "Wind Direction (deg)\n",
      "> > > > > > > > > > > > > > > Creating subtree for value Wind Direction (deg)last (9, 8, -1, 0.0)\n",
      "class -1\n",
      "> > > > > > > > > > > > > > > > Creating tree node for attribute index 3\n",
      "best_index 3\n",
      "Wind Spd (mph)\n",
      "> > > > > > > > > > > > > > > > Creating subtree for value Wind Spd (mph)last (9, 7, -1, 0.0)\n",
      "class -1\n",
      "> > > > > > > > > > > > > > > > > Creating tree node for attribute index 2\n",
      "best_index 2\n",
      "Dewpt (F)\n",
      "> > > > > > > > > > > > > > > > > Creating subtree for value Dewpt (F)last (9, 6, -1, 0.0)\n",
      "class -1\n",
      "> > > > > > > > > > > > > > > > > > Creating tree node for attribute index 6\n",
      "best_index 6\n",
      "Visibility (mi)\n",
      "> > > > > > > > > > > > > > > > > > Creating subtree for value Visibility (mi)last (9, 5, -1, 0.0)\n",
      "class -1\n",
      "> > > > > > > > > > > > > > > > > > > Creating tree node for attribute index 5\n",
      "best_index 5\n",
      "Low Cloud Ht (ft)\n",
      "> > > > > > > > > > > > > > > > > > > Creating subtree for value Low Cloud Ht (ft)last (9, 4, -1, 0.0)\n",
      "class -1\n",
      "> > > > > > > > > > > > > > > > > > > > Creating tree node for attribute index 22\n",
      "best_index 22\n",
      "LES_Cloud_Exists\n",
      "> > > > > > > > > > > > > > > > > > > > Creating subtree for value LES_Cloud_Exists0.0 (6, 3, -1, 0.0)\n",
      "class -1\n",
      "< < < < < < < < < < < < < < < < < < < < < All 6 instances have label 0.0\n",
      "> > > > > > > > > > > > > > > > > > > > Creating subtree for value LES_Cloud_Exists1.0 (3, 3, -1, 0.0)\n",
      "class -1\n",
      "< < < < < < < < < < < < < < < < < < < < < All 3 instances have label 1.0\n",
      "> > > Creating subtree for value Kurtosis_lon2.940534128 to 2.974918587587558 (9, 20, -1, 0.0)\n",
      "class -1\n",
      "> > > > Creating tree node for attribute index 17\n",
      "best_index 17\n",
      "Skewness_lat\n",
      "> > > > Creating subtree for value Skewness_latlast (9, 19, -1, 0.0)\n",
      "class -1\n",
      "> > > > > Creating tree node for attribute index 16\n",
      "best_index 16\n",
      "Skewness_lon\n",
      "> > > > > Creating subtree for value Skewness_lonlast (9, 18, -1, 0.0)\n",
      "class -1\n",
      "> > > > > > Creating tree node for attribute index 15\n",
      "best_index 15\n",
      "Std_lat\n",
      "> > > > > > Creating subtree for value Std_latlast (9, 17, -1, 0.0)\n",
      "class -1\n",
      "> > > > > > > Creating tree node for attribute index 14\n",
      "best_index 14\n",
      "Std_lon\n",
      "> > > > > > > Creating subtree for value Std_lonlast (9, 16, -1, 0.0)\n",
      "class -1\n",
      "> > > > > > > > Creating tree node for attribute index 13\n",
      "best_index 13\n",
      "Centroid_lat\n",
      "> > > > > > > > Creating subtree for value Centroid_latlast (9, 15, -1, 0.0)\n",
      "class -1\n",
      "> > > > > > > > > Creating tree node for attribute index 12\n",
      "best_index 12\n",
      "Centroid_lon\n",
      "> > > > > > > > > Creating subtree for value Centroid_lonlast (9, 14, -1, 0.0)\n",
      "class -1\n",
      "> > > > > > > > > > Creating tree node for attribute index 11\n",
      "best_index 11\n",
      "Mean\n",
      "> > > > > > > > > > Creating subtree for value Meanlast (9, 13, -1, 0.0)\n",
      "class -1\n",
      "> > > > > > > > > > > Creating tree node for attribute index 8\n",
      "best_index 8\n",
      "Sea Lev Press (hPa)\n",
      "> > > > > > > > > > > Creating subtree for value Sea Lev Press (hPa)last (9, 12, -1, 0.0)\n",
      "class -1\n",
      "> > > > > > > > > > > > Creating tree node for attribute index 7\n",
      "best_index 7\n",
      "Atm Press (hPa)\n",
      "> > > > > > > > > > > > Creating subtree for value Atm Press (hPa)last (9, 11, -1, 0.0)\n",
      "class -1\n",
      "> > > > > > > > > > > > > Creating tree node for attribute index 1\n",
      "best_index 1\n",
      "RH (%)\n",
      "> > > > > > > > > > > > > Creating subtree for value RH (%)last (9, 10, -1, 0.0)\n",
      "class -1\n",
      "> > > > > > > > > > > > > > Creating tree node for attribute index 10\n",
      "best_index 10\n",
      "Wind Chill (F)\n",
      "> > > > > > > > > > > > > > Creating subtree for value Wind Chill (F)last (9, 9, -1, 0.0)\n",
      "class -1\n",
      "> > > > > > > > > > > > > > > Creating tree node for attribute index 5\n",
      "best_index 5\n",
      "Low Cloud Ht (ft)\n",
      "> > > > > > > > > > > > > > > Creating subtree for value Low Cloud Ht (ft)last (9, 8, -1, 0.0)\n",
      "class -1\n",
      "> > > > > > > > > > > > > > > > Creating tree node for attribute index 2\n",
      "best_index 2\n",
      "Dewpt (F)\n",
      "> > > > > > > > > > > > > > > > Creating subtree for value Dewpt (F)last (9, 7, -1, 0.0)\n",
      "class -1\n",
      "> > > > > > > > > > > > > > > > > Creating tree node for attribute index 3\n",
      "best_index 3\n",
      "Wind Spd (mph)\n",
      "> > > > > > > > > > > > > > > > > Creating subtree for value Wind Spd (mph)last (9, 6, -1, 0.0)\n",
      "class -1\n",
      "> > > > > > > > > > > > > > > > > > Creating tree node for attribute index 4\n",
      "best_index 4\n",
      "Wind Direction (deg)\n",
      "> > > > > > > > > > > > > > > > > > Creating subtree for value Wind Direction (deg)last (9, 5, -1, 0.0)\n",
      "class -1\n",
      "> > > > > > > > > > > > > > > > > > > Creating tree node for attribute index 6\n",
      "best_index 6\n",
      "Visibility (mi)\n",
      "> > > > > > > > > > > > > > > > > > > Creating subtree for value Visibility (mi)9.0 (2, 4, -1, 0.0)\n",
      "class -1\n",
      "< < < < < < < < < < < < < < < < < < < < All 2 instances have label 0.0\n",
      "> > > > > > > > > > > > > > > > > > > Creating subtree for value Visibility (mi)10.0 (5, 4, -1, 0.0)\n",
      "class -1\n",
      "> > > > > > > > > > > > > > > > > > > > Creating tree node for attribute index 20\n",
      "best_index 20\n",
      "Sample Number\n",
      "> > > > > > > > > > > > > > > > > > > > Creating subtree for value Sample Number4.0 (2, 3, -1, 0.0)\n",
      "class -1\n",
      "< < < < < < < < < < < < < < < < < < < < < All 2 instances have label 0.0\n",
      "> > > > > > > > > > > > > > > > > > > > Creating subtree for value Sample Number3.0 (3, 3, -1, 0.0)\n",
      "class -1\n",
      "> > > > > > > > > > > > > > > > > > > > > Creating tree node for attribute index 22\n",
      "best_index 22\n",
      "LES_Cloud_Exists\n",
      "> > > > > > > > > > > > > > > > > > > > > Creating subtree for value LES_Cloud_Exists0.0 (2, 2, -1, 0.0)\n",
      "class -1\n",
      "< < < < < < < < < < < < < < < < < < < < < < All 2 instances have label 0.0\n",
      "> > > > > > > > > > > > > > > > > > > > > Creating subtree for value LES_Cloud_Exists1.0 (1, 2, -1, 0.0)\n",
      "class -1\n",
      "< < < < < < < < < < < < < < < < < < < < < < All 1 instances have label 1.0\n",
      "> > > > > > > > > > > > > > > > > > > Creating subtree for value Visibility (mi)7.0 (1, 4, -1, 0.0)\n",
      "class -1\n",
      "< < < < < < < < < < < < < < < < < < < < All 1 instances have label 0.0\n",
      "> > > > > > > > > > > > > > > > > > > Creating subtree for value Visibility (mi)1.0 (1, 4, -1, 0.0)\n",
      "class -1\n",
      "< < < < < < < < < < < < < < < < < < < < All 1 instances have label 0.0\n",
      "> > > Creating subtree for value Kurtosis_lon2.974918587587558 to 3.045256662 (9, 20, -1, 0.0)\n",
      "class -1\n",
      "> > > > Creating tree node for attribute index 10\n",
      "best_index 10\n",
      "Wind Chill (F)\n",
      "> > > > Creating subtree for value Wind Chill (F)last (9, 19, -1, 0.0)\n",
      "class -1\n",
      "> > > > > Creating tree node for attribute index 8\n",
      "best_index 8\n",
      "Sea Lev Press (hPa)\n",
      "> > > > > Creating subtree for value Sea Lev Press (hPa)last (9, 18, -1, 0.0)\n",
      "class -1\n",
      "> > > > > > Creating tree node for attribute index 7\n",
      "best_index 7\n",
      "Atm Press (hPa)\n",
      "> > > > > > Creating subtree for value Atm Press (hPa)last (9, 17, -1, 0.0)\n",
      "class -1\n",
      "> > > > > > > Creating tree node for attribute index 1\n",
      "best_index 1\n",
      "RH (%)\n",
      "> > > > > > > Creating subtree for value RH (%)last (9, 16, -1, 0.0)\n",
      "class -1\n",
      "> > > > > > > > Creating tree node for attribute index 17\n",
      "best_index 17\n",
      "Skewness_lat\n",
      "> > > > > > > > Creating subtree for value Skewness_latlast (9, 15, -1, 0.0)\n",
      "class -1\n",
      "> > > > > > > > > Creating tree node for attribute index 16\n",
      "best_index 16\n",
      "Skewness_lon\n",
      "> > > > > > > > > Creating subtree for value Skewness_lonlast (9, 14, -1, 0.0)\n",
      "class -1\n",
      "> > > > > > > > > > Creating tree node for attribute index 15\n",
      "best_index 15\n",
      "Std_lat\n",
      "> > > > > > > > > > Creating subtree for value Std_latlast (9, 13, -1, 0.0)\n",
      "> > > Creating subtree for value Kurtosis_lon3.05152197173758 to 3.0758735543974884 (6, 20, -1, 0.0)\n",
      "> > Creating subtree for value Kurtosis_lat1.6620920567041175 to 1.683660138 (96, 21, -1, 0.0)\n",
      "> > Creating subtree for value Kurtosis_lat1.6837202506931783 to 1.694551306157127 (96, 21, -1, 0.0)\n",
      "> > Creating subtree for value Kurtosis_lat1.694551306157127 to 1.706618274397665 (96, 21, -1, 0.0)\n",
      "> > Creating subtree for value Kurtosis_lat1.706792565 to 1.7152782143395655 (96, 21, -1, 0.0)\n",
      "> > Creating subtree for value Kurtosis_lat1.715424391510834 to 1.7287383339437774 (96, 21, -1, 0.0)\n",
      "> > Creating subtree for value Kurtosis_lat1.728964468 to 1.7391785669645334 (96, 21, -1, 0.0)\n",
      "> > Creating subtree for value Kurtosis_lat1.739609382 to 1.7569672273838073 (96, 21, -1, 0.0)\n",
      "> > Creating subtree for value Kurtosis_lat1.756967698 to 1.792078194 (96, 21, -1, 0.0)\n",
      "> > Creating subtree for value Kurtosis_lat1.795922133 to 2.439076744 (96, 21, -1, 0.0)\n",
      "> Creating subtree for value Temp (F)9.0 to 16.0 (960, 22, -1, 0.0)\n",
      "> Creating subtree for value Temp (F)16.0 to 20.0 (960, 22, -1, 0.0)\n",
      "> Creating subtree for value Temp (F)20.0 to 24.0 (960, 22, -1, 0.0)\n",
      "> Creating subtree for value Temp (F)24.0 to 29.0 (960, 22, -1, 0.0)\n",
      "> Creating subtree for value Temp (F)29.0 to 34.0 (960, 22, -1, 0.0)\n",
      "> Creating subtree for value Temp (F)34.0 to 39.0 (960, 22, -1, 0.0)\n",
      "> Creating subtree for value Temp (F)39.0 to 44.0 (960, 22, -1, 0.0)\n",
      "> Creating subtree for value Temp (F)44.0 to 52.0 (960, 22, -1, 0.0)\n",
      "> Creating subtree for value Temp (F)52.0 to 81.0 (960, 22, -1, 0.0)\n"
     ]
    }
   ],
   "source": [
    "import simple_ml as sm\n",
    "tree = sm.create_decision_tree(training_instances, trace=1, class_index=-1)  # remove trace=1 to turn off tracing"
   ]
  },
  {
   "cell_type": "code",
   "execution_count": 17,
   "id": "d022f158",
   "metadata": {
    "execution": {
     "iopub.execute_input": "2023-01-19T23:02:51.563548Z",
     "iopub.status.busy": "2023-01-19T23:02:51.563418Z",
     "iopub.status.idle": "2023-01-19T23:02:51.577797Z",
     "shell.execute_reply": "2023-01-19T23:02:51.577243Z",
     "shell.execute_reply.started": "2023-01-19T23:02:51.563535Z"
    }
   },
   "outputs": [
    {
     "name": "stdout",
     "output_type": "stream",
     "text": [
      "{0: {'Temp (F)-16.0 to 9.0': {19: {'Kurtosis_lat1.533421540956232 to 1.6615799954304582': {18: {'Kurtosis_lon2.537613014 to 2.5996764532653835': 0.0,\n",
      "                                                                                                'Kurtosis_lon2.5996764532653835 to 2.7572305298012463': 0.0,\n",
      "                                                                                                'Kurtosis_lon2.757776674 to 2.776643931261824': 0.0,\n",
      "                                                                                                'Kurtosis_lon2.7854147715364306 to 2.8162355991807204': {17: {'Skewness_latlast': {16: {'Skewness_lonlast': {15: {'Std_latlast': {14: {'Std_lonlast': {13: {'Centroid_latlast': {12: {'Centroid_lonlast': {11: {'Meanlast': {10: {'Wind Chill (F)last': {8: {'Sea Lev Press (hPa)last': {5: {'Low Cloud Ht (ft)last': {4: {'Wind Direction (deg)last': {2: {'Dewpt (F)last': {7: {'Atm Press (hPa)last': {1: {'RH (%)last': {3: {'Wind Spd (mph)last': {20: {'Sample Number3.0': 0.0,\n",
      "                                                                                                                                                                                                                                                                                                                                                                                                                                                                                                                                                             'Sample Number4.0': {22: {'LES_Cloud_Exists0.0': 0.0,\n",
      "                                                                                                                                                                                                                                                                                                                                                                                                                                                                                                                                                                                       'LES_Cloud_Exists1.0': 1.0}}}}}}}}}}}}}}}}}}}}}}}}}}}}}}}}}},\n",
      "                                                                                                'Kurtosis_lon2.825566987 to 2.851560354907739': 0.0,\n",
      "                                                                                                'Kurtosis_lon2.851560354907739 to 2.8859758152377792': {17: {'Skewness_latlast': {16: {'Skewness_lonlast': {15: {'Std_latlast': {14: {'Std_lonlast': {13: {'Centroid_latlast': {12: {'Centroid_lonlast': {11: {'Meanlast': {8: {'Sea Lev Press (hPa)last': {10: {'Wind Chill (F)last': {7: {'Atm Press (hPa)last': {3: {'Wind Spd (mph)last': {2: {'Dewpt (F)last': {1: {'RH (%)last': {4: {'Wind Direction (deg)last': {5: {'Low Cloud Ht (ft)last': {6: {'Visibility (mi)10.0': {22: {'LES_Cloud_Exists0.0': 0.0,\n",
      "                                                                                                                                                                                                                                                                                                                                                                                                                                                                                                                                                                                        'LES_Cloud_Exists1.0': 1.0}},\n",
      "                                                                                                                                                                                                                                                                                                                                                                                                                                                                                                                                                           'Visibility (mi)2.0': 0.0,\n",
      "                                                                                                                                                                                                                                                                                                                                                                                                                                                                                                                                                           'Visibility (mi)4.0': 0.0,\n",
      "                                                                                                                                                                                                                                                                                                                                                                                                                                                                                                                                                           'Visibility (mi)9.0': 0.0}}}}}}}}}}}}}}}}}}}}}}}}}}}}}}}},\n",
      "                                                                                                'Kurtosis_lon2.8859758152377792 to 2.9033558535637325': 0.0,\n",
      "                                                                                                'Kurtosis_lon2.903355854 to 2.940534127802419': {8: {'Sea Lev Press (hPa)last': {1: {'RH (%)last': {10: {'Wind Chill (F)last': {17: {'Skewness_latlast': {16: {'Skewness_lonlast': {15: {'Std_latlast': {14: {'Std_lonlast': {13: {'Centroid_latlast': {12: {'Centroid_lonlast': {11: {'Meanlast': {7: {'Atm Press (hPa)last': {4: {'Wind Direction (deg)last': {3: {'Wind Spd (mph)last': {2: {'Dewpt (F)last': {6: {'Visibility (mi)last': {5: {'Low Cloud Ht (ft)last': {22: {'LES_Cloud_Exists0.0': 0.0,\n",
      "                                                                                                                                                                                                                                                                                                                                                                                                                                                                                                                                                                                 'LES_Cloud_Exists1.0': 1.0}}}}}}}}}}}}}}}}}}}}}}}}}}}}}}}}}},\n",
      "                                                                                                'Kurtosis_lon2.940534128 to 2.974918587587558': {17: {'Skewness_latlast': {16: {'Skewness_lonlast': {15: {'Std_latlast': {14: {'Std_lonlast': {13: {'Centroid_latlast': {12: {'Centroid_lonlast': {11: {'Meanlast': {8: {'Sea Lev Press (hPa)last': {7: {'Atm Press (hPa)last': {1: {'RH (%)last': {10: {'Wind Chill (F)last': {5: {'Low Cloud Ht (ft)last': {2: {'Dewpt (F)last': {3: {'Wind Spd (mph)last': {4: {'Wind Direction (deg)last': {6: {'Visibility (mi)1.0': 0.0,\n",
      "                                                                                                                                                                                                                                                                                                                                                                                                                                                                                                                                                    'Visibility (mi)10.0': {20: {'Sample Number3.0': {22: {'LES_Cloud_Exists0.0': 0.0,\n",
      "                                                                                                                                                                                                                                                                                                                                                                                                                                                                                                                                                                                                           'LES_Cloud_Exists1.0': 1.0}},\n",
      "                                                                                                                                                                                                                                                                                                                                                                                                                                                                                                                                                                                 'Sample Number4.0': 0.0}},\n",
      "                                                                                                                                                                                                                                                                                                                                                                                                                                                                                                                                                    'Visibility (mi)7.0': 0.0,\n",
      "                                                                                                                                                                                                                                                                                                                                                                                                                                                                                                                                                    'Visibility (mi)9.0': 0.0}}}}}}}}}}}}}}}}}}}}}}}}}}}}}}}},\n",
      "                                                                                                'Kurtosis_lon2.974918587587558 to 3.045256662': {10: {'Wind Chill (F)last': {8: {'Sea Lev Press (hPa)last': {7: {'Atm Press (hPa)last': {1: {'RH (%)last': {17: {'Skewness_latlast': {16: {'Skewness_lonlast': {15: {'Std_latlast': {}}}}}}}}}}}}}}},\n",
      "                                                                                                'Kurtosis_lon3.05152197173758 to 3.0758735543974884': {}}},\n",
      "                                   'Kurtosis_lat1.6620920567041175 to 1.683660138': {},\n",
      "                                   'Kurtosis_lat1.6837202506931783 to 1.694551306157127': {},\n",
      "                                   'Kurtosis_lat1.694551306157127 to 1.706618274397665': {},\n",
      "                                   'Kurtosis_lat1.706792565 to 1.7152782143395655': {},\n",
      "                                   'Kurtosis_lat1.715424391510834 to 1.7287383339437774': {},\n",
      "                                   'Kurtosis_lat1.728964468 to 1.7391785669645334': {},\n",
      "                                   'Kurtosis_lat1.739609382 to 1.7569672273838073': {},\n",
      "                                   'Kurtosis_lat1.756967698 to 1.792078194': {},\n",
      "                                   'Kurtosis_lat1.795922133 to 2.439076744': {}}},\n",
      "     'Temp (F)16.0 to 20.0': {},\n",
      "     'Temp (F)20.0 to 24.0': {},\n",
      "     'Temp (F)24.0 to 29.0': {},\n",
      "     'Temp (F)29.0 to 34.0': {},\n",
      "     'Temp (F)34.0 to 39.0': {},\n",
      "     'Temp (F)39.0 to 44.0': {},\n",
      "     'Temp (F)44.0 to 52.0': {},\n",
      "     'Temp (F)52.0 to 81.0': {},\n",
      "     'Temp (F)9.0 to 16.0': {}}}\n"
     ]
    }
   ],
   "source": [
    "pprint(tree)"
   ]
  },
  {
   "cell_type": "code",
   "execution_count": 18,
   "id": "ab55d9e5",
   "metadata": {
    "execution": {
     "iopub.execute_input": "2023-01-19T23:02:51.578768Z",
     "iopub.status.busy": "2023-01-19T23:02:51.578579Z",
     "iopub.status.idle": "2023-01-19T23:02:51.605510Z",
     "shell.execute_reply": "2023-01-19T23:02:51.604775Z",
     "shell.execute_reply.started": "2023-01-19T23:02:51.578753Z"
    }
   },
   "outputs": [
    {
     "name": "stdout",
     "output_type": "stream",
     "text": [
      "0.0\n"
     ]
    }
   ],
   "source": [
    "def classify(tree, instance, default_class=None):\n",
    "    '''Returns a classification label for instance, given a decision tree'''\n",
    "    if not tree: # if the node is empty, return the default class\n",
    "        return default_class\n",
    "    if not isinstance(tree, dict): # if the node is a leaf, return its class label\n",
    "        return tree\n",
    "    attribute_index = list(tree.keys())[0] # using list(dict.keys()) for Python 3 compatibility\n",
    "    attribute_values = list(tree.values())[0]\n",
    "    instance_attribute_value = instance[attribute_index]\n",
    "    if instance_attribute_value not in attribute_values: # this value was not in training data\n",
    "        return default_class\n",
    "    # recursively traverse the subtree (branch) associated with instance_attribute_value\n",
    "    return classify(attribute_values[instance_attribute_value], instance, default_class)\n",
    "\n",
    "# for instance in test_instances:\n",
    "#     predicted_label = classify(tree, instance)\n",
    "#     actual_label = instance[0]\n",
    "#     print('predicted: {}; actual: {}'.format(predicted_label, actual_label))\n",
    "\n",
    "def classification_accuracy(tree, test_instances, class_index=0, default_class=None):\n",
    "    '''Returns the accuracy of classifying test_instances with tree,\n",
    "    where the class label is in position class_index'''\n",
    "    num_correct = 0\n",
    "    for i in range(len(test_instances)):\n",
    "        prediction = classify(tree, test_instances[i], default_class)\n",
    "        actual_value = test_instances[i][class_index]\n",
    "        if prediction == actual_value:\n",
    "            num_correct += 1\n",
    "    return num_correct / len(test_instances)\n",
    "\n",
    "print(classification_accuracy(tree, test_instances))"
   ]
  },
  {
   "cell_type": "markdown",
   "id": "4bdf1391",
   "metadata": {},
   "source": [
    "- As, we can see, even after devising an apt-method to partition the continous attributes. We aren't able to build an accurate decision tree using this methodology.<br><br>\n",
    "- We are alos thinking of modifying the classify function with respect to our trained Decision tree. As we are not sure, if it is able to traverse through each decision node based on partition logic and may get stuck in the middle of the tree with nowhere to go<br><br>\n",
    "- The primary reason being, the decision tree is training way too much on the training data which is evident from the depth of our decision tree created. Hence, the model is overfitting the training data. Also, the dataset is highly imbalanced hence the training for one specific category results in very deep decision tree."
   ]
  },
  {
   "cell_type": "markdown",
   "id": "f0fcf3d5",
   "metadata": {},
   "source": [
    "# We continue our analysis of the dataset using Sklearn\n",
    "\n",
    "## Splitting Data to train and test"
   ]
  },
  {
   "cell_type": "code",
   "execution_count": 19,
   "id": "d493a4cc",
   "metadata": {},
   "outputs": [
    {
     "data": {
      "text/plain": [
       "['temp_(f)',\n",
       " 'rh_(%)',\n",
       " 'dewpt_(f)',\n",
       " 'wind_spd_(mph)',\n",
       " 'wind_direction_(deg)',\n",
       " 'low_cloud_ht_(ft)',\n",
       " 'visibility_(mi)',\n",
       " 'atm_press_(hpa)',\n",
       " 'sea_lev_press_(hpa)',\n",
       " 'precip_(in)',\n",
       " 'wind_chill_(f)',\n",
       " 'mean',\n",
       " 'centroid_lon',\n",
       " 'centroid_lat',\n",
       " 'std_lon',\n",
       " 'std_lat',\n",
       " 'skewness_lon',\n",
       " 'skewness_lat',\n",
       " 'kurtosis_lon',\n",
       " 'kurtosis_lat',\n",
       " 'sample_number',\n",
       " 'lake_visible',\n",
       " 'les_cloud_exists']"
      ]
     },
     "execution_count": 19,
     "metadata": {},
     "output_type": "execute_result"
    }
   ],
   "source": [
    "ss = ['Temp (F)',\n",
    " 'RH (%)',\n",
    " 'Dewpt (F)',\n",
    " 'Wind Spd (mph)',\n",
    " 'Wind Direction (deg)',\n",
    " 'Low Cloud Ht (ft)',\n",
    " 'Visibility (mi)',\n",
    " 'Atm Press (hPa)',\n",
    " 'Sea Lev Press (hPa)',\n",
    " 'Precip (in)',\n",
    " 'Wind Chill (F)',\n",
    " 'Mean',\n",
    " 'Centroid_lon',\n",
    " 'Centroid_lat',\n",
    " 'Std_lon',\n",
    " 'Std_lat',\n",
    " 'Skewness_lon',\n",
    " 'Skewness_lat',\n",
    " 'Kurtosis_lon',\n",
    " 'Kurtosis_lat',\n",
    " 'Sample Number',\n",
    " 'Lake_Visible',\n",
    " 'LES_Cloud_Exists']\n",
    "[i.replace(\" \",\"_\").lower() for i in ss]"
   ]
  },
  {
   "cell_type": "code",
   "execution_count": 20,
   "id": "4b3c28e1-df25-4e0c-8a6e-7c5788a16cc0",
   "metadata": {
    "execution": {
     "iopub.execute_input": "2023-01-19T23:02:51.606713Z",
     "iopub.status.busy": "2023-01-19T23:02:51.606229Z",
     "iopub.status.idle": "2023-01-19T23:02:51.612383Z",
     "shell.execute_reply": "2023-01-19T23:02:51.611946Z",
     "shell.execute_reply.started": "2023-01-19T23:02:51.606693Z"
    },
    "tags": []
   },
   "outputs": [
    {
     "name": "stdout",
     "output_type": "stream",
     "text": [
      "1       0\n",
      "2       0\n",
      "3       0\n",
      "4       0\n",
      "5       0\n",
      "       ..\n",
      "4358    0\n",
      "4359    0\n",
      "4360    0\n",
      "4361    0\n",
      "4362    0\n",
      "Name: LESnowfall, Length: 12800, dtype: int32\n"
     ]
    }
   ],
   "source": [
    "data_sklearn = df.copy()\n",
    "X = data_sklearn.iloc[:,1:-1]\n",
    "y = data_sklearn.iloc[:,-1]\n",
    "print(y)"
   ]
  },
  {
   "cell_type": "code",
   "execution_count": 21,
   "id": "2254a1c9-0b97-4f08-a279-851ef5e194d7",
   "metadata": {
    "execution": {
     "iopub.execute_input": "2023-01-19T23:02:51.613047Z",
     "iopub.status.busy": "2023-01-19T23:02:51.612921Z",
     "iopub.status.idle": "2023-01-19T23:02:51.618634Z",
     "shell.execute_reply": "2023-01-19T23:02:51.618049Z",
     "shell.execute_reply.started": "2023-01-19T23:02:51.613034Z"
    },
    "tags": []
   },
   "outputs": [],
   "source": [
    "X_train, X_test, y_train, y_test = train_test_split(X, y, test_size=0.20, random_state=42)"
   ]
  },
  {
   "cell_type": "markdown",
   "id": "6a2f4b7a",
   "metadata": {},
   "source": [
    "## Applying a Decision Tree Classifier on the dataset "
   ]
  },
  {
   "cell_type": "code",
   "execution_count": 22,
   "id": "ae977d80",
   "metadata": {
    "execution": {
     "iopub.execute_input": "2023-01-19T23:02:51.619409Z",
     "iopub.status.busy": "2023-01-19T23:02:51.619255Z",
     "iopub.status.idle": "2023-01-19T23:02:51.640966Z",
     "shell.execute_reply": "2023-01-19T23:02:51.640085Z",
     "shell.execute_reply.started": "2023-01-19T23:02:51.619394Z"
    },
    "tags": []
   },
   "outputs": [
    {
     "data": {
      "text/plain": [
       "DecisionTreeClassifier()"
      ]
     },
     "execution_count": 22,
     "metadata": {},
     "output_type": "execute_result"
    }
   ],
   "source": [
    "model = DecisionTreeClassifier()\n",
    "model.fit(X_train, y_train)"
   ]
  },
  {
   "cell_type": "markdown",
   "id": "84333c4f",
   "metadata": {},
   "source": [
    "## Analysing the metrics of the model"
   ]
  },
  {
   "cell_type": "code",
   "execution_count": 23,
   "id": "514badad",
   "metadata": {
    "execution": {
     "iopub.execute_input": "2023-01-19T23:02:51.645615Z",
     "iopub.status.busy": "2023-01-19T23:02:51.645393Z",
     "iopub.status.idle": "2023-01-19T23:02:51.655488Z",
     "shell.execute_reply": "2023-01-19T23:02:51.654558Z",
     "shell.execute_reply.started": "2023-01-19T23:02:51.645601Z"
    },
    "tags": []
   },
   "outputs": [
    {
     "name": "stdout",
     "output_type": "stream",
     "text": [
      "R^2 :  1.0\n",
      "MAE : 0.0\n",
      "RMSE: 0.0\n",
      "Testing Set Evaluation F1-Score: 1.0\n",
      "Area under curve is :  1.0\n"
     ]
    }
   ],
   "source": [
    "y_pred = model.predict(X_test)\n",
    "false_positive_rate, true_positive_rate, thresholds = roc_curve(y_test, y_pred)\n",
    "roc_auc = auc(false_positive_rate, true_positive_rate)\n",
    "print(\"R^2 : \", r2_score(y_test, y_pred))\n",
    "print(\"MAE :\", mean_absolute_error(y_test,y_pred))\n",
    "print(\"RMSE:\",np.sqrt(mean_squared_error(y_test, y_pred)))\n",
    "print('Testing Set Evaluation F1-Score:',f1_score(y_test,y_pred))\n",
    "print(\"Area under curve is : \",roc_auc)"
   ]
  },
  {
   "cell_type": "markdown",
   "id": "a14fad28",
   "metadata": {},
   "source": [
    "## Plotting the tree for the decision tree classifier"
   ]
  },
  {
   "cell_type": "code",
   "execution_count": 24,
   "id": "7c3da333",
   "metadata": {
    "execution": {
     "iopub.execute_input": "2023-01-19T23:02:51.656228Z",
     "iopub.status.busy": "2023-01-19T23:02:51.656081Z",
     "iopub.status.idle": "2023-01-19T23:02:51.659753Z",
     "shell.execute_reply": "2023-01-19T23:02:51.659332Z",
     "shell.execute_reply.started": "2023-01-19T23:02:51.656214Z"
    },
    "tags": []
   },
   "outputs": [],
   "source": [
    "export_graphviz(model, 'tree.dot', feature_names = list(X.columns))"
   ]
  },
  {
   "cell_type": "code",
   "execution_count": 25,
   "id": "d0bdb33c-ab03-4f53-9a54-2d5d518547f9",
   "metadata": {
    "execution": {
     "iopub.execute_input": "2023-01-19T23:02:51.660627Z",
     "iopub.status.busy": "2023-01-19T23:02:51.660454Z",
     "iopub.status.idle": "2023-01-19T23:02:54.423625Z",
     "shell.execute_reply": "2023-01-19T23:02:54.423141Z",
     "shell.execute_reply.started": "2023-01-19T23:02:51.660613Z"
    },
    "tags": []
   },
   "outputs": [
    {
     "name": "stderr",
     "output_type": "stream",
     "text": [
      "'dot' is not recognized as an internal or external command,\n",
      "operable program or batch file.\n"
     ]
    },
    {
     "data": {
      "text/plain": [
       "<matplotlib.image.AxesImage at 0x12805c36e50>"
      ]
     },
     "execution_count": 25,
     "metadata": {},
     "output_type": "execute_result"
    },
    {
     "data": {
      "image/png": "[encoded data removed]",
      "text/plain": [
       "<Figure size 4000x4000 with 1 Axes>"
      ]
     },
     "metadata": {},
     "output_type": "display_data"
    }
   ],
   "source": [
    "!dot -Tpng tree.dot -o tree.png\n",
    "img = cv2.imread('tree.png')\n",
    "plt.figure(figsize = (40, 40))\n",
    "plt.imshow(img)"
   ]
  },
  {
   "cell_type": "code",
   "execution_count": 26,
   "id": "ccc9b63a",
   "metadata": {
    "execution": {
     "iopub.execute_input": "2023-01-19T23:02:54.424667Z",
     "iopub.status.busy": "2023-01-19T23:02:54.424539Z",
     "iopub.status.idle": "2023-01-19T23:02:54.427039Z",
     "shell.execute_reply": "2023-01-19T23:02:54.426681Z",
     "shell.execute_reply.started": "2023-01-19T23:02:54.424654Z"
    }
   },
   "outputs": [],
   "source": [
    "# list(X.columns)"
   ]
  },
  {
   "cell_type": "code",
   "execution_count": 27,
   "id": "25ac35df",
   "metadata": {
    "execution": {
     "iopub.execute_input": "2023-01-19T23:02:54.427711Z",
     "iopub.status.busy": "2023-01-19T23:02:54.427593Z",
     "iopub.status.idle": "2023-01-19T23:02:54.719475Z",
     "shell.execute_reply": "2023-01-19T23:02:54.718950Z",
     "shell.execute_reply.started": "2023-01-19T23:02:54.427699Z"
    },
    "tags": []
   },
   "outputs": [
    {
     "ename": "ExecutableNotFound",
     "evalue": "failed to execute WindowsPath('dot'), make sure the Graphviz executables are on your systems' PATH",
     "output_type": "error",
     "traceback": [
      "\u001b[1;31m---------------------------------------------------------------------------\u001b[0m",
      "\u001b[1;31mFileNotFoundError\u001b[0m                         Traceback (most recent call last)",
      "\u001b[1;32m~\\anaconda3\\lib\\site-packages\\graphviz\\backend\\execute.py\u001b[0m in \u001b[0;36mrun_check\u001b[1;34m(cmd, input_lines, encoding, quiet, **kwargs)\u001b[0m\n\u001b[0;32m     78\u001b[0m                 \u001b[0mkwargs\u001b[0m\u001b[1;33m[\u001b[0m\u001b[1;34m'stdout'\u001b[0m\u001b[1;33m]\u001b[0m \u001b[1;33m=\u001b[0m \u001b[0mkwargs\u001b[0m\u001b[1;33m[\u001b[0m\u001b[1;34m'stderr'\u001b[0m\u001b[1;33m]\u001b[0m \u001b[1;33m=\u001b[0m \u001b[0msubprocess\u001b[0m\u001b[1;33m.\u001b[0m\u001b[0mPIPE\u001b[0m\u001b[1;33m\u001b[0m\u001b[1;33m\u001b[0m\u001b[0m\n\u001b[1;32m---> 79\u001b[1;33m             \u001b[0mproc\u001b[0m \u001b[1;33m=\u001b[0m \u001b[0m_run_input_lines\u001b[0m\u001b[1;33m(\u001b[0m\u001b[0mcmd\u001b[0m\u001b[1;33m,\u001b[0m \u001b[0minput_lines\u001b[0m\u001b[1;33m,\u001b[0m \u001b[0mkwargs\u001b[0m\u001b[1;33m=\u001b[0m\u001b[0mkwargs\u001b[0m\u001b[1;33m)\u001b[0m\u001b[1;33m\u001b[0m\u001b[1;33m\u001b[0m\u001b[0m\n\u001b[0m\u001b[0;32m     80\u001b[0m         \u001b[1;32melse\u001b[0m\u001b[1;33m:\u001b[0m\u001b[1;33m\u001b[0m\u001b[1;33m\u001b[0m\u001b[0m\n",
      "\u001b[1;32m~\\anaconda3\\lib\\site-packages\\graphviz\\backend\\execute.py\u001b[0m in \u001b[0;36m_run_input_lines\u001b[1;34m(cmd, input_lines, kwargs)\u001b[0m\n\u001b[0;32m     98\u001b[0m \u001b[1;32mdef\u001b[0m \u001b[0m_run_input_lines\u001b[0m\u001b[1;33m(\u001b[0m\u001b[0mcmd\u001b[0m\u001b[1;33m,\u001b[0m \u001b[0minput_lines\u001b[0m\u001b[1;33m,\u001b[0m \u001b[1;33m*\u001b[0m\u001b[1;33m,\u001b[0m \u001b[0mkwargs\u001b[0m\u001b[1;33m)\u001b[0m\u001b[1;33m:\u001b[0m\u001b[1;33m\u001b[0m\u001b[1;33m\u001b[0m\u001b[0m\n\u001b[1;32m---> 99\u001b[1;33m     \u001b[0mpopen\u001b[0m \u001b[1;33m=\u001b[0m \u001b[0msubprocess\u001b[0m\u001b[1;33m.\u001b[0m\u001b[0mPopen\u001b[0m\u001b[1;33m(\u001b[0m\u001b[0mcmd\u001b[0m\u001b[1;33m,\u001b[0m \u001b[0mstdin\u001b[0m\u001b[1;33m=\u001b[0m\u001b[0msubprocess\u001b[0m\u001b[1;33m.\u001b[0m\u001b[0mPIPE\u001b[0m\u001b[1;33m,\u001b[0m \u001b[1;33m**\u001b[0m\u001b[0mkwargs\u001b[0m\u001b[1;33m)\u001b[0m\u001b[1;33m\u001b[0m\u001b[1;33m\u001b[0m\u001b[0m\n\u001b[0m\u001b[0;32m    100\u001b[0m \u001b[1;33m\u001b[0m\u001b[0m\n",
      "\u001b[1;32m~\\anaconda3\\lib\\subprocess.py\u001b[0m in \u001b[0;36m__init__\u001b[1;34m(self, args, bufsize, executable, stdin, stdout, stderr, preexec_fn, close_fds, shell, cwd, env, universal_newlines, startupinfo, creationflags, restore_signals, start_new_session, pass_fds, user, group, extra_groups, encoding, errors, text, umask)\u001b[0m\n\u001b[0;32m    950\u001b[0m \u001b[1;33m\u001b[0m\u001b[0m\n\u001b[1;32m--> 951\u001b[1;33m             self._execute_child(args, executable, preexec_fn, close_fds,\n\u001b[0m\u001b[0;32m    952\u001b[0m                                 \u001b[0mpass_fds\u001b[0m\u001b[1;33m,\u001b[0m \u001b[0mcwd\u001b[0m\u001b[1;33m,\u001b[0m \u001b[0menv\u001b[0m\u001b[1;33m,\u001b[0m\u001b[1;33m\u001b[0m\u001b[1;33m\u001b[0m\u001b[0m\n",
      "\u001b[1;32m~\\anaconda3\\lib\\subprocess.py\u001b[0m in \u001b[0;36m_execute_child\u001b[1;34m(self, args, executable, preexec_fn, close_fds, pass_fds, cwd, env, startupinfo, creationflags, shell, p2cread, p2cwrite, c2pread, c2pwrite, errread, errwrite, unused_restore_signals, unused_gid, unused_gids, unused_uid, unused_umask, unused_start_new_session)\u001b[0m\n\u001b[0;32m   1419\u001b[0m             \u001b[1;32mtry\u001b[0m\u001b[1;33m:\u001b[0m\u001b[1;33m\u001b[0m\u001b[1;33m\u001b[0m\u001b[0m\n\u001b[1;32m-> 1420\u001b[1;33m                 hp, ht, pid, tid = _winapi.CreateProcess(executable, args,\n\u001b[0m\u001b[0;32m   1421\u001b[0m                                          \u001b[1;31m# no special security\u001b[0m\u001b[1;33m\u001b[0m\u001b[1;33m\u001b[0m\u001b[0m\n",
      "\u001b[1;31mFileNotFoundError\u001b[0m: [WinError 2] The system cannot find the file specified",
      "\nThe above exception was the direct cause of the following exception:\n",
      "\u001b[1;31mExecutableNotFound\u001b[0m                        Traceback (most recent call last)",
      "\u001b[1;32m~\\anaconda3\\lib\\site-packages\\IPython\\core\\formatters.py\u001b[0m in \u001b[0;36m__call__\u001b[1;34m(self, obj, include, exclude)\u001b[0m\n\u001b[0;32m    968\u001b[0m \u001b[1;33m\u001b[0m\u001b[0m\n\u001b[0;32m    969\u001b[0m             \u001b[1;32mif\u001b[0m \u001b[0mmethod\u001b[0m \u001b[1;32mis\u001b[0m \u001b[1;32mnot\u001b[0m \u001b[1;32mNone\u001b[0m\u001b[1;33m:\u001b[0m\u001b[1;33m\u001b[0m\u001b[1;33m\u001b[0m\u001b[0m\n\u001b[1;32m--> 970\u001b[1;33m                 \u001b[1;32mreturn\u001b[0m \u001b[0mmethod\u001b[0m\u001b[1;33m(\u001b[0m\u001b[0minclude\u001b[0m\u001b[1;33m=\u001b[0m\u001b[0minclude\u001b[0m\u001b[1;33m,\u001b[0m \u001b[0mexclude\u001b[0m\u001b[1;33m=\u001b[0m\u001b[0mexclude\u001b[0m\u001b[1;33m)\u001b[0m\u001b[1;33m\u001b[0m\u001b[1;33m\u001b[0m\u001b[0m\n\u001b[0m\u001b[0;32m    971\u001b[0m             \u001b[1;32mreturn\u001b[0m \u001b[1;32mNone\u001b[0m\u001b[1;33m\u001b[0m\u001b[1;33m\u001b[0m\u001b[0m\n\u001b[0;32m    972\u001b[0m         \u001b[1;32melse\u001b[0m\u001b[1;33m:\u001b[0m\u001b[1;33m\u001b[0m\u001b[1;33m\u001b[0m\u001b[0m\n",
      "\u001b[1;32m~\\anaconda3\\lib\\site-packages\\graphviz\\jupyter_integration.py\u001b[0m in \u001b[0;36m_repr_mimebundle_\u001b[1;34m(self, include, exclude, **_)\u001b[0m\n\u001b[0;32m     96\u001b[0m         \u001b[0minclude\u001b[0m \u001b[1;33m=\u001b[0m \u001b[0mset\u001b[0m\u001b[1;33m(\u001b[0m\u001b[0minclude\u001b[0m\u001b[1;33m)\u001b[0m \u001b[1;32mif\u001b[0m \u001b[0minclude\u001b[0m \u001b[1;32mis\u001b[0m \u001b[1;32mnot\u001b[0m \u001b[1;32mNone\u001b[0m \u001b[1;32melse\u001b[0m \u001b[1;33m{\u001b[0m\u001b[0mself\u001b[0m\u001b[1;33m.\u001b[0m\u001b[0m_jupyter_mimetype\u001b[0m\u001b[1;33m}\u001b[0m\u001b[1;33m\u001b[0m\u001b[1;33m\u001b[0m\u001b[0m\n\u001b[0;32m     97\u001b[0m         \u001b[0minclude\u001b[0m \u001b[1;33m-=\u001b[0m \u001b[0mset\u001b[0m\u001b[1;33m(\u001b[0m\u001b[0mexclude\u001b[0m \u001b[1;32mor\u001b[0m \u001b[1;33m[\u001b[0m\u001b[1;33m]\u001b[0m\u001b[1;33m)\u001b[0m\u001b[1;33m\u001b[0m\u001b[1;33m\u001b[0m\u001b[0m\n\u001b[1;32m---> 98\u001b[1;33m         return {mimetype: getattr(self, method_name)()\n\u001b[0m\u001b[0;32m     99\u001b[0m                 \u001b[1;32mfor\u001b[0m \u001b[0mmimetype\u001b[0m\u001b[1;33m,\u001b[0m \u001b[0mmethod_name\u001b[0m \u001b[1;32min\u001b[0m \u001b[0mMIME_TYPES\u001b[0m\u001b[1;33m.\u001b[0m\u001b[0mitems\u001b[0m\u001b[1;33m(\u001b[0m\u001b[1;33m)\u001b[0m\u001b[1;33m\u001b[0m\u001b[1;33m\u001b[0m\u001b[0m\n\u001b[0;32m    100\u001b[0m                 if mimetype in include}\n",
      "\u001b[1;32m~\\anaconda3\\lib\\site-packages\\graphviz\\jupyter_integration.py\u001b[0m in \u001b[0;36m<dictcomp>\u001b[1;34m(.0)\u001b[0m\n\u001b[0;32m     96\u001b[0m         \u001b[0minclude\u001b[0m \u001b[1;33m=\u001b[0m \u001b[0mset\u001b[0m\u001b[1;33m(\u001b[0m\u001b[0minclude\u001b[0m\u001b[1;33m)\u001b[0m \u001b[1;32mif\u001b[0m \u001b[0minclude\u001b[0m \u001b[1;32mis\u001b[0m \u001b[1;32mnot\u001b[0m \u001b[1;32mNone\u001b[0m \u001b[1;32melse\u001b[0m \u001b[1;33m{\u001b[0m\u001b[0mself\u001b[0m\u001b[1;33m.\u001b[0m\u001b[0m_jupyter_mimetype\u001b[0m\u001b[1;33m}\u001b[0m\u001b[1;33m\u001b[0m\u001b[1;33m\u001b[0m\u001b[0m\n\u001b[0;32m     97\u001b[0m         \u001b[0minclude\u001b[0m \u001b[1;33m-=\u001b[0m \u001b[0mset\u001b[0m\u001b[1;33m(\u001b[0m\u001b[0mexclude\u001b[0m \u001b[1;32mor\u001b[0m \u001b[1;33m[\u001b[0m\u001b[1;33m]\u001b[0m\u001b[1;33m)\u001b[0m\u001b[1;33m\u001b[0m\u001b[1;33m\u001b[0m\u001b[0m\n\u001b[1;32m---> 98\u001b[1;33m         return {mimetype: getattr(self, method_name)()\n\u001b[0m\u001b[0;32m     99\u001b[0m                 \u001b[1;32mfor\u001b[0m \u001b[0mmimetype\u001b[0m\u001b[1;33m,\u001b[0m \u001b[0mmethod_name\u001b[0m \u001b[1;32min\u001b[0m \u001b[0mMIME_TYPES\u001b[0m\u001b[1;33m.\u001b[0m\u001b[0mitems\u001b[0m\u001b[1;33m(\u001b[0m\u001b[1;33m)\u001b[0m\u001b[1;33m\u001b[0m\u001b[1;33m\u001b[0m\u001b[0m\n\u001b[0;32m    100\u001b[0m                 if mimetype in include}\n",
      "\u001b[1;32m~\\anaconda3\\lib\\site-packages\\graphviz\\jupyter_integration.py\u001b[0m in \u001b[0;36m_repr_image_svg_xml\u001b[1;34m(self)\u001b[0m\n\u001b[0;32m    110\u001b[0m     \u001b[1;32mdef\u001b[0m \u001b[0m_repr_image_svg_xml\u001b[0m\u001b[1;33m(\u001b[0m\u001b[0mself\u001b[0m\u001b[1;33m)\u001b[0m \u001b[1;33m->\u001b[0m \u001b[0mstr\u001b[0m\u001b[1;33m:\u001b[0m\u001b[1;33m\u001b[0m\u001b[1;33m\u001b[0m\u001b[0m\n\u001b[0;32m    111\u001b[0m         \u001b[1;34m\"\"\"Return the rendered graph as SVG string.\"\"\"\u001b[0m\u001b[1;33m\u001b[0m\u001b[1;33m\u001b[0m\u001b[0m\n\u001b[1;32m--> 112\u001b[1;33m         \u001b[1;32mreturn\u001b[0m \u001b[0mself\u001b[0m\u001b[1;33m.\u001b[0m\u001b[0mpipe\u001b[0m\u001b[1;33m(\u001b[0m\u001b[0mformat\u001b[0m\u001b[1;33m=\u001b[0m\u001b[1;34m'svg'\u001b[0m\u001b[1;33m,\u001b[0m \u001b[0mencoding\u001b[0m\u001b[1;33m=\u001b[0m\u001b[0mSVG_ENCODING\u001b[0m\u001b[1;33m)\u001b[0m\u001b[1;33m\u001b[0m\u001b[1;33m\u001b[0m\u001b[0m\n\u001b[0m",
      "\u001b[1;32m~\\anaconda3\\lib\\site-packages\\graphviz\\piping.py\u001b[0m in \u001b[0;36mpipe\u001b[1;34m(self, format, renderer, formatter, neato_no_op, quiet, engine, encoding)\u001b[0m\n\u001b[0;32m    102\u001b[0m             \u001b[1;34m'<?xml version='\u001b[0m\u001b[1;33m\u001b[0m\u001b[1;33m\u001b[0m\u001b[0m\n\u001b[0;32m    103\u001b[0m         \"\"\"\n\u001b[1;32m--> 104\u001b[1;33m         return self._pipe_legacy(format,\n\u001b[0m\u001b[0;32m    105\u001b[0m                                  \u001b[0mrenderer\u001b[0m\u001b[1;33m=\u001b[0m\u001b[0mrenderer\u001b[0m\u001b[1;33m,\u001b[0m\u001b[1;33m\u001b[0m\u001b[1;33m\u001b[0m\u001b[0m\n\u001b[0;32m    106\u001b[0m                                  \u001b[0mformatter\u001b[0m\u001b[1;33m=\u001b[0m\u001b[0mformatter\u001b[0m\u001b[1;33m,\u001b[0m\u001b[1;33m\u001b[0m\u001b[1;33m\u001b[0m\u001b[0m\n",
      "\u001b[1;32m~\\anaconda3\\lib\\site-packages\\graphviz\\_tools.py\u001b[0m in \u001b[0;36mwrapper\u001b[1;34m(*args, **kwargs)\u001b[0m\n\u001b[0;32m    169\u001b[0m                               category=category)\n\u001b[0;32m    170\u001b[0m \u001b[1;33m\u001b[0m\u001b[0m\n\u001b[1;32m--> 171\u001b[1;33m             \u001b[1;32mreturn\u001b[0m \u001b[0mfunc\u001b[0m\u001b[1;33m(\u001b[0m\u001b[1;33m*\u001b[0m\u001b[0margs\u001b[0m\u001b[1;33m,\u001b[0m \u001b[1;33m**\u001b[0m\u001b[0mkwargs\u001b[0m\u001b[1;33m)\u001b[0m\u001b[1;33m\u001b[0m\u001b[1;33m\u001b[0m\u001b[0m\n\u001b[0m\u001b[0;32m    172\u001b[0m \u001b[1;33m\u001b[0m\u001b[0m\n\u001b[0;32m    173\u001b[0m         \u001b[1;32mreturn\u001b[0m \u001b[0mwrapper\u001b[0m\u001b[1;33m\u001b[0m\u001b[1;33m\u001b[0m\u001b[0m\n",
      "\u001b[1;32m~\\anaconda3\\lib\\site-packages\\graphviz\\piping.py\u001b[0m in \u001b[0;36m_pipe_legacy\u001b[1;34m(self, format, renderer, formatter, neato_no_op, quiet, engine, encoding)\u001b[0m\n\u001b[0;32m    119\u001b[0m                      \u001b[0mengine\u001b[0m\u001b[1;33m:\u001b[0m \u001b[0mtyping\u001b[0m\u001b[1;33m.\u001b[0m\u001b[0mOptional\u001b[0m\u001b[1;33m[\u001b[0m\u001b[0mstr\u001b[0m\u001b[1;33m]\u001b[0m \u001b[1;33m=\u001b[0m \u001b[1;32mNone\u001b[0m\u001b[1;33m,\u001b[0m\u001b[1;33m\u001b[0m\u001b[1;33m\u001b[0m\u001b[0m\n\u001b[0;32m    120\u001b[0m                      encoding: typing.Optional[str] = None) -> typing.Union[bytes, str]:\n\u001b[1;32m--> 121\u001b[1;33m         return self._pipe_future(format,\n\u001b[0m\u001b[0;32m    122\u001b[0m                                  \u001b[0mrenderer\u001b[0m\u001b[1;33m=\u001b[0m\u001b[0mrenderer\u001b[0m\u001b[1;33m,\u001b[0m\u001b[1;33m\u001b[0m\u001b[1;33m\u001b[0m\u001b[0m\n\u001b[0;32m    123\u001b[0m                                  \u001b[0mformatter\u001b[0m\u001b[1;33m=\u001b[0m\u001b[0mformatter\u001b[0m\u001b[1;33m,\u001b[0m\u001b[1;33m\u001b[0m\u001b[1;33m\u001b[0m\u001b[0m\n",
      "\u001b[1;32m~\\anaconda3\\lib\\site-packages\\graphviz\\piping.py\u001b[0m in \u001b[0;36m_pipe_future\u001b[1;34m(self, format, renderer, formatter, neato_no_op, quiet, engine, encoding)\u001b[0m\n\u001b[0;32m    147\u001b[0m             \u001b[1;32mif\u001b[0m \u001b[0mcodecs\u001b[0m\u001b[1;33m.\u001b[0m\u001b[0mlookup\u001b[0m\u001b[1;33m(\u001b[0m\u001b[0mencoding\u001b[0m\u001b[1;33m)\u001b[0m \u001b[1;32mis\u001b[0m \u001b[0mcodecs\u001b[0m\u001b[1;33m.\u001b[0m\u001b[0mlookup\u001b[0m\u001b[1;33m(\u001b[0m\u001b[0mself\u001b[0m\u001b[1;33m.\u001b[0m\u001b[0mencoding\u001b[0m\u001b[1;33m)\u001b[0m\u001b[1;33m:\u001b[0m\u001b[1;33m\u001b[0m\u001b[1;33m\u001b[0m\u001b[0m\n\u001b[0;32m    148\u001b[0m                 \u001b[1;31m# common case: both stdin and stdout need the same encoding\u001b[0m\u001b[1;33m\u001b[0m\u001b[1;33m\u001b[0m\u001b[0m\n\u001b[1;32m--> 149\u001b[1;33m                 \u001b[1;32mreturn\u001b[0m \u001b[0mself\u001b[0m\u001b[1;33m.\u001b[0m\u001b[0m_pipe_lines_string\u001b[0m\u001b[1;33m(\u001b[0m\u001b[1;33m*\u001b[0m\u001b[0margs\u001b[0m\u001b[1;33m,\u001b[0m \u001b[0mencoding\u001b[0m\u001b[1;33m=\u001b[0m\u001b[0mencoding\u001b[0m\u001b[1;33m,\u001b[0m \u001b[1;33m**\u001b[0m\u001b[0mkwargs\u001b[0m\u001b[1;33m)\u001b[0m\u001b[1;33m\u001b[0m\u001b[1;33m\u001b[0m\u001b[0m\n\u001b[0m\u001b[0;32m    150\u001b[0m             \u001b[1;32mtry\u001b[0m\u001b[1;33m:\u001b[0m\u001b[1;33m\u001b[0m\u001b[1;33m\u001b[0m\u001b[0m\n\u001b[0;32m    151\u001b[0m                 \u001b[0mraw\u001b[0m \u001b[1;33m=\u001b[0m \u001b[0mself\u001b[0m\u001b[1;33m.\u001b[0m\u001b[0m_pipe_lines\u001b[0m\u001b[1;33m(\u001b[0m\u001b[1;33m*\u001b[0m\u001b[0margs\u001b[0m\u001b[1;33m,\u001b[0m \u001b[0minput_encoding\u001b[0m\u001b[1;33m=\u001b[0m\u001b[0mself\u001b[0m\u001b[1;33m.\u001b[0m\u001b[0mencoding\u001b[0m\u001b[1;33m,\u001b[0m \u001b[1;33m**\u001b[0m\u001b[0mkwargs\u001b[0m\u001b[1;33m)\u001b[0m\u001b[1;33m\u001b[0m\u001b[1;33m\u001b[0m\u001b[0m\n",
      "\u001b[1;32m~\\anaconda3\\lib\\site-packages\\graphviz\\backend\\piping.py\u001b[0m in \u001b[0;36mpipe_lines_string\u001b[1;34m(engine, format, input_lines, encoding, renderer, formatter, neato_no_op, quiet)\u001b[0m\n\u001b[0;32m    210\u001b[0m     \u001b[0mkwargs\u001b[0m \u001b[1;33m=\u001b[0m \u001b[1;33m{\u001b[0m\u001b[1;34m'input_lines'\u001b[0m\u001b[1;33m:\u001b[0m \u001b[0minput_lines\u001b[0m\u001b[1;33m,\u001b[0m \u001b[1;34m'encoding'\u001b[0m\u001b[1;33m:\u001b[0m \u001b[0mencoding\u001b[0m\u001b[1;33m}\u001b[0m\u001b[1;33m\u001b[0m\u001b[1;33m\u001b[0m\u001b[0m\n\u001b[0;32m    211\u001b[0m \u001b[1;33m\u001b[0m\u001b[0m\n\u001b[1;32m--> 212\u001b[1;33m     \u001b[0mproc\u001b[0m \u001b[1;33m=\u001b[0m \u001b[0mexecute\u001b[0m\u001b[1;33m.\u001b[0m\u001b[0mrun_check\u001b[0m\u001b[1;33m(\u001b[0m\u001b[0mcmd\u001b[0m\u001b[1;33m,\u001b[0m \u001b[0mcapture_output\u001b[0m\u001b[1;33m=\u001b[0m\u001b[1;32mTrue\u001b[0m\u001b[1;33m,\u001b[0m \u001b[0mquiet\u001b[0m\u001b[1;33m=\u001b[0m\u001b[0mquiet\u001b[0m\u001b[1;33m,\u001b[0m \u001b[1;33m**\u001b[0m\u001b[0mkwargs\u001b[0m\u001b[1;33m)\u001b[0m\u001b[1;33m\u001b[0m\u001b[1;33m\u001b[0m\u001b[0m\n\u001b[0m\u001b[0;32m    213\u001b[0m     \u001b[1;32mreturn\u001b[0m \u001b[0mproc\u001b[0m\u001b[1;33m.\u001b[0m\u001b[0mstdout\u001b[0m\u001b[1;33m\u001b[0m\u001b[1;33m\u001b[0m\u001b[0m\n",
      "\u001b[1;32m~\\anaconda3\\lib\\site-packages\\graphviz\\backend\\execute.py\u001b[0m in \u001b[0;36mrun_check\u001b[1;34m(cmd, input_lines, encoding, quiet, **kwargs)\u001b[0m\n\u001b[0;32m     82\u001b[0m     \u001b[1;32mexcept\u001b[0m \u001b[0mOSError\u001b[0m \u001b[1;32mas\u001b[0m \u001b[0me\u001b[0m\u001b[1;33m:\u001b[0m\u001b[1;33m\u001b[0m\u001b[1;33m\u001b[0m\u001b[0m\n\u001b[0;32m     83\u001b[0m         \u001b[1;32mif\u001b[0m \u001b[0me\u001b[0m\u001b[1;33m.\u001b[0m\u001b[0merrno\u001b[0m \u001b[1;33m==\u001b[0m \u001b[0merrno\u001b[0m\u001b[1;33m.\u001b[0m\u001b[0mENOENT\u001b[0m\u001b[1;33m:\u001b[0m\u001b[1;33m\u001b[0m\u001b[1;33m\u001b[0m\u001b[0m\n\u001b[1;32m---> 84\u001b[1;33m             \u001b[1;32mraise\u001b[0m \u001b[0mExecutableNotFound\u001b[0m\u001b[1;33m(\u001b[0m\u001b[0mcmd\u001b[0m\u001b[1;33m)\u001b[0m \u001b[1;32mfrom\u001b[0m \u001b[0me\u001b[0m\u001b[1;33m\u001b[0m\u001b[1;33m\u001b[0m\u001b[0m\n\u001b[0m\u001b[0;32m     85\u001b[0m         \u001b[1;32mraise\u001b[0m\u001b[1;33m\u001b[0m\u001b[1;33m\u001b[0m\u001b[0m\n\u001b[0;32m     86\u001b[0m \u001b[1;33m\u001b[0m\u001b[0m\n",
      "\u001b[1;31mExecutableNotFound\u001b[0m: failed to execute WindowsPath('dot'), make sure the Graphviz executables are on your systems' PATH"
     ]
    },
    {
     "data": {
      "text/plain": [
       "<graphviz.sources.Source at 0x1287eabcf40>"
      ]
     },
     "execution_count": 27,
     "metadata": {},
     "output_type": "execute_result"
    }
   ],
   "source": [
    "dot_data = export_graphviz(model, out_file=None, \n",
    "                      feature_names=list(X.columns),  \n",
    "                      class_names=[\"Yes\",\"No\"],  \n",
    "                      filled=True, rounded=True,  \n",
    "                      special_characters=True)  \n",
    "graph = graphviz.Source(dot_data)  \n",
    "graph"
   ]
  },
  {
   "cell_type": "markdown",
   "id": "ea6bfd9e",
   "metadata": {},
   "source": [
    "## Applying a Random Forest Classifier on the dataset\n",
    "The metrics of this model are analysed"
   ]
  },
  {
   "cell_type": "code",
   "execution_count": 28,
   "id": "6e94affd",
   "metadata": {
    "execution": {
     "iopub.execute_input": "2023-01-19T23:02:54.720577Z",
     "iopub.status.busy": "2023-01-19T23:02:54.720285Z",
     "iopub.status.idle": "2023-01-19T23:02:55.418087Z",
     "shell.execute_reply": "2023-01-19T23:02:55.417731Z",
     "shell.execute_reply.started": "2023-01-19T23:02:54.720557Z"
    }
   },
   "outputs": [
    {
     "name": "stdout",
     "output_type": "stream",
     "text": [
      "Training Set Evaluation F1-Score : 1.0\n",
      "Testing Set Evaluation F1-Score : 0.9827586206896551\n",
      "Area under curve is :  1.0\n"
     ]
    }
   ],
   "source": [
    "\n",
    "rfc_model = RandomForestClassifier()\n",
    "rfc_model.fit(X_train, y_train)\n",
    "\n",
    "# Evaluating on Training set\n",
    "train = rfc_model.predict(X_train)\n",
    "print('Training Set Evaluation F1-Score :',f1_score(y_train,train))\n",
    "\n",
    "test = rfc_model.predict(X_test)\n",
    "print('Testing Set Evaluation F1-Score :',f1_score(y_test,test))\n",
    "\n",
    "\n",
    "false_positive_rate, true_positive_rate, thresholds = roc_curve(y_test, y_pred)\n",
    "roc_auc = auc(false_positive_rate, true_positive_rate)\n",
    "print(\"Area under curve is : \", roc_auc)"
   ]
  },
  {
   "cell_type": "markdown",
   "id": "3b33b872",
   "metadata": {},
   "source": [
    "## Comparing feature importance of each model"
   ]
  },
  {
   "cell_type": "code",
   "execution_count": 29,
   "id": "591b69e7",
   "metadata": {
    "execution": {
     "iopub.execute_input": "2023-01-19T23:02:55.418877Z",
     "iopub.status.busy": "2023-01-19T23:02:55.418752Z",
     "iopub.status.idle": "2023-01-19T23:02:55.428596Z",
     "shell.execute_reply": "2023-01-19T23:02:55.428233Z",
     "shell.execute_reply.started": "2023-01-19T23:02:55.418865Z"
    }
   },
   "outputs": [
    {
     "name": "stdout",
     "output_type": "stream",
     "text": [
      "    Random_Forest        dt\n",
      "0        0.067003  0.419992\n",
      "1        0.029543  0.000000\n",
      "2        0.053563  0.000000\n",
      "3        0.011160  0.000000\n",
      "4        0.022184  0.000000\n",
      "5        0.029800  0.000000\n",
      "6        0.145224  0.000000\n",
      "7        0.017520  0.000000\n",
      "8        0.078141  0.000000\n",
      "9        0.428671  0.580008\n",
      "10       0.021327  0.000000\n",
      "11       0.012050  0.000000\n",
      "12       0.011025  0.000000\n",
      "13       0.009623  0.000000\n",
      "14       0.009643  0.000000\n",
      "15       0.009238  0.000000\n",
      "16       0.010502  0.000000\n",
      "17       0.008932  0.000000\n",
      "18       0.009554  0.000000\n",
      "19       0.008365  0.000000\n",
      "20       0.002473  0.000000\n",
      "21       0.002549  0.000000\n",
      "22       0.001909  0.000000\n"
     ]
    }
   ],
   "source": [
    "feature_importance=pd.DataFrame({\n",
    "    'Random_Forest':rfc_model.feature_importances_,\n",
    "    'dt':model.feature_importances_\n",
    "})\n",
    "print(feature_importance)"
   ]
  },
  {
   "cell_type": "markdown",
   "id": "2f06a10f",
   "metadata": {},
   "source": [
    "# Plotting the Comparison of features between Random Forest and Decision Trees "
   ]
  },
  {
   "cell_type": "code",
   "execution_count": 30,
   "id": "13a8e2d1",
   "metadata": {
    "execution": {
     "iopub.execute_input": "2023-01-19T23:02:55.429498Z",
     "iopub.status.busy": "2023-01-19T23:02:55.429348Z",
     "iopub.status.idle": "2023-01-19T23:02:55.646769Z",
     "shell.execute_reply": "2023-01-19T23:02:55.646373Z",
     "shell.execute_reply.started": "2023-01-19T23:02:55.429484Z"
    }
   },
   "outputs": [
    {
     "data": {
      "image/png": "[encoded data removed]",
      "text/plain": [
       "<Figure size 1800x800 with 1 Axes>"
      ]
     },
     "metadata": {},
     "output_type": "display_data"
    }
   ],
   "source": [
    "\n",
    "index = np.arange(len(feature_importance))\n",
    "fig, ax = plt.subplots(figsize=(18,8))\n",
    "rfc_feature=ax.barh(index,feature_importance['Random_Forest'],0.4,color='purple',label='Random Forest')\n",
    "dt_feature=ax.barh(index+0.4,feature_importance['dt'],0.4,color='lightgreen',label='Decision Tree')\n",
    "ax.set(yticks=index+0.4,yticklabels=X_train.columns)\n",
    "\n",
    "ax.legend()\n",
    "plt.show()"
   ]
  },
  {
   "cell_type": "markdown",
   "id": "6ac9e5ea",
   "metadata": {},
   "source": []
  },
  {
   "cell_type": "markdown",
   "id": "e2b370e8",
   "metadata": {},
   "source": [
    "## Comparison between Random Forest Classifier and Decision Tree Classifier\n",
    "1. We find that Precipitation(in) is an important factor in the both cases\n",
    "2. The genie impurity is calculated from Sklearn\n",
    "3. The information gain is calculated from the simpleml package\n",
    "4. Both parameters give similar results and helps understand the important features"
   ]
  },
  {
   "cell_type": "markdown",
   "id": "069f2c7f",
   "metadata": {},
   "source": [
    "## Now that we compared our model with the random forest classifier, we move on to Hyperparameter Tuning\n",
    "\n"
   ]
  },
  {
   "cell_type": "code",
   "execution_count": 31,
   "id": "f8669507",
   "metadata": {},
   "outputs": [
    {
     "name": "stdout",
     "output_type": "stream",
     "text": [
      "{'criterion': 'entropy', 'max_depth': 4}\n"
     ]
    }
   ],
   "source": [
    "dec_tree_2 = DecisionTreeClassifier()\n",
    "\n",
    "criterion = ['gini', 'entropy']\n",
    "max_depth = [2,4,6,8,10,12,15,20]\n",
    "\n",
    "\n",
    "parameters = dict(\n",
    "    criterion=criterion,\n",
    "    max_depth=max_depth\n",
    ")\n",
    "\n",
    "clf_GS = GridSearchCV(\n",
    "    dec_tree_2, \n",
    "    parameters,\n",
    "    scoring=\"f1\"\n",
    ")\n",
    "clf_GS.fit(X_train, y_train)\n",
    "print(clf_GS.best_params_)"
   ]
  },
  {
   "cell_type": "markdown",
   "id": "c497294b",
   "metadata": {},
   "source": [
    "1. We see that entropy is the recommended criterion\n",
    "2. We also see that out of the given depths, 20 is optimal "
   ]
  },
  {
   "cell_type": "markdown",
   "id": "7efa7e29",
   "metadata": {},
   "source": [
    "# Predicting occurence of snowfall over a period of time\n",
    "\n",
    "The exact timeperiod over which we can predict is unknown, hence we simulate both models over 1 hour\n",
    "1. Using the input dataset we try to predict the occurence of snowfall over a 72 hour period.\n",
    "2. Results from both normal decision tree classifier and tuned decision tree classifier are compared."
   ]
  },
  {
   "cell_type": "code",
   "execution_count": 32,
   "id": "75185de1",
   "metadata": {
    "execution": {
     "iopub.execute_input": "2023-01-19T23:02:55.647599Z",
     "iopub.status.busy": "2023-01-19T23:02:55.647310Z",
     "iopub.status.idle": "2023-01-19T23:02:55.650177Z",
     "shell.execute_reply": "2023-01-19T23:02:55.649660Z",
     "shell.execute_reply.started": "2023-01-19T23:02:55.647581Z"
    },
    "scrolled": true
   },
   "outputs": [
    {
     "name": "stdout",
     "output_type": "stream",
     "text": [
      "Predicting for  1  hours :\n",
      "Non Hyperparameter-Tuned Decision Tree 0.9496875\n",
      "Hyperparameter-Tuned Decision Tree 0.9465625\n",
      "Predicting for  2  hours :\n",
      "Non Hyperparameter-Tuned Decision Tree 0.9440625\n",
      "Hyperparameter-Tuned Decision Tree 0.936875\n",
      "Predicting for  3  hours :\n",
      "Non Hyperparameter-Tuned Decision Tree 0.945\n",
      "Hyperparameter-Tuned Decision Tree 0.9290625\n",
      "Predicting for  4  hours :\n",
      "Non Hyperparameter-Tuned Decision Tree 0.9406064395123476\n",
      "Hyperparameter-Tuned Decision Tree 0.9274773366677087\n",
      "Predicting for  5  hours :\n",
      "Non Hyperparameter-Tuned Decision Tree 0.9377930603313536\n",
      "Hyperparameter-Tuned Decision Tree 0.899343544857768\n",
      "Predicting for  6  hours :\n",
      "Non Hyperparameter-Tuned Decision Tree 0.9399812441387934\n",
      "Hyperparameter-Tuned Decision Tree 0.8980931541106596\n",
      "Predicting for  7  hours :\n",
      "Non Hyperparameter-Tuned Decision Tree 0.9327914973429197\n",
      "Hyperparameter-Tuned Decision Tree 0.9084088777743045\n",
      "Predicting for  8  hours :\n",
      "Non Hyperparameter-Tuned Decision Tree 0.924015009380863\n",
      "Hyperparameter-Tuned Decision Tree 0.9071294559099438\n",
      "Predicting for  9  hours :\n",
      "Non Hyperparameter-Tuned Decision Tree 0.9312070043777361\n",
      "Hyperparameter-Tuned Decision Tree 0.8968105065666041\n",
      "Predicting for  10  hours :\n",
      "Non Hyperparameter-Tuned Decision Tree 0.9340212632895559\n",
      "Hyperparameter-Tuned Decision Tree 0.8902439024390244\n",
      "Predicting for  11  hours :\n",
      "Non Hyperparameter-Tuned Decision Tree 0.9293308317698562\n",
      "Hyperparameter-Tuned Decision Tree 0.8946216385240775\n",
      "Predicting for  12  hours :\n",
      "Non Hyperparameter-Tuned Decision Tree 0.9314982796371598\n",
      "Hyperparameter-Tuned Decision Tree 0.885830466061933\n",
      "Predicting for  13  hours :\n",
      "Non Hyperparameter-Tuned Decision Tree 0.925868001251173\n",
      "Hyperparameter-Tuned Decision Tree 0.8598686268376603\n",
      "Predicting for  14  hours :\n",
      "Non Hyperparameter-Tuned Decision Tree 0.9349390053174852\n",
      "Hyperparameter-Tuned Decision Tree 0.8880200187675946\n",
      "Predicting for  15  hours :\n",
      "Non Hyperparameter-Tuned Decision Tree 0.9311854863934939\n",
      "Hyperparameter-Tuned Decision Tree 0.886456052549265\n",
      "Predicting for  16  hours :\n",
      "Non Hyperparameter-Tuned Decision Tree 0.9267834793491865\n",
      "Hyperparameter-Tuned Decision Tree 0.8692115143929913\n",
      "Predicting for  17  hours :\n",
      "Non Hyperparameter-Tuned Decision Tree 0.9230287859824781\n",
      "Hyperparameter-Tuned Decision Tree 0.898936170212766\n",
      "Predicting for  18  hours :\n",
      "Non Hyperparameter-Tuned Decision Tree 0.9252190237797246\n",
      "Hyperparameter-Tuned Decision Tree 0.8829787234042553\n",
      "Predicting for  19  hours :\n",
      "Non Hyperparameter-Tuned Decision Tree 0.9245932415519399\n",
      "Hyperparameter-Tuned Decision Tree 0.8951814768460575\n",
      "Predicting for  20  hours :\n",
      "Non Hyperparameter-Tuned Decision Tree 0.9327073552425665\n",
      "Hyperparameter-Tuned Decision Tree 0.8901408450704226\n",
      "Predicting for  21  hours :\n",
      "Non Hyperparameter-Tuned Decision Tree 0.9289514866979656\n",
      "Hyperparameter-Tuned Decision Tree 0.8779342723004695\n",
      "Predicting for  22  hours :\n",
      "Non Hyperparameter-Tuned Decision Tree 0.9289514866979656\n",
      "Hyperparameter-Tuned Decision Tree 0.9029733959311425\n",
      "Predicting for  23  hours :\n",
      "Non Hyperparameter-Tuned Decision Tree 0.9273865414710485\n",
      "Hyperparameter-Tuned Decision Tree 0.8917057902973395\n",
      "Predicting for  24  hours :\n",
      "Non Hyperparameter-Tuned Decision Tree 0.9283030682529744\n",
      "Hyperparameter-Tuned Decision Tree 0.8894802755165936\n",
      "Predicting for  25  hours :\n",
      "Non Hyperparameter-Tuned Decision Tree 0.9254852849092048\n",
      "Hyperparameter-Tuned Decision Tree 0.8894802755165936\n",
      "Predicting for  26  hours :\n",
      "Non Hyperparameter-Tuned Decision Tree 0.9223544145272385\n",
      "Hyperparameter-Tuned Decision Tree 0.871947401377583\n",
      "Predicting for  27  hours :\n",
      "Non Hyperparameter-Tuned Decision Tree 0.9320601127113337\n",
      "Hyperparameter-Tuned Decision Tree 0.8600500939261114\n",
      "Predicting for  28  hours :\n",
      "Non Hyperparameter-Tuned Decision Tree 0.9264015032884435\n",
      "Hyperparameter-Tuned Decision Tree 0.8562480425931726\n",
      "Predicting for  29  hours :\n",
      "Non Hyperparameter-Tuned Decision Tree 0.9317256498590667\n",
      "Hyperparameter-Tuned Decision Tree 0.8271218290009396\n",
      "Predicting for  30  hours :\n",
      "Non Hyperparameter-Tuned Decision Tree 0.9232696523645475\n",
      "Hyperparameter-Tuned Decision Tree 0.8919511431255872\n",
      "Predicting for  31  hours :\n",
      "Non Hyperparameter-Tuned Decision Tree 0.9285937989351707\n",
      "Hyperparameter-Tuned Decision Tree 0.9079235828374569\n",
      "Predicting for  32  hours :\n",
      "Non Hyperparameter-Tuned Decision Tree 0.931077694235589\n",
      "Hyperparameter-Tuned Decision Tree 0.8796992481203008\n",
      "Predicting for  33  hours :\n",
      "Non Hyperparameter-Tuned Decision Tree 0.9323308270676691\n",
      "Hyperparameter-Tuned Decision Tree 0.8771929824561403\n",
      "Predicting for  34  hours :\n",
      "Non Hyperparameter-Tuned Decision Tree 0.9288847117794486\n",
      "Hyperparameter-Tuned Decision Tree 0.9016290726817042\n",
      "Predicting for  35  hours :\n",
      "Non Hyperparameter-Tuned Decision Tree 0.9244987468671679\n",
      "Hyperparameter-Tuned Decision Tree 0.8950501253132832\n",
      "Predicting for  36  hours :\n",
      "Non Hyperparameter-Tuned Decision Tree 0.9354434346599811\n",
      "Hyperparameter-Tuned Decision Tree 0.8715136320902538\n",
      "Predicting for  37  hours :\n",
      "Non Hyperparameter-Tuned Decision Tree 0.9404575368223127\n",
      "Hyperparameter-Tuned Decision Tree 0.8768411156377311\n",
      "Predicting for  38  hours :\n",
      "Non Hyperparameter-Tuned Decision Tree 0.9232215606392981\n",
      "Hyperparameter-Tuned Decision Tree 0.9084926355374491\n",
      "Predicting for  39  hours :\n",
      "Non Hyperparameter-Tuned Decision Tree 0.9335631463491069\n",
      "Hyperparameter-Tuned Decision Tree 0.9031651519899718\n",
      "Predicting for  40  hours :\n",
      "Non Hyperparameter-Tuned Decision Tree 0.932601880877743\n",
      "Hyperparameter-Tuned Decision Tree 0.8899686520376175\n",
      "Predicting for  41  hours :\n",
      "Non Hyperparameter-Tuned Decision Tree 0.9313479623824451\n",
      "Hyperparameter-Tuned Decision Tree 0.9075235109717869\n",
      "Predicting for  42  hours :\n",
      "Non Hyperparameter-Tuned Decision Tree 0.9219435736677116\n",
      "Hyperparameter-Tuned Decision Tree 0.9065830721003135\n",
      "Predicting for  43  hours :\n",
      "Non Hyperparameter-Tuned Decision Tree 0.9275862068965517\n",
      "Hyperparameter-Tuned Decision Tree 0.9037617554858934\n",
      "Predicting for  44  hours :\n",
      "Non Hyperparameter-Tuned Decision Tree 0.9266227657572906\n",
      "Hyperparameter-Tuned Decision Tree 0.8849169018501097\n",
      "Predicting for  45  hours :\n",
      "Non Hyperparameter-Tuned Decision Tree 0.9310128566948886\n",
      "Hyperparameter-Tuned Decision Tree 0.9090624020068987\n",
      "Predicting for  46  hours :\n",
      "Non Hyperparameter-Tuned Decision Tree 0.9285042333019755\n",
      "Hyperparameter-Tuned Decision Tree 0.9074945123863281\n",
      "Predicting for  47  hours :\n",
      "Non Hyperparameter-Tuned Decision Tree 0.9247412982126059\n",
      "Hyperparameter-Tuned Decision Tree 0.892129194104735\n",
      "Predicting for  48  hours :\n",
      "Non Hyperparameter-Tuned Decision Tree 0.9284818067754078\n",
      "Hyperparameter-Tuned Decision Tree 0.9090338770388958\n",
      "Predicting for  49  hours :\n",
      "Non Hyperparameter-Tuned Decision Tree 0.9206398996235885\n",
      "Hyperparameter-Tuned Decision Tree 0.9008782936010038\n",
      "Predicting for  50  hours :\n",
      "Non Hyperparameter-Tuned Decision Tree 0.9156210790464241\n",
      "Hyperparameter-Tuned Decision Tree 0.8851944792973652\n",
      "Predicting for  51  hours :\n",
      "Non Hyperparameter-Tuned Decision Tree 0.9218946047678795\n",
      "Hyperparameter-Tuned Decision Tree 0.9049560853199499\n",
      "Predicting for  52  hours :\n",
      "Non Hyperparameter-Tuned Decision Tree 0.9212425478506432\n",
      "Hyperparameter-Tuned Decision Tree 0.9011609664261061\n",
      "Predicting for  53  hours :\n",
      "Non Hyperparameter-Tuned Decision Tree 0.9215563225604017\n",
      "Hyperparameter-Tuned Decision Tree 0.902729839974898\n",
      "Predicting for  54  hours :\n",
      "Non Hyperparameter-Tuned Decision Tree 0.9199874490116097\n",
      "Hyperparameter-Tuned Decision Tree 0.8999058675870725\n",
      "Predicting for  55  hours :\n",
      "Non Hyperparameter-Tuned Decision Tree 0.9243802949482272\n",
      "Hyperparameter-Tuned Decision Tree 0.9174772513335425\n",
      "Predicting for  56  hours :\n",
      "Non Hyperparameter-Tuned Decision Tree 0.9252981795354677\n",
      "Hyperparameter-Tuned Decision Tree 0.8838669177652229\n",
      "Predicting for  57  hours :\n",
      "Non Hyperparameter-Tuned Decision Tree 0.928436911487759\n",
      "Hyperparameter-Tuned Decision Tree 0.8976773383553045\n",
      "Predicting for  58  hours :\n",
      "Non Hyperparameter-Tuned Decision Tree 0.9281230382925298\n",
      "Hyperparameter-Tuned Decision Tree 0.8910860012554928\n",
      "Predicting for  59  hours :\n",
      "Non Hyperparameter-Tuned Decision Tree 0.9243565599497803\n",
      "Hyperparameter-Tuned Decision Tree 0.8976773383553045\n",
      "Predicting for  60  hours :\n",
      "Non Hyperparameter-Tuned Decision Tree 0.9259026687598116\n"
     ]
    },
    {
     "name": "stdout",
     "output_type": "stream",
     "text": [
      "Hyperparameter-Tuned Decision Tree 0.9058084772370487\n",
      "Predicting for  61  hours :\n",
      "Non Hyperparameter-Tuned Decision Tree 0.9158555729984301\n",
      "Hyperparameter-Tuned Decision Tree 0.9086342229199372\n",
      "Predicting for  62  hours :\n",
      "Non Hyperparameter-Tuned Decision Tree 0.9186813186813186\n",
      "Hyperparameter-Tuned Decision Tree 0.9014128728414442\n",
      "Predicting for  63  hours :\n",
      "Non Hyperparameter-Tuned Decision Tree 0.9237048665620095\n",
      "Hyperparameter-Tuned Decision Tree 0.8916797488226059\n",
      "Predicting for  64  hours :\n",
      "Non Hyperparameter-Tuned Decision Tree 0.9239949748743719\n",
      "Hyperparameter-Tuned Decision Tree 0.8910175879396985\n",
      "Predicting for  65  hours :\n",
      "Non Hyperparameter-Tuned Decision Tree 0.9224246231155779\n",
      "Hyperparameter-Tuned Decision Tree 0.910175879396985\n",
      "Predicting for  66  hours :\n",
      "Non Hyperparameter-Tuned Decision Tree 0.9230527638190955\n",
      "Hyperparameter-Tuned Decision Tree 0.8938442211055276\n",
      "Predicting for  67  hours :\n",
      "Non Hyperparameter-Tuned Decision Tree 0.9189698492462312\n",
      "Hyperparameter-Tuned Decision Tree 0.9048366834170855\n",
      "Predicting for  68  hours :\n",
      "Non Hyperparameter-Tuned Decision Tree 0.9255419415645617\n",
      "Hyperparameter-Tuned Decision Tree 0.879359095193214\n",
      "Predicting for  69  hours :\n",
      "Non Hyperparameter-Tuned Decision Tree 0.9132893496701225\n",
      "Hyperparameter-Tuned Decision Tree 0.8724473766886585\n",
      "Predicting for  70  hours :\n",
      "Non Hyperparameter-Tuned Decision Tree 0.9308828149544455\n",
      "Hyperparameter-Tuned Decision Tree 0.9022934338674207\n",
      "Predicting for  71  hours :\n",
      "Non Hyperparameter-Tuned Decision Tree 0.9308828149544455\n",
      "Hyperparameter-Tuned Decision Tree 0.8850141376060321\n"
     ]
    }
   ],
   "source": [
    "result = []\n",
    "for i in range(1, 72):\n",
    "    print(\"Predicting for \",i,\" hours :\")\n",
    "    df2 = df.copy()\n",
    "    df2['LESShift72'] = df2['LESnowfall'].shift(-i)\n",
    "    df2 = df2[0:-i]\n",
    "    ss = list(df)[1:-1]\n",
    "    x = df2[ss]\n",
    "    y = df2['LESShift72']\n",
    "    \n",
    "    X_train, X_test, y_train, y_test = train_test_split(x, y, random_state=42)\n",
    "\n",
    "    # Create a model \n",
    "    d_model = DecisionTreeClassifier()\n",
    "\n",
    "    # Train the model\n",
    "    d_model.fit(X_train, y_train)\n",
    "\n",
    "    print(\"Non Hyperparameter-Tuned Decision Tree\", d_model.score(X_test, y_test))\n",
    "\n",
    "    dec_tree_2 = DecisionTreeClassifier(\n",
    "        class_weight=\"balanced\", \n",
    "        criterion='gini', \n",
    "        max_depth=20,\n",
    "        max_features=None, \n",
    "        max_leaf_nodes=None,\n",
    "        min_impurity_decrease=0.0,\n",
    "        min_samples_leaf=1, \n",
    "        min_samples_split=2,\n",
    "        min_weight_fraction_leaf=0.0, \n",
    "        random_state=None,\n",
    "        splitter='best'\n",
    "    )\n",
    "\n",
    "    dec_tree_2.fit(X_train, y_train)\n",
    "    \n",
    "    print(\"Hyperparameter-Tuned Decision Tree\", dec_tree_2.score(X_test, y_test))\n"
   ]
  },
  {
   "cell_type": "markdown",
   "id": "aff5c3f4",
   "metadata": {},
   "source": [
    "## Analysing the occurence of snowfall at the end of 72 hours"
   ]
  },
  {
   "cell_type": "markdown",
   "id": "c9449332",
   "metadata": {},
   "source": [
    "- With the analysis done for a time period ranging from 1 to 72 hours, we now specifically try for predicting LES for the 72nd hour using both our models"
   ]
  },
  {
   "cell_type": "code",
   "execution_count": 33,
   "id": "0e690f65",
   "metadata": {
    "execution": {
     "iopub.execute_input": "2023-01-19T23:02:55.650936Z",
     "iopub.status.busy": "2023-01-19T23:02:55.650783Z",
     "iopub.status.idle": "2023-01-19T23:02:56.962258Z",
     "shell.execute_reply": "2023-01-19T23:02:56.961905Z",
     "shell.execute_reply.started": "2023-01-19T23:02:55.650923Z"
    }
   },
   "outputs": [
    {
     "name": "stdout",
     "output_type": "stream",
     "text": [
      "Predicting for  72  hours :\n",
      "\n",
      "\n",
      "Dec Tree 0.9239472030169704\n",
      "R^2 :  -0.6615937009776949\n",
      "MAE : 0.07605279698302954\n",
      "RMSE: 0.2757767158101451\n",
      "Area under curve is :  1.0\n",
      "Testing Set Evaluation F1-Score: 0.2142857142857143\n",
      "\n",
      "\n",
      "Pipeline Model 0.9107479572595851\n",
      "R^2 :  -0.9499694672630798\n",
      "MAE : 0.08925204274041483\n",
      "RMSE: 0.29875080374856705\n",
      "Area under curve is :  1.0\n",
      "Testing Set Evaluation F1-Score: 0.26424870466321243\n"
     ]
    }
   ],
   "source": [
    "\n",
    "i = 72\n",
    "print(\"Predicting for \",i,\" hours :\")\n",
    "df2 = df.copy()\n",
    "df2['LESShift72'] = df2['LESnowfall'].shift(-i)\n",
    "df2 = df2[0:-i]\n",
    "ss = list(df)[1:-1]\n",
    "x = df2[ss]\n",
    "y = df2['LESShift72']\n",
    "\n",
    "X_train, X_test, y_train, y_test = train_test_split(x, y, random_state=42)\n",
    "\n",
    "# Create a model \n",
    "dec_model = DecisionTreeClassifier()\n",
    "\n",
    "# Train the model\n",
    "dec_model.fit(X_train, y_train)\n",
    "y_pred = dec_model.predict(X_test)\n",
    "print(\"\\n\\nDec Tree\", dec_model.score(X_test, y_test))\n",
    "print(\"R^2 : \", r2_score(y_test, y_pred))\n",
    "print(\"MAE :\", mean_absolute_error(y_test,y_pred))\n",
    "print(\"RMSE:\",np.sqrt(mean_squared_error(y_test, y_pred)))\n",
    "print(\"Area under curve is : \",roc_auc)\n",
    "print('Testing Set Evaluation F1-Score:',f1_score(y_test,dec_model.predict(X_test)))\n",
    "\n",
    "dec_tree_2 = DecisionTreeClassifier(\n",
    "    class_weight=\"balanced\", \n",
    "    criterion='entropy', \n",
    "    max_depth=20,\n",
    "    max_features=None, \n",
    "    max_leaf_nodes=None,\n",
    "    min_impurity_decrease=0.0,\n",
    "    min_samples_leaf=1, \n",
    "    min_samples_split=2,\n",
    "    min_weight_fraction_leaf=0.0, \n",
    "    random_state=None,\n",
    "    splitter='best'\n",
    ")\n",
    "\n",
    "dec_tree_2.fit(X_train, y_train)\n",
    "y_pred = dec_tree_2.predict(X_test)\n",
    "print(\"\\n\\nPipeline Model\", dec_tree_2.score(X_test, y_test))\n",
    "print(\"R^2 : \", r2_score(y_test, y_pred))\n",
    "print(\"MAE :\", mean_absolute_error(y_test,y_pred))\n",
    "print(\"RMSE:\",np.sqrt(mean_squared_error(y_test, y_pred)))\n",
    "print(\"Area under curve is : \",roc_auc)\n",
    "print('Testing Set Evaluation F1-Score:',f1_score(y_test,dec_tree_2.predict(X_test)))\n"
   ]
  },
  {
   "cell_type": "markdown",
   "id": "04eb770f",
   "metadata": {},
   "source": [
    "## Visualising our results and analysis"
   ]
  },
  {
   "cell_type": "code",
   "execution_count": 34,
   "id": "551f4104",
   "metadata": {},
   "outputs": [
    {
     "data": {
      "image/png": "[encoded data removed]",
      "text/plain": [
       "<Figure size 640x480 with 1 Axes>"
      ]
     },
     "metadata": {},
     "output_type": "display_data"
    }
   ],
   "source": [
    "plt.barh(['Non Hyperparameter-Tuned Model', 'Hyperparameter-Tuned Model'], [dec_model.score(X_test, y_test), dec_tree_2.score(X_test, y_test)])\n",
    "plt.ylabel('Model Score i.e. mean accuracy on the given test data and labels')\n",
    "plt.show()"
   ]
  },
  {
   "cell_type": "code",
   "execution_count": 35,
   "id": "0e83b386",
   "metadata": {},
   "outputs": [
    {
     "data": {
      "image/png": "[encoded data removed]",
      "text/plain": [
       "<Figure size 640x480 with 1 Axes>"
      ]
     },
     "metadata": {},
     "output_type": "display_data"
    }
   ],
   "source": [
    "plt.barh(['Non Hyperparameter-Tuned Model', 'Hyperparameter-Tuned Model'], [f1_score(y_test,dec_model.predict(X_test)), f1_score(y_test,dec_tree_2.predict(X_test))])\n",
    "plt.ylabel('Testing Set F1 Score')\n",
    "plt.show()"
   ]
  },
  {
   "cell_type": "markdown",
   "id": "eb1b5aea",
   "metadata": {},
   "source": [
    "## Comparing the features at the end of 72 hours\n",
    "1. Analaysing feature importance of both models\n",
    "2. We find that Hyperparameter Tuned Model gives a better result"
   ]
  },
  {
   "cell_type": "code",
   "execution_count": 36,
   "id": "9fe737e5",
   "metadata": {
    "execution": {
     "iopub.execute_input": "2023-01-19T23:02:56.962945Z",
     "iopub.status.busy": "2023-01-19T23:02:56.962832Z",
     "iopub.status.idle": "2023-01-19T23:02:57.177721Z",
     "shell.execute_reply": "2023-01-19T23:02:57.176330Z",
     "shell.execute_reply.started": "2023-01-19T23:02:56.962933Z"
    }
   },
   "outputs": [
    {
     "name": "stdout",
     "output_type": "stream",
     "text": [
      "    Hyperparameter-Tuned Model  Non Hyperparameter-Tuned Model\n",
      "0                     0.074981                        0.042717\n",
      "1                     0.052762                        0.044901\n",
      "2                     0.156477                        0.055144\n",
      "3                     0.034299                        0.034274\n",
      "4                     0.075243                        0.066921\n",
      "5                     0.057220                        0.070398\n",
      "6                     0.010642                        0.022155\n",
      "7                     0.050069                        0.067137\n",
      "8                     0.080267                        0.056229\n",
      "9                     0.012367                        0.012015\n",
      "10                    0.058938                        0.053824\n",
      "11                    0.051349                        0.095851\n",
      "12                    0.019799                        0.056946\n",
      "13                    0.046516                        0.043136\n",
      "14                    0.020531                        0.075323\n",
      "15                    0.056959                        0.049043\n",
      "16                    0.036080                        0.051454\n",
      "17                    0.031952                        0.026697\n",
      "18                    0.016495                        0.036434\n",
      "19                    0.045305                        0.023480\n",
      "20                    0.002257                        0.007816\n",
      "21                    0.004522                        0.001893\n",
      "22                    0.004968                        0.006212\n"
     ]
    },
    {
     "data": {
      "image/png": "[encoded data removed]",
      "text/plain": [
       "<Figure size 1800x800 with 1 Axes>"
      ]
     },
     "metadata": {},
     "output_type": "display_data"
    }
   ],
   "source": [
    "feature_importance=pd.DataFrame({\n",
    "    'Hyperparameter-Tuned Model':dec_tree_2.feature_importances_,\n",
    "    'Non Hyperparameter-Tuned Model':dec_model.feature_importances_\n",
    "})\n",
    "\n",
    "print(feature_importance)\n",
    "\n",
    "index = np.arange(len(feature_importance))\n",
    "fig, ax = plt.subplots(figsize=(18,8))\n",
    "rfc_feature=ax.barh(index,feature_importance['Hyperparameter-Tuned Model'],0.4,color='purple',label='Hyperparameter-Tuned Model')\n",
    "dt_feature=ax.barh(index+0.4,feature_importance['Non Hyperparameter-Tuned Model'],0.4,color='lightgreen',label='Non Hyperparameter-Tuned Model')\n",
    "ax.set(yticks=index+0.4,yticklabels=X_train.columns)\n",
    "\n",
    "ax.legend()\n",
    "plt.show()"
   ]
  },
  {
   "cell_type": "markdown",
   "id": "ee2216b5",
   "metadata": {},
   "source": [
    "## Visualising our tree as a graph and text representation"
   ]
  },
  {
   "cell_type": "code",
   "execution_count": 37,
   "id": "1b8a883b",
   "metadata": {
    "execution": {
     "iopub.execute_input": "2023-01-19T23:02:57.178773Z",
     "iopub.status.busy": "2023-01-19T23:02:57.178600Z",
     "iopub.status.idle": "2023-01-19T23:02:57.539939Z",
     "shell.execute_reply": "2023-01-19T23:02:57.539162Z",
     "shell.execute_reply.started": "2023-01-19T23:02:57.178757Z"
    },
    "tags": []
   },
   "outputs": [
    {
     "ename": "ExecutableNotFound",
     "evalue": "failed to execute WindowsPath('dot'), make sure the Graphviz executables are on your systems' PATH",
     "output_type": "error",
     "traceback": [
      "\u001b[1;31m---------------------------------------------------------------------------\u001b[0m",
      "\u001b[1;31mFileNotFoundError\u001b[0m                         Traceback (most recent call last)",
      "\u001b[1;32m~\\anaconda3\\lib\\site-packages\\graphviz\\backend\\execute.py\u001b[0m in \u001b[0;36mrun_check\u001b[1;34m(cmd, input_lines, encoding, quiet, **kwargs)\u001b[0m\n\u001b[0;32m     78\u001b[0m                 \u001b[0mkwargs\u001b[0m\u001b[1;33m[\u001b[0m\u001b[1;34m'stdout'\u001b[0m\u001b[1;33m]\u001b[0m \u001b[1;33m=\u001b[0m \u001b[0mkwargs\u001b[0m\u001b[1;33m[\u001b[0m\u001b[1;34m'stderr'\u001b[0m\u001b[1;33m]\u001b[0m \u001b[1;33m=\u001b[0m \u001b[0msubprocess\u001b[0m\u001b[1;33m.\u001b[0m\u001b[0mPIPE\u001b[0m\u001b[1;33m\u001b[0m\u001b[1;33m\u001b[0m\u001b[0m\n\u001b[1;32m---> 79\u001b[1;33m             \u001b[0mproc\u001b[0m \u001b[1;33m=\u001b[0m \u001b[0m_run_input_lines\u001b[0m\u001b[1;33m(\u001b[0m\u001b[0mcmd\u001b[0m\u001b[1;33m,\u001b[0m \u001b[0minput_lines\u001b[0m\u001b[1;33m,\u001b[0m \u001b[0mkwargs\u001b[0m\u001b[1;33m=\u001b[0m\u001b[0mkwargs\u001b[0m\u001b[1;33m)\u001b[0m\u001b[1;33m\u001b[0m\u001b[1;33m\u001b[0m\u001b[0m\n\u001b[0m\u001b[0;32m     80\u001b[0m         \u001b[1;32melse\u001b[0m\u001b[1;33m:\u001b[0m\u001b[1;33m\u001b[0m\u001b[1;33m\u001b[0m\u001b[0m\n",
      "\u001b[1;32m~\\anaconda3\\lib\\site-packages\\graphviz\\backend\\execute.py\u001b[0m in \u001b[0;36m_run_input_lines\u001b[1;34m(cmd, input_lines, kwargs)\u001b[0m\n\u001b[0;32m     98\u001b[0m \u001b[1;32mdef\u001b[0m \u001b[0m_run_input_lines\u001b[0m\u001b[1;33m(\u001b[0m\u001b[0mcmd\u001b[0m\u001b[1;33m,\u001b[0m \u001b[0minput_lines\u001b[0m\u001b[1;33m,\u001b[0m \u001b[1;33m*\u001b[0m\u001b[1;33m,\u001b[0m \u001b[0mkwargs\u001b[0m\u001b[1;33m)\u001b[0m\u001b[1;33m:\u001b[0m\u001b[1;33m\u001b[0m\u001b[1;33m\u001b[0m\u001b[0m\n\u001b[1;32m---> 99\u001b[1;33m     \u001b[0mpopen\u001b[0m \u001b[1;33m=\u001b[0m \u001b[0msubprocess\u001b[0m\u001b[1;33m.\u001b[0m\u001b[0mPopen\u001b[0m\u001b[1;33m(\u001b[0m\u001b[0mcmd\u001b[0m\u001b[1;33m,\u001b[0m \u001b[0mstdin\u001b[0m\u001b[1;33m=\u001b[0m\u001b[0msubprocess\u001b[0m\u001b[1;33m.\u001b[0m\u001b[0mPIPE\u001b[0m\u001b[1;33m,\u001b[0m \u001b[1;33m**\u001b[0m\u001b[0mkwargs\u001b[0m\u001b[1;33m)\u001b[0m\u001b[1;33m\u001b[0m\u001b[1;33m\u001b[0m\u001b[0m\n\u001b[0m\u001b[0;32m    100\u001b[0m \u001b[1;33m\u001b[0m\u001b[0m\n",
      "\u001b[1;32m~\\anaconda3\\lib\\subprocess.py\u001b[0m in \u001b[0;36m__init__\u001b[1;34m(self, args, bufsize, executable, stdin, stdout, stderr, preexec_fn, close_fds, shell, cwd, env, universal_newlines, startupinfo, creationflags, restore_signals, start_new_session, pass_fds, user, group, extra_groups, encoding, errors, text, umask)\u001b[0m\n\u001b[0;32m    950\u001b[0m \u001b[1;33m\u001b[0m\u001b[0m\n\u001b[1;32m--> 951\u001b[1;33m             self._execute_child(args, executable, preexec_fn, close_fds,\n\u001b[0m\u001b[0;32m    952\u001b[0m                                 \u001b[0mpass_fds\u001b[0m\u001b[1;33m,\u001b[0m \u001b[0mcwd\u001b[0m\u001b[1;33m,\u001b[0m \u001b[0menv\u001b[0m\u001b[1;33m,\u001b[0m\u001b[1;33m\u001b[0m\u001b[1;33m\u001b[0m\u001b[0m\n",
      "\u001b[1;32m~\\anaconda3\\lib\\subprocess.py\u001b[0m in \u001b[0;36m_execute_child\u001b[1;34m(self, args, executable, preexec_fn, close_fds, pass_fds, cwd, env, startupinfo, creationflags, shell, p2cread, p2cwrite, c2pread, c2pwrite, errread, errwrite, unused_restore_signals, unused_gid, unused_gids, unused_uid, unused_umask, unused_start_new_session)\u001b[0m\n\u001b[0;32m   1419\u001b[0m             \u001b[1;32mtry\u001b[0m\u001b[1;33m:\u001b[0m\u001b[1;33m\u001b[0m\u001b[1;33m\u001b[0m\u001b[0m\n\u001b[1;32m-> 1420\u001b[1;33m                 hp, ht, pid, tid = _winapi.CreateProcess(executable, args,\n\u001b[0m\u001b[0;32m   1421\u001b[0m                                          \u001b[1;31m# no special security\u001b[0m\u001b[1;33m\u001b[0m\u001b[1;33m\u001b[0m\u001b[0m\n",
      "\u001b[1;31mFileNotFoundError\u001b[0m: [WinError 2] The system cannot find the file specified",
      "\nThe above exception was the direct cause of the following exception:\n",
      "\u001b[1;31mExecutableNotFound\u001b[0m                        Traceback (most recent call last)",
      "\u001b[1;32m~\\anaconda3\\lib\\site-packages\\IPython\\core\\formatters.py\u001b[0m in \u001b[0;36m__call__\u001b[1;34m(self, obj, include, exclude)\u001b[0m\n\u001b[0;32m    968\u001b[0m \u001b[1;33m\u001b[0m\u001b[0m\n\u001b[0;32m    969\u001b[0m             \u001b[1;32mif\u001b[0m \u001b[0mmethod\u001b[0m \u001b[1;32mis\u001b[0m \u001b[1;32mnot\u001b[0m \u001b[1;32mNone\u001b[0m\u001b[1;33m:\u001b[0m\u001b[1;33m\u001b[0m\u001b[1;33m\u001b[0m\u001b[0m\n\u001b[1;32m--> 970\u001b[1;33m                 \u001b[1;32mreturn\u001b[0m \u001b[0mmethod\u001b[0m\u001b[1;33m(\u001b[0m\u001b[0minclude\u001b[0m\u001b[1;33m=\u001b[0m\u001b[0minclude\u001b[0m\u001b[1;33m,\u001b[0m \u001b[0mexclude\u001b[0m\u001b[1;33m=\u001b[0m\u001b[0mexclude\u001b[0m\u001b[1;33m)\u001b[0m\u001b[1;33m\u001b[0m\u001b[1;33m\u001b[0m\u001b[0m\n\u001b[0m\u001b[0;32m    971\u001b[0m             \u001b[1;32mreturn\u001b[0m \u001b[1;32mNone\u001b[0m\u001b[1;33m\u001b[0m\u001b[1;33m\u001b[0m\u001b[0m\n\u001b[0;32m    972\u001b[0m         \u001b[1;32melse\u001b[0m\u001b[1;33m:\u001b[0m\u001b[1;33m\u001b[0m\u001b[1;33m\u001b[0m\u001b[0m\n",
      "\u001b[1;32m~\\anaconda3\\lib\\site-packages\\graphviz\\jupyter_integration.py\u001b[0m in \u001b[0;36m_repr_mimebundle_\u001b[1;34m(self, include, exclude, **_)\u001b[0m\n\u001b[0;32m     96\u001b[0m         \u001b[0minclude\u001b[0m \u001b[1;33m=\u001b[0m \u001b[0mset\u001b[0m\u001b[1;33m(\u001b[0m\u001b[0minclude\u001b[0m\u001b[1;33m)\u001b[0m \u001b[1;32mif\u001b[0m \u001b[0minclude\u001b[0m \u001b[1;32mis\u001b[0m \u001b[1;32mnot\u001b[0m \u001b[1;32mNone\u001b[0m \u001b[1;32melse\u001b[0m \u001b[1;33m{\u001b[0m\u001b[0mself\u001b[0m\u001b[1;33m.\u001b[0m\u001b[0m_jupyter_mimetype\u001b[0m\u001b[1;33m}\u001b[0m\u001b[1;33m\u001b[0m\u001b[1;33m\u001b[0m\u001b[0m\n\u001b[0;32m     97\u001b[0m         \u001b[0minclude\u001b[0m \u001b[1;33m-=\u001b[0m \u001b[0mset\u001b[0m\u001b[1;33m(\u001b[0m\u001b[0mexclude\u001b[0m \u001b[1;32mor\u001b[0m \u001b[1;33m[\u001b[0m\u001b[1;33m]\u001b[0m\u001b[1;33m)\u001b[0m\u001b[1;33m\u001b[0m\u001b[1;33m\u001b[0m\u001b[0m\n\u001b[1;32m---> 98\u001b[1;33m         return {mimetype: getattr(self, method_name)()\n\u001b[0m\u001b[0;32m     99\u001b[0m                 \u001b[1;32mfor\u001b[0m \u001b[0mmimetype\u001b[0m\u001b[1;33m,\u001b[0m \u001b[0mmethod_name\u001b[0m \u001b[1;32min\u001b[0m \u001b[0mMIME_TYPES\u001b[0m\u001b[1;33m.\u001b[0m\u001b[0mitems\u001b[0m\u001b[1;33m(\u001b[0m\u001b[1;33m)\u001b[0m\u001b[1;33m\u001b[0m\u001b[1;33m\u001b[0m\u001b[0m\n\u001b[0;32m    100\u001b[0m                 if mimetype in include}\n",
      "\u001b[1;32m~\\anaconda3\\lib\\site-packages\\graphviz\\jupyter_integration.py\u001b[0m in \u001b[0;36m<dictcomp>\u001b[1;34m(.0)\u001b[0m\n\u001b[0;32m     96\u001b[0m         \u001b[0minclude\u001b[0m \u001b[1;33m=\u001b[0m \u001b[0mset\u001b[0m\u001b[1;33m(\u001b[0m\u001b[0minclude\u001b[0m\u001b[1;33m)\u001b[0m \u001b[1;32mif\u001b[0m \u001b[0minclude\u001b[0m \u001b[1;32mis\u001b[0m \u001b[1;32mnot\u001b[0m \u001b[1;32mNone\u001b[0m \u001b[1;32melse\u001b[0m \u001b[1;33m{\u001b[0m\u001b[0mself\u001b[0m\u001b[1;33m.\u001b[0m\u001b[0m_jupyter_mimetype\u001b[0m\u001b[1;33m}\u001b[0m\u001b[1;33m\u001b[0m\u001b[1;33m\u001b[0m\u001b[0m\n\u001b[0;32m     97\u001b[0m         \u001b[0minclude\u001b[0m \u001b[1;33m-=\u001b[0m \u001b[0mset\u001b[0m\u001b[1;33m(\u001b[0m\u001b[0mexclude\u001b[0m \u001b[1;32mor\u001b[0m \u001b[1;33m[\u001b[0m\u001b[1;33m]\u001b[0m\u001b[1;33m)\u001b[0m\u001b[1;33m\u001b[0m\u001b[1;33m\u001b[0m\u001b[0m\n\u001b[1;32m---> 98\u001b[1;33m         return {mimetype: getattr(self, method_name)()\n\u001b[0m\u001b[0;32m     99\u001b[0m                 \u001b[1;32mfor\u001b[0m \u001b[0mmimetype\u001b[0m\u001b[1;33m,\u001b[0m \u001b[0mmethod_name\u001b[0m \u001b[1;32min\u001b[0m \u001b[0mMIME_TYPES\u001b[0m\u001b[1;33m.\u001b[0m\u001b[0mitems\u001b[0m\u001b[1;33m(\u001b[0m\u001b[1;33m)\u001b[0m\u001b[1;33m\u001b[0m\u001b[1;33m\u001b[0m\u001b[0m\n\u001b[0;32m    100\u001b[0m                 if mimetype in include}\n",
      "\u001b[1;32m~\\anaconda3\\lib\\site-packages\\graphviz\\jupyter_integration.py\u001b[0m in \u001b[0;36m_repr_image_svg_xml\u001b[1;34m(self)\u001b[0m\n\u001b[0;32m    110\u001b[0m     \u001b[1;32mdef\u001b[0m \u001b[0m_repr_image_svg_xml\u001b[0m\u001b[1;33m(\u001b[0m\u001b[0mself\u001b[0m\u001b[1;33m)\u001b[0m \u001b[1;33m->\u001b[0m \u001b[0mstr\u001b[0m\u001b[1;33m:\u001b[0m\u001b[1;33m\u001b[0m\u001b[1;33m\u001b[0m\u001b[0m\n\u001b[0;32m    111\u001b[0m         \u001b[1;34m\"\"\"Return the rendered graph as SVG string.\"\"\"\u001b[0m\u001b[1;33m\u001b[0m\u001b[1;33m\u001b[0m\u001b[0m\n\u001b[1;32m--> 112\u001b[1;33m         \u001b[1;32mreturn\u001b[0m \u001b[0mself\u001b[0m\u001b[1;33m.\u001b[0m\u001b[0mpipe\u001b[0m\u001b[1;33m(\u001b[0m\u001b[0mformat\u001b[0m\u001b[1;33m=\u001b[0m\u001b[1;34m'svg'\u001b[0m\u001b[1;33m,\u001b[0m \u001b[0mencoding\u001b[0m\u001b[1;33m=\u001b[0m\u001b[0mSVG_ENCODING\u001b[0m\u001b[1;33m)\u001b[0m\u001b[1;33m\u001b[0m\u001b[1;33m\u001b[0m\u001b[0m\n\u001b[0m",
      "\u001b[1;32m~\\anaconda3\\lib\\site-packages\\graphviz\\piping.py\u001b[0m in \u001b[0;36mpipe\u001b[1;34m(self, format, renderer, formatter, neato_no_op, quiet, engine, encoding)\u001b[0m\n\u001b[0;32m    102\u001b[0m             \u001b[1;34m'<?xml version='\u001b[0m\u001b[1;33m\u001b[0m\u001b[1;33m\u001b[0m\u001b[0m\n\u001b[0;32m    103\u001b[0m         \"\"\"\n\u001b[1;32m--> 104\u001b[1;33m         return self._pipe_legacy(format,\n\u001b[0m\u001b[0;32m    105\u001b[0m                                  \u001b[0mrenderer\u001b[0m\u001b[1;33m=\u001b[0m\u001b[0mrenderer\u001b[0m\u001b[1;33m,\u001b[0m\u001b[1;33m\u001b[0m\u001b[1;33m\u001b[0m\u001b[0m\n\u001b[0;32m    106\u001b[0m                                  \u001b[0mformatter\u001b[0m\u001b[1;33m=\u001b[0m\u001b[0mformatter\u001b[0m\u001b[1;33m,\u001b[0m\u001b[1;33m\u001b[0m\u001b[1;33m\u001b[0m\u001b[0m\n",
      "\u001b[1;32m~\\anaconda3\\lib\\site-packages\\graphviz\\_tools.py\u001b[0m in \u001b[0;36mwrapper\u001b[1;34m(*args, **kwargs)\u001b[0m\n\u001b[0;32m    169\u001b[0m                               category=category)\n\u001b[0;32m    170\u001b[0m \u001b[1;33m\u001b[0m\u001b[0m\n\u001b[1;32m--> 171\u001b[1;33m             \u001b[1;32mreturn\u001b[0m \u001b[0mfunc\u001b[0m\u001b[1;33m(\u001b[0m\u001b[1;33m*\u001b[0m\u001b[0margs\u001b[0m\u001b[1;33m,\u001b[0m \u001b[1;33m**\u001b[0m\u001b[0mkwargs\u001b[0m\u001b[1;33m)\u001b[0m\u001b[1;33m\u001b[0m\u001b[1;33m\u001b[0m\u001b[0m\n\u001b[0m\u001b[0;32m    172\u001b[0m \u001b[1;33m\u001b[0m\u001b[0m\n\u001b[0;32m    173\u001b[0m         \u001b[1;32mreturn\u001b[0m \u001b[0mwrapper\u001b[0m\u001b[1;33m\u001b[0m\u001b[1;33m\u001b[0m\u001b[0m\n",
      "\u001b[1;32m~\\anaconda3\\lib\\site-packages\\graphviz\\piping.py\u001b[0m in \u001b[0;36m_pipe_legacy\u001b[1;34m(self, format, renderer, formatter, neato_no_op, quiet, engine, encoding)\u001b[0m\n\u001b[0;32m    119\u001b[0m                      \u001b[0mengine\u001b[0m\u001b[1;33m:\u001b[0m \u001b[0mtyping\u001b[0m\u001b[1;33m.\u001b[0m\u001b[0mOptional\u001b[0m\u001b[1;33m[\u001b[0m\u001b[0mstr\u001b[0m\u001b[1;33m]\u001b[0m \u001b[1;33m=\u001b[0m \u001b[1;32mNone\u001b[0m\u001b[1;33m,\u001b[0m\u001b[1;33m\u001b[0m\u001b[1;33m\u001b[0m\u001b[0m\n\u001b[0;32m    120\u001b[0m                      encoding: typing.Optional[str] = None) -> typing.Union[bytes, str]:\n\u001b[1;32m--> 121\u001b[1;33m         return self._pipe_future(format,\n\u001b[0m\u001b[0;32m    122\u001b[0m                                  \u001b[0mrenderer\u001b[0m\u001b[1;33m=\u001b[0m\u001b[0mrenderer\u001b[0m\u001b[1;33m,\u001b[0m\u001b[1;33m\u001b[0m\u001b[1;33m\u001b[0m\u001b[0m\n\u001b[0;32m    123\u001b[0m                                  \u001b[0mformatter\u001b[0m\u001b[1;33m=\u001b[0m\u001b[0mformatter\u001b[0m\u001b[1;33m,\u001b[0m\u001b[1;33m\u001b[0m\u001b[1;33m\u001b[0m\u001b[0m\n",
      "\u001b[1;32m~\\anaconda3\\lib\\site-packages\\graphviz\\piping.py\u001b[0m in \u001b[0;36m_pipe_future\u001b[1;34m(self, format, renderer, formatter, neato_no_op, quiet, engine, encoding)\u001b[0m\n\u001b[0;32m    147\u001b[0m             \u001b[1;32mif\u001b[0m \u001b[0mcodecs\u001b[0m\u001b[1;33m.\u001b[0m\u001b[0mlookup\u001b[0m\u001b[1;33m(\u001b[0m\u001b[0mencoding\u001b[0m\u001b[1;33m)\u001b[0m \u001b[1;32mis\u001b[0m \u001b[0mcodecs\u001b[0m\u001b[1;33m.\u001b[0m\u001b[0mlookup\u001b[0m\u001b[1;33m(\u001b[0m\u001b[0mself\u001b[0m\u001b[1;33m.\u001b[0m\u001b[0mencoding\u001b[0m\u001b[1;33m)\u001b[0m\u001b[1;33m:\u001b[0m\u001b[1;33m\u001b[0m\u001b[1;33m\u001b[0m\u001b[0m\n\u001b[0;32m    148\u001b[0m                 \u001b[1;31m# common case: both stdin and stdout need the same encoding\u001b[0m\u001b[1;33m\u001b[0m\u001b[1;33m\u001b[0m\u001b[0m\n\u001b[1;32m--> 149\u001b[1;33m                 \u001b[1;32mreturn\u001b[0m \u001b[0mself\u001b[0m\u001b[1;33m.\u001b[0m\u001b[0m_pipe_lines_string\u001b[0m\u001b[1;33m(\u001b[0m\u001b[1;33m*\u001b[0m\u001b[0margs\u001b[0m\u001b[1;33m,\u001b[0m \u001b[0mencoding\u001b[0m\u001b[1;33m=\u001b[0m\u001b[0mencoding\u001b[0m\u001b[1;33m,\u001b[0m \u001b[1;33m**\u001b[0m\u001b[0mkwargs\u001b[0m\u001b[1;33m)\u001b[0m\u001b[1;33m\u001b[0m\u001b[1;33m\u001b[0m\u001b[0m\n\u001b[0m\u001b[0;32m    150\u001b[0m             \u001b[1;32mtry\u001b[0m\u001b[1;33m:\u001b[0m\u001b[1;33m\u001b[0m\u001b[1;33m\u001b[0m\u001b[0m\n\u001b[0;32m    151\u001b[0m                 \u001b[0mraw\u001b[0m \u001b[1;33m=\u001b[0m \u001b[0mself\u001b[0m\u001b[1;33m.\u001b[0m\u001b[0m_pipe_lines\u001b[0m\u001b[1;33m(\u001b[0m\u001b[1;33m*\u001b[0m\u001b[0margs\u001b[0m\u001b[1;33m,\u001b[0m \u001b[0minput_encoding\u001b[0m\u001b[1;33m=\u001b[0m\u001b[0mself\u001b[0m\u001b[1;33m.\u001b[0m\u001b[0mencoding\u001b[0m\u001b[1;33m,\u001b[0m \u001b[1;33m**\u001b[0m\u001b[0mkwargs\u001b[0m\u001b[1;33m)\u001b[0m\u001b[1;33m\u001b[0m\u001b[1;33m\u001b[0m\u001b[0m\n",
      "\u001b[1;32m~\\anaconda3\\lib\\site-packages\\graphviz\\backend\\piping.py\u001b[0m in \u001b[0;36mpipe_lines_string\u001b[1;34m(engine, format, input_lines, encoding, renderer, formatter, neato_no_op, quiet)\u001b[0m\n\u001b[0;32m    210\u001b[0m     \u001b[0mkwargs\u001b[0m \u001b[1;33m=\u001b[0m \u001b[1;33m{\u001b[0m\u001b[1;34m'input_lines'\u001b[0m\u001b[1;33m:\u001b[0m \u001b[0minput_lines\u001b[0m\u001b[1;33m,\u001b[0m \u001b[1;34m'encoding'\u001b[0m\u001b[1;33m:\u001b[0m \u001b[0mencoding\u001b[0m\u001b[1;33m}\u001b[0m\u001b[1;33m\u001b[0m\u001b[1;33m\u001b[0m\u001b[0m\n\u001b[0;32m    211\u001b[0m \u001b[1;33m\u001b[0m\u001b[0m\n\u001b[1;32m--> 212\u001b[1;33m     \u001b[0mproc\u001b[0m \u001b[1;33m=\u001b[0m \u001b[0mexecute\u001b[0m\u001b[1;33m.\u001b[0m\u001b[0mrun_check\u001b[0m\u001b[1;33m(\u001b[0m\u001b[0mcmd\u001b[0m\u001b[1;33m,\u001b[0m \u001b[0mcapture_output\u001b[0m\u001b[1;33m=\u001b[0m\u001b[1;32mTrue\u001b[0m\u001b[1;33m,\u001b[0m \u001b[0mquiet\u001b[0m\u001b[1;33m=\u001b[0m\u001b[0mquiet\u001b[0m\u001b[1;33m,\u001b[0m \u001b[1;33m**\u001b[0m\u001b[0mkwargs\u001b[0m\u001b[1;33m)\u001b[0m\u001b[1;33m\u001b[0m\u001b[1;33m\u001b[0m\u001b[0m\n\u001b[0m\u001b[0;32m    213\u001b[0m     \u001b[1;32mreturn\u001b[0m \u001b[0mproc\u001b[0m\u001b[1;33m.\u001b[0m\u001b[0mstdout\u001b[0m\u001b[1;33m\u001b[0m\u001b[1;33m\u001b[0m\u001b[0m\n",
      "\u001b[1;32m~\\anaconda3\\lib\\site-packages\\graphviz\\backend\\execute.py\u001b[0m in \u001b[0;36mrun_check\u001b[1;34m(cmd, input_lines, encoding, quiet, **kwargs)\u001b[0m\n\u001b[0;32m     82\u001b[0m     \u001b[1;32mexcept\u001b[0m \u001b[0mOSError\u001b[0m \u001b[1;32mas\u001b[0m \u001b[0me\u001b[0m\u001b[1;33m:\u001b[0m\u001b[1;33m\u001b[0m\u001b[1;33m\u001b[0m\u001b[0m\n\u001b[0;32m     83\u001b[0m         \u001b[1;32mif\u001b[0m \u001b[0me\u001b[0m\u001b[1;33m.\u001b[0m\u001b[0merrno\u001b[0m \u001b[1;33m==\u001b[0m \u001b[0merrno\u001b[0m\u001b[1;33m.\u001b[0m\u001b[0mENOENT\u001b[0m\u001b[1;33m:\u001b[0m\u001b[1;33m\u001b[0m\u001b[1;33m\u001b[0m\u001b[0m\n\u001b[1;32m---> 84\u001b[1;33m             \u001b[1;32mraise\u001b[0m \u001b[0mExecutableNotFound\u001b[0m\u001b[1;33m(\u001b[0m\u001b[0mcmd\u001b[0m\u001b[1;33m)\u001b[0m \u001b[1;32mfrom\u001b[0m \u001b[0me\u001b[0m\u001b[1;33m\u001b[0m\u001b[1;33m\u001b[0m\u001b[0m\n\u001b[0m\u001b[0;32m     85\u001b[0m         \u001b[1;32mraise\u001b[0m\u001b[1;33m\u001b[0m\u001b[1;33m\u001b[0m\u001b[0m\n\u001b[0;32m     86\u001b[0m \u001b[1;33m\u001b[0m\u001b[0m\n",
      "\u001b[1;31mExecutableNotFound\u001b[0m: failed to execute WindowsPath('dot'), make sure the Graphviz executables are on your systems' PATH"
     ]
    },
    {
     "data": {
      "text/plain": [
       "<graphviz.sources.Source at 0x128054e4d30>"
      ]
     },
     "execution_count": 37,
     "metadata": {},
     "output_type": "execute_result"
    }
   ],
   "source": [
    "from sklearn import tree\n",
    "dot_data = export_graphviz(dec_tree_2, out_file=None, \n",
    "                      feature_names=ss,  \n",
    "                      class_names=[\"Yes\",\"No\"],  \n",
    "                      filled=True, rounded=True,  \n",
    "                      special_characters=True)  \n",
    "graph = graphviz.Source(dot_data)  \n",
    "graph "
   ]
  },
  {
   "cell_type": "code",
   "execution_count": 38,
   "id": "84286999",
   "metadata": {
    "execution": {
     "iopub.execute_input": "2023-01-19T23:02:57.541064Z",
     "iopub.status.busy": "2023-01-19T23:02:57.540885Z",
     "iopub.status.idle": "2023-01-19T23:02:57.549690Z",
     "shell.execute_reply": "2023-01-19T23:02:57.549345Z",
     "shell.execute_reply.started": "2023-01-19T23:02:57.541048Z"
    }
   },
   "outputs": [
    {
     "name": "stdout",
     "output_type": "stream",
     "text": [
      "|--- feature_2 <= 33.50\n",
      "|   |--- feature_10 <= 15.34\n",
      "|   |   |--- feature_8 <= 1028.75\n",
      "|   |   |   |--- feature_4 <= 215.00\n",
      "|   |   |   |   |--- feature_4 <= 75.00\n",
      "|   |   |   |   |   |--- feature_5 <= 1050.00\n",
      "|   |   |   |   |   |   |--- class: 0.0\n",
      "|   |   |   |   |   |--- feature_5 >  1050.00\n",
      "|   |   |   |   |   |   |--- feature_10 <= 13.50\n",
      "|   |   |   |   |   |   |   |--- feature_19 <= 1.71\n",
      "|   |   |   |   |   |   |   |   |--- feature_5 <= 3050.00\n",
      "|   |   |   |   |   |   |   |   |   |--- feature_6 <= 1.50\n",
      "|   |   |   |   |   |   |   |   |   |   |--- class: 0.0\n",
      "|   |   |   |   |   |   |   |   |   |--- feature_6 >  1.50\n",
      "|   |   |   |   |   |   |   |   |   |   |--- class: 0.0\n",
      "|   |   |   |   |   |   |   |   |--- feature_5 >  3050.00\n",
      "|   |   |   |   |   |   |   |   |   |--- feature_13 <= 43.92\n",
      "|   |   |   |   |   |   |   |   |   |   |--- feature_15 <= 1.24\n",
      "|   |   |   |   |   |   |   |   |   |   |   |--- class: 0.0\n",
      "|   |   |   |   |   |   |   |   |   |   |--- feature_15 >  1.24\n",
      "|   |   |   |   |   |   |   |   |   |   |   |--- truncated branch of depth 3\n",
      "|   |   |   |   |   |   |   |   |   |--- feature_13 >  43.92\n",
      "|   |   |   |   |   |   |   |   |   |   |--- class: 0.0\n",
      "|   |   |   |   |   |   |   |--- feature_19 >  1.71\n",
      "|   |   |   |   |   |   |   |   |--- feature_16 <= 0.72\n",
      "|   |   |   |   |   |   |   |   |   |--- feature_3 <= 7.50\n",
      "|   |   |   |   |   |   |   |   |   |   |--- feature_17 <= 0.01\n",
      "|   |   |   |   |   |   |   |   |   |   |   |--- truncated branch of depth 2\n",
      "|   |   |   |   |   |   |   |   |   |   |--- feature_17 >  0.01\n",
      "|   |   |   |   |   |   |   |   |   |   |   |--- class: 0.0\n",
      "|   |   |   |   |   |   |   |   |   |--- feature_3 >  7.50\n",
      "|   |   |   |   |   |   |   |   |   |   |--- feature_7 <= 990.85\n",
      "|   |   |   |   |   |   |   |   |   |   |   |--- class: 0.0\n",
      "|   |   |   |   |   |   |   |   |   |   |--- feature_7 >  990.85\n",
      "|   |   |   |   |   |   |   |   |   |   |   |--- truncated branch of depth 10\n",
      "|   |   |   |   |   |   |   |   |--- feature_16 >  0.72\n",
      "|   |   |   |   |   |   |   |   |   |--- class: 0.0\n",
      "|   |   |   |   |   |   |--- feature_10 >  13.50\n",
      "|   |   |   |   |   |   |   |--- feature_2 <= 0.00\n",
      "|   |   |   |   |   |   |   |   |--- class: 0.0\n",
      "|   |   |   |   |   |   |   |--- feature_2 >  0.00\n",
      "|   |   |   |   |   |   |   |   |--- class: 0.0\n",
      "|   |   |   |   |--- feature_4 >  75.00\n",
      "|   |   |   |   |   |--- feature_8 <= 1014.95\n",
      "|   |   |   |   |   |   |--- class: 0.0\n",
      "|   |   |   |   |   |--- feature_8 >  1014.95\n",
      "|   |   |   |   |   |   |--- feature_4 <= 135.00\n",
      "|   |   |   |   |   |   |   |--- class: 0.0\n",
      "|   |   |   |   |   |   |--- feature_4 >  135.00\n",
      "|   |   |   |   |   |   |   |--- feature_10 <= 0.50\n",
      "|   |   |   |   |   |   |   |   |--- class: 0.0\n",
      "|   |   |   |   |   |   |   |--- feature_10 >  0.50\n",
      "|   |   |   |   |   |   |   |   |--- feature_19 <= 1.68\n",
      "|   |   |   |   |   |   |   |   |   |--- class: 0.0\n",
      "|   |   |   |   |   |   |   |   |--- feature_19 >  1.68\n",
      "|   |   |   |   |   |   |   |   |   |--- feature_15 <= 1.20\n",
      "|   |   |   |   |   |   |   |   |   |   |--- class: 0.0\n",
      "|   |   |   |   |   |   |   |   |   |--- feature_15 >  1.20\n",
      "|   |   |   |   |   |   |   |   |   |   |--- feature_3 <= 10.50\n",
      "|   |   |   |   |   |   |   |   |   |   |   |--- truncated branch of depth 9\n",
      "|   |   |   |   |   |   |   |   |   |   |--- feature_3 >  10.50\n",
      "|   |   |   |   |   |   |   |   |   |   |   |--- truncated branch of depth 2\n",
      "|   |   |   |--- feature_4 >  215.00\n",
      "|   |   |   |   |--- feature_11 <= 0.00\n",
      "|   |   |   |   |   |--- feature_4 <= 265.00\n",
      "|   |   |   |   |   |   |--- feature_14 <= 0.65\n",
      "|   |   |   |   |   |   |   |--- feature_19 <= 1.74\n",
      "|   |   |   |   |   |   |   |   |--- feature_15 <= 1.25\n",
      "|   |   |   |   |   |   |   |   |   |--- feature_17 <= -0.01\n",
      "|   |   |   |   |   |   |   |   |   |   |--- class: 0.0\n",
      "|   |   |   |   |   |   |   |   |   |--- feature_17 >  -0.01\n",
      "|   |   |   |   |   |   |   |   |   |   |--- feature_2 <= -13.00\n",
      "|   |   |   |   |   |   |   |   |   |   |   |--- class: 0.0\n",
      "|   |   |   |   |   |   |   |   |   |   |--- feature_2 >  -13.00\n",
      "|   |   |   |   |   |   |   |   |   |   |   |--- truncated branch of depth 8\n",
      "|   |   |   |   |   |   |   |   |--- feature_15 >  1.25\n",
      "|   |   |   |   |   |   |   |   |   |--- class: 0.0\n",
      "|   |   |   |   |   |   |   |--- feature_19 >  1.74\n",
      "|   |   |   |   |   |   |   |   |--- class: 0.0\n",
      "|   |   |   |   |   |   |--- feature_14 >  0.65\n",
      "|   |   |   |   |   |   |   |--- class: 0.0\n",
      "|   |   |   |   |   |--- feature_4 >  265.00\n",
      "|   |   |   |   |   |   |--- feature_11 <= 0.00\n",
      "|   |   |   |   |   |   |   |--- feature_1 <= 58.50\n",
      "|   |   |   |   |   |   |   |   |--- class: 0.0\n",
      "|   |   |   |   |   |   |   |--- feature_1 >  58.50\n",
      "|   |   |   |   |   |   |   |   |--- feature_7 <= 988.15\n",
      "|   |   |   |   |   |   |   |   |   |--- class: 0.0\n",
      "|   |   |   |   |   |   |   |   |--- feature_7 >  988.15\n",
      "|   |   |   |   |   |   |   |   |   |--- feature_19 <= 1.68\n",
      "|   |   |   |   |   |   |   |   |   |   |--- class: 0.0\n",
      "|   |   |   |   |   |   |   |   |   |--- feature_19 >  1.68\n",
      "|   |   |   |   |   |   |   |   |   |   |--- feature_0 <= 22.50\n",
      "|   |   |   |   |   |   |   |   |   |   |   |--- truncated branch of depth 7\n",
      "|   |   |   |   |   |   |   |   |   |   |--- feature_0 >  22.50\n",
      "|   |   |   |   |   |   |   |   |   |   |   |--- truncated branch of depth 2\n",
      "|   |   |   |   |   |   |--- feature_11 >  0.00\n",
      "|   |   |   |   |   |   |   |--- class: 0.0\n",
      "|   |   |   |   |--- feature_11 >  0.00\n",
      "|   |   |   |   |   |--- feature_16 <= 0.79\n",
      "|   |   |   |   |   |   |--- feature_15 <= 1.13\n",
      "|   |   |   |   |   |   |   |--- class: 0.0\n",
      "|   |   |   |   |   |   |--- feature_15 >  1.13\n",
      "|   |   |   |   |   |   |   |--- feature_7 <= 994.65\n",
      "|   |   |   |   |   |   |   |   |--- feature_1 <= 89.00\n",
      "|   |   |   |   |   |   |   |   |   |--- feature_0 <= 12.50\n",
      "|   |   |   |   |   |   |   |   |   |   |--- feature_17 <= 0.09\n",
      "|   |   |   |   |   |   |   |   |   |   |   |--- truncated branch of depth 5\n",
      "|   |   |   |   |   |   |   |   |   |   |--- feature_17 >  0.09\n",
      "|   |   |   |   |   |   |   |   |   |   |   |--- class: 0.0\n",
      "|   |   |   |   |   |   |   |   |   |--- feature_0 >  12.50\n",
      "|   |   |   |   |   |   |   |   |   |   |--- feature_2 <= 7.50\n",
      "|   |   |   |   |   |   |   |   |   |   |   |--- truncated branch of depth 10\n",
      "|   |   |   |   |   |   |   |   |   |   |--- feature_2 >  7.50\n",
      "|   |   |   |   |   |   |   |   |   |   |   |--- truncated branch of depth 10\n",
      "|   |   |   |   |   |   |   |   |--- feature_1 >  89.00\n",
      "|   |   |   |   |   |   |   |   |   |--- feature_10 <= -4.00\n",
      "|   |   |   |   |   |   |   |   |   |   |--- class: 0.0\n",
      "|   |   |   |   |   |   |   |   |   |--- feature_10 >  -4.00\n",
      "|   |   |   |   |   |   |   |   |   |   |--- class: 0.0\n",
      "|   |   |   |   |   |   |   |--- feature_7 >  994.65\n",
      "|   |   |   |   |   |   |   |   |--- feature_11 <= 0.03\n",
      "|   |   |   |   |   |   |   |   |   |--- feature_3 <= 17.50\n",
      "|   |   |   |   |   |   |   |   |   |   |--- feature_2 <= 12.50\n",
      "|   |   |   |   |   |   |   |   |   |   |   |--- truncated branch of depth 10\n",
      "|   |   |   |   |   |   |   |   |   |   |--- feature_2 >  12.50\n",
      "|   |   |   |   |   |   |   |   |   |   |   |--- truncated branch of depth 10\n",
      "|   |   |   |   |   |   |   |   |   |--- feature_3 >  17.50\n",
      "|   |   |   |   |   |   |   |   |   |   |--- feature_0 <= -13.00\n",
      "|   |   |   |   |   |   |   |   |   |   |   |--- class: 0.0\n",
      "|   |   |   |   |   |   |   |   |   |   |--- feature_0 >  -13.00\n",
      "|   |   |   |   |   |   |   |   |   |   |   |--- class: 0.0\n",
      "|   |   |   |   |   |   |   |   |--- feature_11 >  0.03\n",
      "|   |   |   |   |   |   |   |   |   |--- feature_0 <= 22.50\n",
      "|   |   |   |   |   |   |   |   |   |   |--- feature_15 <= 1.27\n",
      "|   |   |   |   |   |   |   |   |   |   |   |--- truncated branch of depth 10\n",
      "|   |   |   |   |   |   |   |   |   |   |--- feature_15 >  1.27\n",
      "|   |   |   |   |   |   |   |   |   |   |   |--- truncated branch of depth 2\n",
      "|   |   |   |   |   |   |   |   |   |--- feature_0 >  22.50\n",
      "|   |   |   |   |   |   |   |   |   |   |--- feature_10 <= 8.50\n",
      "|   |   |   |   |   |   |   |   |   |   |   |--- class: 0.0\n",
      "|   |   |   |   |   |   |   |   |   |   |--- feature_10 >  8.50\n",
      "|   |   |   |   |   |   |   |   |   |   |   |--- class: 0.0\n",
      "|   |   |   |   |   |--- feature_16 >  0.79\n",
      "|   |   |   |   |   |   |--- feature_5 <= 407.84\n",
      "|   |   |   |   |   |   |   |--- feature_2 <= 8.00\n",
      "|   |   |   |   |   |   |   |   |--- feature_15 <= 1.12\n",
      "|   |   |   |   |   |   |   |   |   |--- class: 0.0\n",
      "|   |   |   |   |   |   |   |   |--- feature_15 >  1.12\n",
      "|   |   |   |   |   |   |   |   |   |--- class: 0.0\n",
      "|   |   |   |   |   |   |   |--- feature_2 >  8.00\n",
      "|   |   |   |   |   |   |   |   |--- class: 1.0\n",
      "|   |   |   |   |   |   |--- feature_5 >  407.84\n",
      "|   |   |   |   |   |   |   |--- class: 0.0\n",
      "|   |   |--- feature_8 >  1028.75\n",
      "|   |   |   |--- feature_0 <= 9.50\n",
      "|   |   |   |   |--- class: 0.0\n",
      "|   |   |   |--- feature_0 >  9.50\n",
      "|   |   |   |   |--- feature_10 <= 9.50\n",
      "|   |   |   |   |   |--- feature_8 <= 1034.45\n",
      "|   |   |   |   |   |   |--- feature_11 <= 0.00\n",
      "|   |   |   |   |   |   |   |--- feature_4 <= 345.00\n",
      "|   |   |   |   |   |   |   |   |--- feature_18 <= 2.74\n",
      "|   |   |   |   |   |   |   |   |   |--- class: 0.0\n",
      "|   |   |   |   |   |   |   |   |--- feature_18 >  2.74\n",
      "|   |   |   |   |   |   |   |   |   |--- class: 0.0\n",
      "|   |   |   |   |   |   |   |--- feature_4 >  345.00\n",
      "|   |   |   |   |   |   |   |   |--- feature_7 <= 1005.50\n",
      "|   |   |   |   |   |   |   |   |   |--- class: 0.0\n",
      "|   |   |   |   |   |   |   |   |--- feature_7 >  1005.50\n",
      "|   |   |   |   |   |   |   |   |   |--- class: 1.0\n",
      "|   |   |   |   |   |   |--- feature_11 >  0.00\n",
      "|   |   |   |   |   |   |   |--- feature_18 <= 3.58\n",
      "|   |   |   |   |   |   |   |   |--- feature_11 <= 0.51\n",
      "|   |   |   |   |   |   |   |   |   |--- feature_1 <= 78.00\n",
      "|   |   |   |   |   |   |   |   |   |   |--- feature_5 <= 1550.00\n",
      "|   |   |   |   |   |   |   |   |   |   |   |--- truncated branch of depth 2\n",
      "|   |   |   |   |   |   |   |   |   |   |--- feature_5 >  1550.00\n",
      "|   |   |   |   |   |   |   |   |   |   |   |--- truncated branch of depth 10\n",
      "|   |   |   |   |   |   |   |   |   |--- feature_1 >  78.00\n",
      "|   |   |   |   |   |   |   |   |   |   |--- class: 0.0\n",
      "|   |   |   |   |   |   |   |   |--- feature_11 >  0.51\n",
      "|   |   |   |   |   |   |   |   |   |--- class: 0.0\n",
      "|   |   |   |   |   |   |   |--- feature_18 >  3.58\n",
      "|   |   |   |   |   |   |   |   |--- class: 0.0\n",
      "|   |   |   |   |   |--- feature_8 >  1034.45\n",
      "|   |   |   |   |   |   |--- class: 0.0\n",
      "|   |   |   |   |--- feature_10 >  9.50\n",
      "|   |   |   |   |   |--- class: 0.0\n",
      "|   |--- feature_10 >  15.34\n",
      "|   |   |--- feature_13 <= 43.95\n",
      "|   |   |   |--- feature_8 <= 1014.25\n",
      "|   |   |   |   |--- feature_5 <= 20500.00\n",
      "|   |   |   |   |   |--- feature_0 <= 43.50\n",
      "|   |   |   |   |   |   |--- feature_1 <= 95.50\n",
      "|   |   |   |   |   |   |   |--- feature_7 <= 976.55\n",
      "|   |   |   |   |   |   |   |   |--- feature_6 <= 1.50\n",
      "|   |   |   |   |   |   |   |   |   |--- feature_3 <= 13.00\n",
      "|   |   |   |   |   |   |   |   |   |   |--- class: 0.0\n",
      "|   |   |   |   |   |   |   |   |   |--- feature_3 >  13.00\n",
      "|   |   |   |   |   |   |   |   |   |   |--- class: 1.0\n",
      "|   |   |   |   |   |   |   |   |--- feature_6 >  1.50\n",
      "|   |   |   |   |   |   |   |   |   |--- class: 0.0\n",
      "|   |   |   |   |   |   |   |--- feature_7 >  976.55\n",
      "|   |   |   |   |   |   |   |   |--- feature_21 <= 0.50\n",
      "|   |   |   |   |   |   |   |   |   |--- feature_11 <= 0.00\n",
      "|   |   |   |   |   |   |   |   |   |   |--- feature_15 <= 1.22\n",
      "|   |   |   |   |   |   |   |   |   |   |   |--- truncated branch of depth 4\n",
      "|   |   |   |   |   |   |   |   |   |   |--- feature_15 >  1.22\n",
      "|   |   |   |   |   |   |   |   |   |   |   |--- truncated branch of depth 10\n",
      "|   |   |   |   |   |   |   |   |   |--- feature_11 >  0.00\n",
      "|   |   |   |   |   |   |   |   |   |   |--- feature_18 <= 2.79\n",
      "|   |   |   |   |   |   |   |   |   |   |   |--- class: 0.0\n",
      "|   |   |   |   |   |   |   |   |   |   |--- feature_18 >  2.79\n",
      "|   |   |   |   |   |   |   |   |   |   |   |--- class: 0.0\n",
      "|   |   |   |   |   |   |   |   |--- feature_21 >  0.50\n",
      "|   |   |   |   |   |   |   |   |   |--- feature_9 <= 0.01\n",
      "|   |   |   |   |   |   |   |   |   |   |--- feature_0 <= 31.50\n",
      "|   |   |   |   |   |   |   |   |   |   |   |--- truncated branch of depth 10\n",
      "|   |   |   |   |   |   |   |   |   |   |--- feature_0 >  31.50\n",
      "|   |   |   |   |   |   |   |   |   |   |   |--- truncated branch of depth 10\n",
      "|   |   |   |   |   |   |   |   |   |--- feature_9 >  0.01\n",
      "|   |   |   |   |   |   |   |   |   |   |--- class: 0.0\n",
      "|   |   |   |   |   |   |--- feature_1 >  95.50\n",
      "|   |   |   |   |   |   |   |--- feature_16 <= 0.54\n",
      "|   |   |   |   |   |   |   |   |--- class: 0.0\n",
      "|   |   |   |   |   |   |   |--- feature_16 >  0.54\n",
      "|   |   |   |   |   |   |   |   |--- class: 0.0\n",
      "|   |   |   |   |   |--- feature_0 >  43.50\n",
      "|   |   |   |   |   |   |--- feature_22 <= 0.50\n",
      "|   |   |   |   |   |   |   |--- class: 0.0\n",
      "|   |   |   |   |   |   |--- feature_22 >  0.50\n",
      "|   |   |   |   |   |   |   |--- class: 0.0\n",
      "|   |   |   |   |--- feature_5 >  20500.00\n",
      "|   |   |   |   |   |--- feature_11 <= 0.25\n",
      "|   |   |   |   |   |   |--- feature_2 <= 24.50\n",
      "|   |   |   |   |   |   |   |--- class: 0.0\n",
      "|   |   |   |   |   |   |--- feature_2 >  24.50\n",
      "|   |   |   |   |   |   |   |--- feature_7 <= 984.65\n",
      "|   |   |   |   |   |   |   |   |--- feature_15 <= 1.24\n",
      "|   |   |   |   |   |   |   |   |   |--- class: 0.0\n",
      "|   |   |   |   |   |   |   |   |--- feature_15 >  1.24\n",
      "|   |   |   |   |   |   |   |   |   |--- class: 1.0\n",
      "|   |   |   |   |   |   |   |--- feature_7 >  984.65\n",
      "|   |   |   |   |   |   |   |   |--- feature_17 <= 0.06\n",
      "|   |   |   |   |   |   |   |   |   |--- class: 1.0\n",
      "|   |   |   |   |   |   |   |   |--- feature_17 >  0.06\n",
      "|   |   |   |   |   |   |   |   |   |--- feature_18 <= 3.06\n",
      "|   |   |   |   |   |   |   |   |   |   |--- class: 0.0\n",
      "|   |   |   |   |   |   |   |   |   |--- feature_18 >  3.06\n",
      "|   |   |   |   |   |   |   |   |   |   |--- feature_13 <= 43.51\n",
      "|   |   |   |   |   |   |   |   |   |   |   |--- class: 0.0\n",
      "|   |   |   |   |   |   |   |   |   |   |--- feature_13 >  43.51\n",
      "|   |   |   |   |   |   |   |   |   |   |   |--- truncated branch of depth 3\n",
      "|   |   |   |   |   |--- feature_11 >  0.25\n",
      "|   |   |   |   |   |   |--- class: 0.0\n",
      "|   |   |   |--- feature_8 >  1014.25\n",
      "|   |   |   |   |--- feature_3 <= 14.50\n",
      "|   |   |   |   |   |--- feature_0 <= 27.50\n",
      "|   |   |   |   |   |   |--- feature_5 <= 1050.00\n",
      "|   |   |   |   |   |   |   |--- feature_8 <= 1018.35\n",
      "|   |   |   |   |   |   |   |   |--- feature_7 <= 994.35\n",
      "|   |   |   |   |   |   |   |   |   |--- class: 0.0\n",
      "|   |   |   |   |   |   |   |   |--- feature_7 >  994.35\n",
      "|   |   |   |   |   |   |   |   |   |--- class: 1.0\n",
      "|   |   |   |   |   |   |   |--- feature_8 >  1018.35\n",
      "|   |   |   |   |   |   |   |   |--- feature_17 <= -0.03\n",
      "|   |   |   |   |   |   |   |   |   |--- class: 0.0\n",
      "|   |   |   |   |   |   |   |   |--- feature_17 >  -0.03\n",
      "|   |   |   |   |   |   |   |   |   |--- class: 0.0\n",
      "|   |   |   |   |   |   |--- feature_5 >  1050.00\n",
      "|   |   |   |   |   |   |   |--- feature_15 <= 1.24\n",
      "|   |   |   |   |   |   |   |   |--- feature_1 <= 58.50\n",
      "|   |   |   |   |   |   |   |   |   |--- class: 0.0\n",
      "|   |   |   |   |   |   |   |   |--- feature_1 >  58.50\n",
      "|   |   |   |   |   |   |   |   |   |--- feature_1 <= 89.50\n",
      "|   |   |   |   |   |   |   |   |   |   |--- feature_8 <= 1031.05\n",
      "|   |   |   |   |   |   |   |   |   |   |   |--- truncated branch of depth 10\n",
      "|   |   |   |   |   |   |   |   |   |   |--- feature_8 >  1031.05\n",
      "|   |   |   |   |   |   |   |   |   |   |   |--- class: 0.0\n",
      "|   |   |   |   |   |   |   |   |   |--- feature_1 >  89.50\n",
      "|   |   |   |   |   |   |   |   |   |   |--- class: 0.0\n",
      "|   |   |   |   |   |   |   |--- feature_15 >  1.24\n",
      "|   |   |   |   |   |   |   |   |--- class: 0.0\n",
      "|   |   |   |   |   |--- feature_0 >  27.50\n",
      "|   |   |   |   |   |   |--- feature_0 <= 33.50\n",
      "|   |   |   |   |   |   |   |--- class: 0.0\n",
      "|   |   |   |   |   |   |--- feature_0 >  33.50\n",
      "|   |   |   |   |   |   |   |--- feature_12 <= -86.73\n",
      "|   |   |   |   |   |   |   |   |--- feature_7 <= 991.15\n",
      "|   |   |   |   |   |   |   |   |   |--- class: 0.0\n",
      "|   |   |   |   |   |   |   |   |--- feature_7 >  991.15\n",
      "|   |   |   |   |   |   |   |   |   |--- feature_2 <= 25.50\n",
      "|   |   |   |   |   |   |   |   |   |   |--- class: 0.0\n",
      "|   |   |   |   |   |   |   |   |   |--- feature_2 >  25.50\n",
      "|   |   |   |   |   |   |   |   |   |   |--- feature_2 <= 31.50\n",
      "|   |   |   |   |   |   |   |   |   |   |   |--- truncated branch of depth 10\n",
      "|   |   |   |   |   |   |   |   |   |   |--- feature_2 >  31.50\n",
      "|   |   |   |   |   |   |   |   |   |   |   |--- class: 0.0\n",
      "|   |   |   |   |   |   |   |--- feature_12 >  -86.73\n",
      "|   |   |   |   |   |   |   |   |--- class: 0.0\n",
      "|   |   |   |   |--- feature_3 >  14.50\n",
      "|   |   |   |   |   |--- feature_7 <= 993.00\n",
      "|   |   |   |   |   |   |--- class: 0.0\n",
      "|   |   |   |   |   |--- feature_7 >  993.00\n",
      "|   |   |   |   |   |   |--- feature_0 <= 41.50\n",
      "|   |   |   |   |   |   |   |--- feature_22 <= 0.50\n",
      "|   |   |   |   |   |   |   |   |--- feature_4 <= 195.00\n",
      "|   |   |   |   |   |   |   |   |   |--- class: 0.0\n",
      "|   |   |   |   |   |   |   |   |--- feature_4 >  195.00\n",
      "|   |   |   |   |   |   |   |   |   |--- feature_11 <= 0.53\n",
      "|   |   |   |   |   |   |   |   |   |   |--- feature_13 <= 43.93\n",
      "|   |   |   |   |   |   |   |   |   |   |   |--- truncated branch of depth 10\n",
      "|   |   |   |   |   |   |   |   |   |   |--- feature_13 >  43.93\n",
      "|   |   |   |   |   |   |   |   |   |   |   |--- class: 0.0\n",
      "|   |   |   |   |   |   |   |   |   |--- feature_11 >  0.53\n",
      "|   |   |   |   |   |   |   |   |   |   |--- class: 0.0\n",
      "|   |   |   |   |   |   |   |--- feature_22 >  0.50\n",
      "|   |   |   |   |   |   |   |   |--- class: 0.0\n",
      "|   |   |   |   |   |   |--- feature_0 >  41.50\n",
      "|   |   |   |   |   |   |   |--- class: 0.0\n",
      "|   |   |--- feature_13 >  43.95\n",
      "|   |   |   |--- feature_1 <= 63.50\n",
      "|   |   |   |   |--- class: 0.0\n",
      "|   |   |   |--- feature_1 >  63.50\n",
      "|   |   |   |   |--- feature_5 <= 4550.00\n",
      "|   |   |   |   |   |--- feature_14 <= 0.69\n",
      "|   |   |   |   |   |   |--- feature_1 <= 78.50\n",
      "|   |   |   |   |   |   |   |--- feature_13 <= 44.07\n",
      "|   |   |   |   |   |   |   |   |--- feature_16 <= 0.58\n",
      "|   |   |   |   |   |   |   |   |   |--- feature_7 <= 986.75\n",
      "|   |   |   |   |   |   |   |   |   |   |--- class: 0.0\n",
      "|   |   |   |   |   |   |   |   |   |--- feature_7 >  986.75\n",
      "|   |   |   |   |   |   |   |   |   |   |--- feature_2 <= 28.50\n",
      "|   |   |   |   |   |   |   |   |   |   |   |--- truncated branch of depth 5\n",
      "|   |   |   |   |   |   |   |   |   |   |--- feature_2 >  28.50\n",
      "|   |   |   |   |   |   |   |   |   |   |   |--- truncated branch of depth 2\n",
      "|   |   |   |   |   |   |   |   |--- feature_16 >  0.58\n",
      "|   |   |   |   |   |   |   |   |   |--- feature_8 <= 1014.00\n",
      "|   |   |   |   |   |   |   |   |   |   |--- feature_18 <= 2.90\n",
      "|   |   |   |   |   |   |   |   |   |   |   |--- truncated branch of depth 2\n",
      "|   |   |   |   |   |   |   |   |   |   |--- feature_18 >  2.90\n",
      "|   |   |   |   |   |   |   |   |   |   |   |--- truncated branch of depth 5\n",
      "|   |   |   |   |   |   |   |   |   |--- feature_8 >  1014.00\n",
      "|   |   |   |   |   |   |   |   |   |   |--- feature_6 <= 2.00\n",
      "|   |   |   |   |   |   |   |   |   |   |   |--- class: 0.0\n",
      "|   |   |   |   |   |   |   |   |   |   |--- feature_6 >  2.00\n",
      "|   |   |   |   |   |   |   |   |   |   |   |--- class: 0.0\n",
      "|   |   |   |   |   |   |   |--- feature_13 >  44.07\n",
      "|   |   |   |   |   |   |   |   |--- class: 0.0\n",
      "|   |   |   |   |   |   |--- feature_1 >  78.50\n",
      "|   |   |   |   |   |   |   |--- feature_19 <= 1.76\n",
      "|   |   |   |   |   |   |   |   |--- feature_14 <= 0.60\n",
      "|   |   |   |   |   |   |   |   |   |--- class: 0.0\n",
      "|   |   |   |   |   |   |   |   |--- feature_14 >  0.60\n",
      "|   |   |   |   |   |   |   |   |   |--- class: 0.0\n",
      "|   |   |   |   |   |   |   |--- feature_19 >  1.76\n",
      "|   |   |   |   |   |   |   |   |--- feature_8 <= 1015.05\n",
      "|   |   |   |   |   |   |   |   |   |--- class: 0.0\n",
      "|   |   |   |   |   |   |   |   |--- feature_8 >  1015.05\n",
      "|   |   |   |   |   |   |   |   |   |--- feature_8 <= 1015.95\n",
      "|   |   |   |   |   |   |   |   |   |   |--- class: 1.0\n",
      "|   |   |   |   |   |   |   |   |   |--- feature_8 >  1015.95\n",
      "|   |   |   |   |   |   |   |   |   |   |--- feature_3 <= 1.50\n",
      "|   |   |   |   |   |   |   |   |   |   |   |--- class: 0.0\n",
      "|   |   |   |   |   |   |   |   |   |   |--- feature_3 >  1.50\n",
      "|   |   |   |   |   |   |   |   |   |   |   |--- class: 0.0\n",
      "|   |   |   |   |   |--- feature_14 >  0.69\n",
      "|   |   |   |   |   |   |--- class: 0.0\n",
      "|   |   |   |   |--- feature_5 >  4550.00\n",
      "|   |   |   |   |   |--- class: 0.0\n",
      "|--- feature_2 >  33.50\n",
      "|   |--- feature_15 <= 1.19\n",
      "|   |   |--- feature_10 <= 37.50\n",
      "|   |   |   |--- class: 0.0\n",
      "|   |   |--- feature_10 >  37.50\n",
      "|   |   |   |--- feature_5 <= 207.84\n",
      "|   |   |   |   |--- feature_3 <= 11.50\n",
      "|   |   |   |   |   |--- feature_7 <= 985.45\n",
      "|   |   |   |   |   |   |--- class: 0.0\n",
      "|   |   |   |   |   |--- feature_7 >  985.45\n",
      "|   |   |   |   |   |   |--- class: 0.0\n",
      "|   |   |   |   |--- feature_3 >  11.50\n",
      "|   |   |   |   |   |--- class: 1.0\n",
      "|   |   |   |--- feature_5 >  207.84\n",
      "|   |   |   |   |--- class: 0.0\n",
      "|   |--- feature_15 >  1.19\n",
      "|   |   |--- feature_12 <= -86.91\n",
      "|   |   |   |--- class: 0.0\n",
      "|   |   |--- feature_12 >  -86.91\n",
      "|   |   |   |--- class: 0.0\n",
      "\n"
     ]
    }
   ],
   "source": [
    "text_representation = tree.export_text(dec_tree_2)\n",
    "print(text_representation)"
   ]
  },
  {
   "cell_type": "markdown",
   "id": "76d2a3c9",
   "metadata": {},
   "source": [
    "# Key Takeaways\n",
    "\n",
    "1. In case of the tuned model, highest feature importance is given to DewPt\n",
    "2. Whereas in case of non tuned model, Atm Press is given the highest importance\n",
    "3. We get a reduced mean accuracy post tuning of 89% \n",
    "4. However, our testing set F1 score increases by 3% \n",
    "5. Thus, we can conclude that Hyper parameter tuning helps to overall improve the model. "
   ]
  },
  {
   "cell_type": "code",
   "execution_count": 42,
   "id": "3a1b028e",
   "metadata": {},
   "outputs": [
    {
     "ename": "KeyboardInterrupt",
     "evalue": "",
     "output_type": "error",
     "traceback": [
      "\u001b[1;31m---------------------------------------------------------------------------\u001b[0m",
      "\u001b[1;31mKeyboardInterrupt\u001b[0m                         Traceback (most recent call last)",
      "\u001b[1;32m~\\AppData\\Local\\Temp\\ipykernel_32480\\2961204253.py\u001b[0m in \u001b[0;36m<module>\u001b[1;34m\u001b[0m\n\u001b[0;32m      1\u001b[0m \u001b[1;32mfrom\u001b[0m \u001b[0msklearn\u001b[0m\u001b[1;33m.\u001b[0m\u001b[0msvm\u001b[0m \u001b[1;32mimport\u001b[0m \u001b[0mSVC\u001b[0m\u001b[1;33m\u001b[0m\u001b[1;33m\u001b[0m\u001b[0m\n\u001b[0;32m      2\u001b[0m \u001b[0msvcclf\u001b[0m \u001b[1;33m=\u001b[0m \u001b[0mSVC\u001b[0m\u001b[1;33m(\u001b[0m\u001b[0mkernel\u001b[0m \u001b[1;33m=\u001b[0m \u001b[1;34m'linear'\u001b[0m\u001b[1;33m,\u001b[0m\u001b[0mgamma\u001b[0m \u001b[1;33m=\u001b[0m \u001b[1;34m'scale'\u001b[0m\u001b[1;33m,\u001b[0m \u001b[0mshrinking\u001b[0m \u001b[1;33m=\u001b[0m \u001b[1;32mFalse\u001b[0m\u001b[1;33m,\u001b[0m\u001b[1;33m)\u001b[0m\u001b[1;33m\u001b[0m\u001b[1;33m\u001b[0m\u001b[0m\n\u001b[1;32m----> 3\u001b[1;33m \u001b[0msvcclf\u001b[0m\u001b[1;33m.\u001b[0m\u001b[0mfit\u001b[0m\u001b[1;33m(\u001b[0m\u001b[0mX\u001b[0m\u001b[1;33m=\u001b[0m\u001b[0mX_train\u001b[0m\u001b[1;33m,\u001b[0m\u001b[0my\u001b[0m\u001b[1;33m=\u001b[0m\u001b[0my_train\u001b[0m\u001b[1;33m)\u001b[0m\u001b[1;33m\u001b[0m\u001b[1;33m\u001b[0m\u001b[0m\n\u001b[0m",
      "\u001b[1;32m~\\anaconda3\\lib\\site-packages\\sklearn\\svm\\_base.py\u001b[0m in \u001b[0;36mfit\u001b[1;34m(self, X, y, sample_weight)\u001b[0m\n\u001b[0;32m    253\u001b[0m \u001b[1;33m\u001b[0m\u001b[0m\n\u001b[0;32m    254\u001b[0m         \u001b[0mseed\u001b[0m \u001b[1;33m=\u001b[0m \u001b[0mrnd\u001b[0m\u001b[1;33m.\u001b[0m\u001b[0mrandint\u001b[0m\u001b[1;33m(\u001b[0m\u001b[0mnp\u001b[0m\u001b[1;33m.\u001b[0m\u001b[0miinfo\u001b[0m\u001b[1;33m(\u001b[0m\u001b[1;34m\"i\"\u001b[0m\u001b[1;33m)\u001b[0m\u001b[1;33m.\u001b[0m\u001b[0mmax\u001b[0m\u001b[1;33m)\u001b[0m\u001b[1;33m\u001b[0m\u001b[1;33m\u001b[0m\u001b[0m\n\u001b[1;32m--> 255\u001b[1;33m         \u001b[0mfit\u001b[0m\u001b[1;33m(\u001b[0m\u001b[0mX\u001b[0m\u001b[1;33m,\u001b[0m \u001b[0my\u001b[0m\u001b[1;33m,\u001b[0m \u001b[0msample_weight\u001b[0m\u001b[1;33m,\u001b[0m \u001b[0msolver_type\u001b[0m\u001b[1;33m,\u001b[0m \u001b[0mkernel\u001b[0m\u001b[1;33m,\u001b[0m \u001b[0mrandom_seed\u001b[0m\u001b[1;33m=\u001b[0m\u001b[0mseed\u001b[0m\u001b[1;33m)\u001b[0m\u001b[1;33m\u001b[0m\u001b[1;33m\u001b[0m\u001b[0m\n\u001b[0m\u001b[0;32m    256\u001b[0m         \u001b[1;31m# see comment on the other call to np.iinfo in this file\u001b[0m\u001b[1;33m\u001b[0m\u001b[1;33m\u001b[0m\u001b[0m\n\u001b[0;32m    257\u001b[0m \u001b[1;33m\u001b[0m\u001b[0m\n",
      "\u001b[1;32m~\\anaconda3\\lib\\site-packages\\sklearn\\svm\\_base.py\u001b[0m in \u001b[0;36m_dense_fit\u001b[1;34m(self, X, y, sample_weight, solver_type, kernel, random_seed)\u001b[0m\n\u001b[0;32m    313\u001b[0m             \u001b[0mself\u001b[0m\u001b[1;33m.\u001b[0m\u001b[0m_probB\u001b[0m\u001b[1;33m,\u001b[0m\u001b[1;33m\u001b[0m\u001b[1;33m\u001b[0m\u001b[0m\n\u001b[0;32m    314\u001b[0m             \u001b[0mself\u001b[0m\u001b[1;33m.\u001b[0m\u001b[0mfit_status_\u001b[0m\u001b[1;33m,\u001b[0m\u001b[1;33m\u001b[0m\u001b[1;33m\u001b[0m\u001b[0m\n\u001b[1;32m--> 315\u001b[1;33m         \u001b[1;33m)\u001b[0m \u001b[1;33m=\u001b[0m \u001b[0mlibsvm\u001b[0m\u001b[1;33m.\u001b[0m\u001b[0mfit\u001b[0m\u001b[1;33m(\u001b[0m\u001b[1;33m\u001b[0m\u001b[1;33m\u001b[0m\u001b[0m\n\u001b[0m\u001b[0;32m    316\u001b[0m             \u001b[0mX\u001b[0m\u001b[1;33m,\u001b[0m\u001b[1;33m\u001b[0m\u001b[1;33m\u001b[0m\u001b[0m\n\u001b[0;32m    317\u001b[0m             \u001b[0my\u001b[0m\u001b[1;33m,\u001b[0m\u001b[1;33m\u001b[0m\u001b[1;33m\u001b[0m\u001b[0m\n",
      "\u001b[1;31mKeyboardInterrupt\u001b[0m: "
     ]
    }
   ],
   "source": [
    "from sklearn.svm import SVC\n",
    "svcclf = SVC(kernel = 'linear',gamma = 'scale', shrinking = False,)\n",
    "svcclf.fit(X=X_train,y=y_train)"
   ]
  },
  {
   "cell_type": "code",
   "execution_count": null,
   "id": "95eb8466",
   "metadata": {},
   "outputs": [],
   "source": [
    "y_pred = svcclf.predict(X_test)\n",
    "print(\"R^2 : \", r2_score(y_test, y_pred))\n",
    "print(\"MAE :\", mean_absolute_error(y_test,y_pred))\n",
    "print(\"RMSE:\",np.sqrt(mean_squared_error(y_test, y_pred)))\n",
    "print(\"Area under curve is : \",roc_auc)\n",
    "print('Testing Set Evaluation F1-Score:',f1_score(y_test,y_pred))"
   ]
  }
 ],
 "metadata": {
  "kernelspec": {
   "display_name": "Python 3 (ipykernel)",
   "language": "python",
   "name": "python3"
  },
  "language_info": {
   "codemirror_mode": {
    "name": "ipython",
    "version": 3
   },
   "file_extension": ".py",
   "mimetype": "text/x-python",
   "name": "python",
   "nbconvert_exporter": "python",
   "pygments_lexer": "ipython3",
   "version": "3.9.13"
  }
 },
 "nbformat": 4,
 "nbformat_minor": 5
}
